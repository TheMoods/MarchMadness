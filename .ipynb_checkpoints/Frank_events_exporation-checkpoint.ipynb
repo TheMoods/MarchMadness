{
 "cells": [
  {
   "cell_type": "code",
   "execution_count": 65,
   "metadata": {
    "collapsed": true
   },
   "outputs": [],
   "source": [
    "import numpy as np\n",
    "import pandas as pd\n",
    "import os\n",
    "import matplotlib.pyplot as plt"
   ]
  },
  {
   "cell_type": "code",
   "execution_count": null,
   "metadata": {
    "collapsed": true
   },
   "outputs": [],
   "source": []
  },
  {
   "cell_type": "code",
   "execution_count": 8,
   "metadata": {},
   "outputs": [],
   "source": [
    "event_dir = \"/home/frank/Documents/Kaggle_comp/data/Events\"\n",
    "events_paths = os.listdir(event_dir)"
   ]
  },
  {
   "cell_type": "code",
   "execution_count": 20,
   "metadata": {},
   "outputs": [],
   "source": [
    "evnt_2016_path = os.path.join(event_dir,events_paths[0])\n",
    "events_df = pd.read_csv(evnt_2016_path)"
   ]
  },
  {
   "cell_type": "code",
   "execution_count": 44,
   "metadata": {},
   "outputs": [
    {
     "data": {
      "text/html": [
       "<div>\n",
       "<style>\n",
       "    .dataframe thead tr:only-child th {\n",
       "        text-align: right;\n",
       "    }\n",
       "\n",
       "    .dataframe thead th {\n",
       "        text-align: left;\n",
       "    }\n",
       "\n",
       "    .dataframe tbody tr th {\n",
       "        vertical-align: top;\n",
       "    }\n",
       "</style>\n",
       "<table border=\"1\" class=\"dataframe\">\n",
       "  <thead>\n",
       "    <tr style=\"text-align: right;\">\n",
       "      <th></th>\n",
       "      <th>EventID</th>\n",
       "      <th>Season</th>\n",
       "      <th>DayNum</th>\n",
       "      <th>WTeamID</th>\n",
       "      <th>LTeamID</th>\n",
       "      <th>WPoints</th>\n",
       "      <th>LPoints</th>\n",
       "      <th>ElapsedSeconds</th>\n",
       "      <th>EventTeamID</th>\n",
       "      <th>EventPlayerID</th>\n",
       "      <th>EventType</th>\n",
       "    </tr>\n",
       "  </thead>\n",
       "  <tbody>\n",
       "    <tr>\n",
       "      <th>24</th>\n",
       "      <td>15252406</td>\n",
       "      <td>2016</td>\n",
       "      <td>11</td>\n",
       "      <td>1104</td>\n",
       "      <td>1244</td>\n",
       "      <td>1</td>\n",
       "      <td>0</td>\n",
       "      <td>109</td>\n",
       "      <td>1104</td>\n",
       "      <td>631926</td>\n",
       "      <td>made1_free</td>\n",
       "    </tr>\n",
       "    <tr>\n",
       "      <th>25</th>\n",
       "      <td>15252407</td>\n",
       "      <td>2016</td>\n",
       "      <td>11</td>\n",
       "      <td>1104</td>\n",
       "      <td>1244</td>\n",
       "      <td>2</td>\n",
       "      <td>0</td>\n",
       "      <td>109</td>\n",
       "      <td>1104</td>\n",
       "      <td>631926</td>\n",
       "      <td>made1_free</td>\n",
       "    </tr>\n",
       "    <tr>\n",
       "      <th>29</th>\n",
       "      <td>15252411</td>\n",
       "      <td>2016</td>\n",
       "      <td>11</td>\n",
       "      <td>1104</td>\n",
       "      <td>1244</td>\n",
       "      <td>2</td>\n",
       "      <td>1</td>\n",
       "      <td>132</td>\n",
       "      <td>1244</td>\n",
       "      <td>634018</td>\n",
       "      <td>made1_free</td>\n",
       "    </tr>\n",
       "    <tr>\n",
       "      <th>44</th>\n",
       "      <td>15252426</td>\n",
       "      <td>2016</td>\n",
       "      <td>11</td>\n",
       "      <td>1104</td>\n",
       "      <td>1244</td>\n",
       "      <td>4</td>\n",
       "      <td>1</td>\n",
       "      <td>195</td>\n",
       "      <td>1104</td>\n",
       "      <td>631931</td>\n",
       "      <td>made2_lay</td>\n",
       "    </tr>\n",
       "    <tr>\n",
       "      <th>48</th>\n",
       "      <td>15252430</td>\n",
       "      <td>2016</td>\n",
       "      <td>11</td>\n",
       "      <td>1104</td>\n",
       "      <td>1244</td>\n",
       "      <td>6</td>\n",
       "      <td>1</td>\n",
       "      <td>226</td>\n",
       "      <td>1104</td>\n",
       "      <td>631931</td>\n",
       "      <td>made2_lay</td>\n",
       "    </tr>\n",
       "  </tbody>\n",
       "</table>\n",
       "</div>"
      ],
      "text/plain": [
       "     EventID  Season  DayNum  WTeamID  LTeamID  WPoints  LPoints  \\\n",
       "24  15252406    2016      11     1104     1244        1        0   \n",
       "25  15252407    2016      11     1104     1244        2        0   \n",
       "29  15252411    2016      11     1104     1244        2        1   \n",
       "44  15252426    2016      11     1104     1244        4        1   \n",
       "48  15252430    2016      11     1104     1244        6        1   \n",
       "\n",
       "    ElapsedSeconds  EventTeamID  EventPlayerID   EventType  \n",
       "24             109         1104         631926  made1_free  \n",
       "25             109         1104         631926  made1_free  \n",
       "29             132         1244         634018  made1_free  \n",
       "44             195         1104         631931   made2_lay  \n",
       "48             226         1104         631931   made2_lay  "
      ]
     },
     "execution_count": 44,
     "metadata": {},
     "output_type": "execute_result"
    }
   ],
   "source": [
    "events_df.loc[events_df['WPoints'] > 0].head()\n",
    "# how did team 1104 made1_free twice at the same second and got an extra point?"
   ]
  },
  {
   "cell_type": "code",
   "execution_count": 26,
   "metadata": {},
   "outputs": [
    {
     "data": {
      "text/plain": [
       "2638279"
      ]
     },
     "execution_count": 26,
     "metadata": {},
     "output_type": "execute_result"
    }
   ],
   "source": [
    "len(events_df)"
   ]
  },
  {
   "cell_type": "code",
   "execution_count": 83,
   "metadata": {},
   "outputs": [],
   "source": [
    "event_count = events_df.groupby(['EventType']).count()['EventID']\n",
    "unique_events = np.unique(events_df['EventType'])"
   ]
  },
  {
   "cell_type": "code",
   "execution_count": 43,
   "metadata": {},
   "outputs": [],
   "source": [
    "event_count = events_df.groupby(['EventType']).count()['EventID']"
   ]
  },
  {
   "cell_type": "markdown",
   "metadata": {},
   "source": [
    "all events that have \"made\" in them score points  <br /> \n",
    "number of teams = 351 <br />\n",
    "2,638,279 events"
   ]
  },
  {
   "cell_type": "code",
   "execution_count": 53,
   "metadata": {},
   "outputs": [],
   "source": [
    "# find correlation of the events depending on the \n",
    "# select a single game\n",
    "game_1 = events_df.loc[events_df[\"WTeamID\"] == 1104] #and events_df[\"LTeamID\"] == 1244]\n",
    "#events_df.apply(lambda x: np.all(events_df[\"WTeamID\"] ==1104))"
   ]
  },
  {
   "cell_type": "code",
   "execution_count": 57,
   "metadata": {},
   "outputs": [
    {
     "data": {
      "text/plain": [
       "8922"
      ]
     },
     "execution_count": 57,
     "metadata": {},
     "output_type": "execute_result"
    }
   ],
   "source": [
    "game_1 = events_df.loc[events_df[\"LTeamID\"] == 1244]\n",
    "len(game_1)"
   ]
  },
  {
   "cell_type": "code",
   "execution_count": 122,
   "metadata": {},
   "outputs": [],
   "source": [
    "#game_1[:50]\n",
    "# plot eventType against ElapsedSeconds\n",
    "# convert EventType into a numeric values and plot the names as a legend\n",
    "time_map = game_1[[\"ElapsedSeconds\", \"EventType\"]]\n",
    "time_map = time_map.drop_duplicates(\"ElapsedSeconds\")\n",
    "seconds = list(time_map['ElapsedSeconds'])\n",
    "game_events = list(time_map['EventType'])\n",
    "\n",
    "event_key = {}\n",
    "for idx,event in enumerate(unique_events):\n",
    "    event_key[event] = idx"
   ]
  },
  {
   "cell_type": "code",
   "execution_count": 123,
   "metadata": {},
   "outputs": [],
   "source": [
    "id_array = []\n",
    "for event in game_events:\n",
    "    event_id = event_key[event]\n",
    "    id_array.append(event_id)\n",
    "\n",
    "time_map[\"Event_ID\"] = id_array"
   ]
  },
  {
   "cell_type": "code",
   "execution_count": 126,
   "metadata": {},
   "outputs": [
    {
     "data": {
      "text/plain": [
       "[13, 16, 29, 31, 33, 43, 54, 64, 67, 75]"
      ]
     },
     "execution_count": 126,
     "metadata": {},
     "output_type": "execute_result"
    }
   ],
   "source": []
  },
  {
   "cell_type": "code",
   "execution_count": 128,
   "metadata": {},
   "outputs": [
    {
     "data": {
      "image/png": "[encoded data removed]",
      "text/plain": [
       "<matplotlib.figure.Figure at 0x7f88d18e9550>"
      ]
     },
     "metadata": {},
     "output_type": "display_data"
    }
   ],
   "source": [
    "plt.plot(seconds, id_array)\n",
    "plt.show()"
   ]
  },
  {
   "cell_type": "code",
   "execution_count": 110,
   "metadata": {},
   "outputs": [
    {
     "data": {
      "text/plain": [
       "[13, 18, 2, 10]"
      ]
     },
     "execution_count": 110,
     "metadata": {},
     "output_type": "execute_result"
    }
   ],
   "source": [
    "#game_events[0]\n",
    "id_array[:4]"
   ]
  }
 ],
 "metadata": {
  "kernelspec": {
   "display_name": "Python 2",
   "language": "python",
   "name": "python2"
  },
  "language_info": {
   "codemirror_mode": {
    "name": "ipython",
    "version": 2
   },
   "file_extension": ".py",
   "mimetype": "text/x-python",
   "name": "python",
   "nbconvert_exporter": "python",
   "pygments_lexer": "ipython2",
   "version": "2.7.13"
  }
 },
 "nbformat": 4,
 "nbformat_minor": 2
}
