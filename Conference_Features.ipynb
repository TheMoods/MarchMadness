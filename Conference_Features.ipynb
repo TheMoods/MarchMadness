{
 "cells": [
  {
   "cell_type": "code",
   "execution_count": 291,
   "metadata": {},
   "outputs": [
    {
     "name": "stdout",
     "output_type": "stream",
     "text": [
      "The autoreload extension is already loaded. To reload it, use:\n",
      "  %reload_ext autoreload\n"
     ]
    }
   ],
   "source": [
    "%load_ext autoreload\n",
    "%autoreload 2\n",
    "import numpy as np\n",
    "import pandas as pd\n",
    "from src.features.conferences import ConferenceFeatures\n",
    "from src.utils import load_data_template\n"
   ]
  },
  {
   "cell_type": "code",
   "execution_count": 292,
   "metadata": {},
   "outputs": [
    {
     "name": "stdout",
     "output_type": "stream",
     "text": [
      "(2117, 9)\n"
     ]
    },
    {
     "data": {
      "text/html": [
       "<div>\n",
       "<style scoped>\n",
       "    .dataframe tbody tr th:only-of-type {\n",
       "        vertical-align: middle;\n",
       "    }\n",
       "\n",
       "    .dataframe tbody tr th {\n",
       "        vertical-align: top;\n",
       "    }\n",
       "\n",
       "    .dataframe thead th {\n",
       "        text-align: right;\n",
       "    }\n",
       "</style>\n",
       "<table border=\"1\" class=\"dataframe\">\n",
       "  <thead>\n",
       "    <tr style=\"text-align: right;\">\n",
       "      <th></th>\n",
       "      <th>Season</th>\n",
       "      <th>team_a</th>\n",
       "      <th>team_b</th>\n",
       "      <th>in_target</th>\n",
       "      <th>game_set</th>\n",
       "      <th>a_win</th>\n",
       "      <th>DayNum</th>\n",
       "      <th>conference_team_a</th>\n",
       "      <th>conference_team_b</th>\n",
       "    </tr>\n",
       "  </thead>\n",
       "  <tbody>\n",
       "    <tr>\n",
       "      <th>9814</th>\n",
       "      <td>1996</td>\n",
       "      <td>1280</td>\n",
       "      <td>1433</td>\n",
       "      <td>False</td>\n",
       "      <td>0</td>\n",
       "      <td>True</td>\n",
       "      <td>136</td>\n",
       "      <td>42</td>\n",
       "      <td>14</td>\n",
       "    </tr>\n",
       "  </tbody>\n",
       "</table>\n",
       "</div>"
      ],
      "text/plain": [
       "      Season team_a team_b  in_target  game_set a_win  DayNum  \\\n",
       "9814    1996   1280   1433      False         0  True     136   \n",
       "\n",
       "      conference_team_a  conference_team_b  \n",
       "9814                 42                 14  "
      ]
     },
     "execution_count": 292,
     "metadata": {},
     "output_type": "execute_result"
    }
   ],
   "source": [
    "data = load_data_template(season=False)\n",
    "data.dropna(subset=['a_win'], inplace=True)\n",
    "conf_feat = ConferenceFeatures(default_lags=0)\n",
    "data = conf_feat.per_team_wrapper(data, conf_feat.conference_games, per_game=False, per_day=False)\n",
    "data.dropna(inplace=True)\n",
    "print(data.shape)\n",
    "data.sample()"
   ]
  },
  {
   "cell_type": "code",
   "execution_count": 293,
   "metadata": {},
   "outputs": [
    {
     "data": {
      "text/plain": [
       "Index(['Season', 'team_a', 'team_b', 'in_target', 'game_set', 'a_win',\n",
       "       'DayNum', 'conference_team_a', 'conference_team_b'],\n",
       "      dtype='object')"
      ]
     },
     "execution_count": 293,
     "metadata": {},
     "output_type": "execute_result"
    }
   ],
   "source": [
    "data.columns"
   ]
  },
  {
   "cell_type": "code",
   "execution_count": 294,
   "metadata": {
    "scrolled": true
   },
   "outputs": [
    {
     "data": {
      "text/plain": [
       "15       42\n",
       "31       36\n",
       "130      11\n",
       "148      50\n",
       "176      34\n",
       "192       9\n",
       "195      11\n",
       "247      12\n",
       "268       7\n",
       "293      11\n",
       "322      11\n",
       "362      39\n",
       "435      47\n",
       "444      31\n",
       "459      25\n",
       "559       3\n",
       "601       3\n",
       "630      42\n",
       "635      12\n",
       "638      42\n",
       "645      11\n",
       "662       1\n",
       "673       7\n",
       "727      46\n",
       "741      42\n",
       "765      11\n",
       "775      39\n",
       "776       3\n",
       "810      11\n",
       "861       0\n",
       "         ..\n",
       "10931     7\n",
       "10932     7\n",
       "10933     1\n",
       "10934    11\n",
       "10935     1\n",
       "10936     7\n",
       "10937    31\n",
       "10938     3\n",
       "10939    34\n",
       "10940    11\n",
       "10941     1\n",
       "10942     3\n",
       "10943    42\n",
       "10944     3\n",
       "10945    11\n",
       "10946     3\n",
       "10947    11\n",
       "10948     7\n",
       "10949    31\n",
       "10950    11\n",
       "10951    42\n",
       "10952    39\n",
       "10953    11\n",
       "10954     7\n",
       "10955    31\n",
       "10956     7\n",
       "10957    11\n",
       "10958    31\n",
       "10959     7\n",
       "10960    11\n",
       "Name: conference_team_b, Length: 2117, dtype: int64"
      ]
     },
     "execution_count": 294,
     "metadata": {},
     "output_type": "execute_result"
    }
   ],
   "source": [
    "data.conference_team_b"
   ]
  },
  {
   "cell_type": "code",
   "execution_count": 296,
   "metadata": {
    "scrolled": true
   },
   "outputs": [
    {
     "name": "stdout",
     "output_type": "stream",
     "text": [
      "0.641950120148\n",
      "0.628830014921\n",
      "0.61431774136\n",
      "0.638484151492\n",
      "0.625241513476\n",
      "Metric Mean: 0.63 (0.01)\n"
     ]
    }
   ],
   "source": [
    "from xgboost import XGBClassifier\n",
    "from sklearn.model_selection import KFold\n",
    "from sklearn.metrics import log_loss\n",
    "\n",
    "\n",
    "X = data.drop(['Season', 'team_a', 'team_b', 'a_win', 'in_target', 'DayNum'], axis=1)\n",
    "y = data[['a_win']].astype(int)\n",
    "\n",
    "kf = KFold(n_splits=5, shuffle=True)\n",
    "metrics = []\n",
    "for tr_i, t_i in kf.split(X):\n",
    "    X_tr, y_tr = X.iloc[tr_i], y.iloc[tr_i]\n",
    "    X_t, y_t = X.iloc[t_i], y.iloc[t_i]\n",
    "    xgb = XGBClassifier()\n",
    "    xgb.fit(X_tr.values, y_tr.values.reshape(-1))\n",
    "    preds = xgb.predict_proba(X_t.values)\n",
    "    metric = log_loss(y_t.values, preds)\n",
    "    print(metric)\n",
    "    metrics.append(metric)\n",
    "    \n",
    "print('Metric Mean: {:.2f} ({:.2f})'.format(np.mean(metrics), np.std(metrics)))"
   ]
  },
  {
   "cell_type": "code",
   "execution_count": null,
   "metadata": {
    "scrolled": false
   },
   "outputs": [],
   "source": []
  },
  {
   "cell_type": "code",
   "execution_count": null,
   "metadata": {
    "scrolled": true
   },
   "outputs": [],
   "source": []
  },
  {
   "cell_type": "code",
   "execution_count": null,
   "metadata": {
    "scrolled": true
   },
   "outputs": [],
   "source": []
  },
  {
   "cell_type": "code",
   "execution_count": null,
   "metadata": {
    "scrolled": true
   },
   "outputs": [],
   "source": []
  },
  {
   "cell_type": "code",
   "execution_count": null,
   "metadata": {},
   "outputs": [],
   "source": []
  },
  {
   "cell_type": "code",
   "execution_count": null,
   "metadata": {},
   "outputs": [],
   "source": []
  },
  {
   "cell_type": "code",
   "execution_count": null,
   "metadata": {},
   "outputs": [],
   "source": []
  },
  {
   "cell_type": "code",
   "execution_count": null,
   "metadata": {},
   "outputs": [],
   "source": []
  },
  {
   "cell_type": "code",
   "execution_count": null,
   "metadata": {
    "scrolled": true
   },
   "outputs": [],
   "source": []
  },
  {
   "cell_type": "code",
   "execution_count": null,
   "metadata": {},
   "outputs": [],
   "source": []
  },
  {
   "cell_type": "code",
   "execution_count": null,
   "metadata": {},
   "outputs": [],
   "source": []
  }
 ],
 "metadata": {
  "kernelspec": {
   "display_name": "Python 3",
   "language": "python",
   "name": "python3"
  },
  "language_info": {
   "codemirror_mode": {
    "name": "ipython",
    "version": 3
   },
   "file_extension": ".py",
   "mimetype": "text/x-python",
   "name": "python",
   "nbconvert_exporter": "python",
   "pygments_lexer": "ipython3",
   "version": "3.6.3"
  }
 },
 "nbformat": 4,
 "nbformat_minor": 2
}
