{
 "cells": [
  {
   "cell_type": "code",
   "execution_count": 1,
   "metadata": {
    "collapsed": true
   },
   "outputs": [],
   "source": [
    "import pandas as pd"
   ]
  },
  {
   "cell_type": "code",
   "execution_count": 8,
   "metadata": {
    "collapsed": true
   },
   "outputs": [],
   "source": [
    "years = list(range(2010, 2018))"
   ]
  },
  {
   "cell_type": "code",
   "execution_count": 6,
   "metadata": {},
   "outputs": [
    {
     "data": {
      "text/html": [
       "<div>\n",
       "<style scoped>\n",
       "    .dataframe tbody tr th:only-of-type {\n",
       "        vertical-align: middle;\n",
       "    }\n",
       "\n",
       "    .dataframe tbody tr th {\n",
       "        vertical-align: top;\n",
       "    }\n",
       "\n",
       "    .dataframe thead th {\n",
       "        text-align: right;\n",
       "    }\n",
       "</style>\n",
       "<table border=\"1\" class=\"dataframe\">\n",
       "  <thead>\n",
       "    <tr style=\"text-align: right;\">\n",
       "      <th></th>\n",
       "      <th>CityID</th>\n",
       "      <th>City</th>\n",
       "      <th>State</th>\n",
       "    </tr>\n",
       "  </thead>\n",
       "  <tbody>\n",
       "    <tr>\n",
       "      <th>159</th>\n",
       "      <td>4160</td>\n",
       "      <td>Huntsville</td>\n",
       "      <td>TX</td>\n",
       "    </tr>\n",
       "  </tbody>\n",
       "</table>\n",
       "</div>"
      ],
      "text/plain": [
       "     CityID        City State\n",
       "159    4160  Huntsville    TX"
      ]
     },
     "execution_count": 6,
     "metadata": {},
     "output_type": "execute_result"
    }
   ],
   "source": [
    "cities = pd.read_csv('data/Cities.csv')\n",
    "cities.sample()"
   ]
  },
  {
   "cell_type": "code",
   "execution_count": 12,
   "metadata": {},
   "outputs": [
    {
     "data": {
      "text/plain": [
       "(20434639, 11)"
      ]
     },
     "execution_count": 12,
     "metadata": {},
     "output_type": "execute_result"
    }
   ],
   "source": [
    "all_events = []\n",
    "for y in years:\n",
    "    events = pd.read_csv('data/Events_{}.csv'.format(y))\n",
    "    all_events.append(events)\n",
    "\n",
    "events = pd.concat(all_events)\n",
    "events.shape"
   ]
  },
  {
   "cell_type": "code",
   "execution_count": 21,
   "metadata": {},
   "outputs": [
    {
     "data": {
      "text/html": [
       "<div>\n",
       "<style scoped>\n",
       "    .dataframe tbody tr th:only-of-type {\n",
       "        vertical-align: middle;\n",
       "    }\n",
       "\n",
       "    .dataframe tbody tr th {\n",
       "        vertical-align: top;\n",
       "    }\n",
       "\n",
       "    .dataframe thead th {\n",
       "        text-align: right;\n",
       "    }\n",
       "</style>\n",
       "<table border=\"1\" class=\"dataframe\">\n",
       "  <thead>\n",
       "    <tr style=\"text-align: right;\">\n",
       "      <th></th>\n",
       "      <th>EventID</th>\n",
       "      <th>Season</th>\n",
       "      <th>DayNum</th>\n",
       "      <th>WTeamID</th>\n",
       "      <th>LTeamID</th>\n",
       "      <th>WPoints</th>\n",
       "      <th>LPoints</th>\n",
       "      <th>ElapsedSeconds</th>\n",
       "      <th>EventTeamID</th>\n",
       "      <th>EventPlayerID</th>\n",
       "      <th>EventType</th>\n",
       "    </tr>\n",
       "  </thead>\n",
       "  <tbody>\n",
       "    <tr>\n",
       "      <th>487399</th>\n",
       "      <td>8016710</td>\n",
       "      <td>2013</td>\n",
       "      <td>26</td>\n",
       "      <td>1182</td>\n",
       "      <td>1263</td>\n",
       "      <td>0</td>\n",
       "      <td>0</td>\n",
       "      <td>2358</td>\n",
       "      <td>1263</td>\n",
       "      <td>618081</td>\n",
       "      <td>foul_pers</td>\n",
       "    </tr>\n",
       "  </tbody>\n",
       "</table>\n",
       "</div>"
      ],
      "text/plain": [
       "        EventID  Season  DayNum  WTeamID  LTeamID  WPoints  LPoints  \\\n",
       "487399  8016710    2013      26     1182     1263        0        0   \n",
       "\n",
       "        ElapsedSeconds  EventTeamID  EventPlayerID  EventType  \n",
       "487399            2358         1263         618081  foul_pers  "
      ]
     },
     "execution_count": 21,
     "metadata": {},
     "output_type": "execute_result"
    }
   ],
   "source": [
    "events.sample()"
   ]
  },
  {
   "cell_type": "code",
   "execution_count": 22,
   "metadata": {},
   "outputs": [
    {
     "data": {
      "text/plain": [
       "(42766, 4)"
      ]
     },
     "execution_count": 22,
     "metadata": {},
     "output_type": "execute_result"
    }
   ],
   "source": [
    "all_players = []\n",
    "for y in years:\n",
    "    players = pd.read_csv('data/players_{}.csv'.format(y))\n",
    "    all_players.append(players)\n",
    "\n",
    "players = pd.concat(all_players)\n",
    "players.shape"
   ]
  },
  {
   "cell_type": "code",
   "execution_count": 23,
   "metadata": {},
   "outputs": [
    {
     "data": {
      "text/html": [
       "<div>\n",
       "<style scoped>\n",
       "    .dataframe tbody tr th:only-of-type {\n",
       "        vertical-align: middle;\n",
       "    }\n",
       "\n",
       "    .dataframe tbody tr th {\n",
       "        vertical-align: top;\n",
       "    }\n",
       "\n",
       "    .dataframe thead th {\n",
       "        text-align: right;\n",
       "    }\n",
       "</style>\n",
       "<table border=\"1\" class=\"dataframe\">\n",
       "  <thead>\n",
       "    <tr style=\"text-align: right;\">\n",
       "      <th></th>\n",
       "      <th>PlayerID</th>\n",
       "      <th>Season</th>\n",
       "      <th>TeamID</th>\n",
       "      <th>PlayerName</th>\n",
       "    </tr>\n",
       "  </thead>\n",
       "  <tbody>\n",
       "    <tr>\n",
       "      <th>1846</th>\n",
       "      <td>617601</td>\n",
       "      <td>2013</td>\n",
       "      <td>1229</td>\n",
       "      <td>CARMICHAEL_JACKIE</td>\n",
       "    </tr>\n",
       "  </tbody>\n",
       "</table>\n",
       "</div>"
      ],
      "text/plain": [
       "      PlayerID  Season  TeamID         PlayerName\n",
       "1846    617601    2013    1229  CARMICHAEL_JACKIE"
      ]
     },
     "execution_count": 23,
     "metadata": {},
     "output_type": "execute_result"
    }
   ],
   "source": [
    "players.sample()"
   ]
  },
  {
   "cell_type": "code",
   "execution_count": 28,
   "metadata": {},
   "outputs": [
    {
     "data": {
      "text/html": [
       "<div>\n",
       "<style scoped>\n",
       "    .dataframe tbody tr th:only-of-type {\n",
       "        vertical-align: middle;\n",
       "    }\n",
       "\n",
       "    .dataframe tbody tr th {\n",
       "        vertical-align: top;\n",
       "    }\n",
       "\n",
       "    .dataframe thead th {\n",
       "        text-align: right;\n",
       "    }\n",
       "</style>\n",
       "<table border=\"1\" class=\"dataframe\">\n",
       "  <thead>\n",
       "    <tr style=\"text-align: right;\">\n",
       "      <th></th>\n",
       "      <th>Season</th>\n",
       "      <th>ConfAbbrev</th>\n",
       "      <th>DayNum</th>\n",
       "      <th>WTeamID</th>\n",
       "      <th>LTeamID</th>\n",
       "    </tr>\n",
       "  </thead>\n",
       "  <tbody>\n",
       "    <tr>\n",
       "      <th>4060</th>\n",
       "      <td>2016</td>\n",
       "      <td>big_ten</td>\n",
       "      <td>128</td>\n",
       "      <td>1228</td>\n",
       "      <td>1278</td>\n",
       "    </tr>\n",
       "  </tbody>\n",
       "</table>\n",
       "</div>"
      ],
      "text/plain": [
       "      Season ConfAbbrev  DayNum  WTeamID  LTeamID\n",
       "4060    2016    big_ten     128     1228     1278"
      ]
     },
     "execution_count": 28,
     "metadata": {},
     "output_type": "execute_result"
    }
   ],
   "source": [
    "conference_tourney_games = pd.read_csv('data/ConferenceTourneyGames.csv')\n",
    "conference_tourney_games.sample()"
   ]
  },
  {
   "cell_type": "code",
   "execution_count": 31,
   "metadata": {},
   "outputs": [
    {
     "data": {
      "text/html": [
       "<div>\n",
       "<style scoped>\n",
       "    .dataframe tbody tr th:only-of-type {\n",
       "        vertical-align: middle;\n",
       "    }\n",
       "\n",
       "    .dataframe tbody tr th {\n",
       "        vertical-align: top;\n",
       "    }\n",
       "\n",
       "    .dataframe thead th {\n",
       "        text-align: right;\n",
       "    }\n",
       "</style>\n",
       "<table border=\"1\" class=\"dataframe\">\n",
       "  <thead>\n",
       "    <tr style=\"text-align: right;\">\n",
       "      <th></th>\n",
       "      <th>ConfAbbrev</th>\n",
       "      <th>Description</th>\n",
       "    </tr>\n",
       "  </thead>\n",
       "  <tbody>\n",
       "    <tr>\n",
       "      <th>27</th>\n",
       "      <td>mac</td>\n",
       "      <td>Mid-American Conference</td>\n",
       "    </tr>\n",
       "  </tbody>\n",
       "</table>\n",
       "</div>"
      ],
      "text/plain": [
       "   ConfAbbrev              Description\n",
       "27        mac  Mid-American Conference"
      ]
     },
     "execution_count": 31,
     "metadata": {},
     "output_type": "execute_result"
    }
   ],
   "source": [
    "conferences = pd.read_csv('data/Conferences.csv')\n",
    "conferences.sample()"
   ]
  },
  {
   "cell_type": "code",
   "execution_count": 30,
   "metadata": {},
   "outputs": [
    {
     "data": {
      "text/html": [
       "<div>\n",
       "<style scoped>\n",
       "    .dataframe tbody tr th:only-of-type {\n",
       "        vertical-align: middle;\n",
       "    }\n",
       "\n",
       "    .dataframe tbody tr th {\n",
       "        vertical-align: top;\n",
       "    }\n",
       "\n",
       "    .dataframe thead th {\n",
       "        text-align: right;\n",
       "    }\n",
       "</style>\n",
       "<table border=\"1\" class=\"dataframe\">\n",
       "  <thead>\n",
       "    <tr style=\"text-align: right;\">\n",
       "      <th></th>\n",
       "      <th>Season</th>\n",
       "      <th>DayNum</th>\n",
       "      <th>WTeamID</th>\n",
       "      <th>LTeamID</th>\n",
       "      <th>CRType</th>\n",
       "      <th>CityID</th>\n",
       "    </tr>\n",
       "  </thead>\n",
       "  <tbody>\n",
       "    <tr>\n",
       "      <th>24672</th>\n",
       "      <td>2014</td>\n",
       "      <td>80</td>\n",
       "      <td>1284</td>\n",
       "      <td>1193</td>\n",
       "      <td>Regular</td>\n",
       "      <td>4366</td>\n",
       "    </tr>\n",
       "  </tbody>\n",
       "</table>\n",
       "</div>"
      ],
      "text/plain": [
       "       Season  DayNum  WTeamID  LTeamID   CRType  CityID\n",
       "24672    2014      80     1284     1193  Regular    4366"
      ]
     },
     "execution_count": 30,
     "metadata": {},
     "output_type": "execute_result"
    }
   ],
   "source": [
    "game_cities = pd.read_csv('data/GameCities.csv')\n",
    "game_cities.sample()"
   ]
  },
  {
   "cell_type": "code",
   "execution_count": 32,
   "metadata": {},
   "outputs": [
    {
     "name": "stdout",
     "output_type": "stream",
     "text": [
      "Cities.csv                         Players_2010.csv\r\n",
      "ConferenceTourneyGames.csv         Players_2011.csv\r\n",
      "Conferences.csv                    Players_2012.csv\r\n",
      "Events_2010.csv                    Players_2013.csv\r\n",
      "Events_2011.csv                    Players_2014.csv\r\n",
      "Events_2012.csv                    Players_2015.csv\r\n",
      "Events_2013.csv                    Players_2016.csv\r\n",
      "Events_2014.csv                    Players_2017.csv\r\n",
      "Events_2015.csv                    RegularSeasonCompactResults.csv\r\n",
      "Events_2016.csv                    RegularSeasonDetailedResults.csv\r\n",
      "Events_2017.csv                    Seasons.csv\r\n",
      "GameCities.csv                     SecondaryTourneyCompactResults.csv\r\n",
      "MasseyOrdinals.csv                 SecondaryTourneyTeams.csv\r\n",
      "NCAATourneyCompactResults.csv      TeamCoaches.csv\r\n",
      "NCAATourneyDetailedResults.csv     TeamConferences.csv\r\n",
      "NCAATourneySeedRoundSlots.csv      TeamSpellings.csv\r\n",
      "NCAATourneySeeds.csv               Teams.csv\r\n",
      "NCAATourneySlots.csv\r\n"
     ]
    }
   ],
   "source": [
    "!ls data"
   ]
  },
  {
   "cell_type": "code",
   "execution_count": 34,
   "metadata": {},
   "outputs": [
    {
     "data": {
      "text/html": [
       "<div>\n",
       "<style scoped>\n",
       "    .dataframe tbody tr th:only-of-type {\n",
       "        vertical-align: middle;\n",
       "    }\n",
       "\n",
       "    .dataframe tbody tr th {\n",
       "        vertical-align: top;\n",
       "    }\n",
       "\n",
       "    .dataframe thead th {\n",
       "        text-align: right;\n",
       "    }\n",
       "</style>\n",
       "<table border=\"1\" class=\"dataframe\">\n",
       "  <thead>\n",
       "    <tr style=\"text-align: right;\">\n",
       "      <th></th>\n",
       "      <th>Season</th>\n",
       "      <th>RankingDayNum</th>\n",
       "      <th>SystemName</th>\n",
       "      <th>TeamID</th>\n",
       "      <th>OrdinalRank</th>\n",
       "    </tr>\n",
       "  </thead>\n",
       "  <tbody>\n",
       "    <tr>\n",
       "      <th>2255860</th>\n",
       "      <td>2014</td>\n",
       "      <td>121</td>\n",
       "      <td>KPK</td>\n",
       "      <td>1316</td>\n",
       "      <td>230</td>\n",
       "    </tr>\n",
       "  </tbody>\n",
       "</table>\n",
       "</div>"
      ],
      "text/plain": [
       "         Season  RankingDayNum SystemName  TeamID  OrdinalRank\n",
       "2255860    2014            121        KPK    1316          230"
      ]
     },
     "execution_count": 34,
     "metadata": {},
     "output_type": "execute_result"
    }
   ],
   "source": [
    "massey_ordinals = pd.read_csv('data/MasseyOrdinals.csv')\n",
    "massey_ordinals.sample()"
   ]
  }
 ],
 "metadata": {
  "kernelspec": {
   "display_name": "Python 3",
   "language": "python3",
   "name": "python3"
  },
  "language_info": {
   "codemirror_mode": {
    "name": "ipython",
    "version": 3
   },
   "file_extension": ".py",
   "mimetype": "text/x-python",
   "name": "python",
   "nbconvert_exporter": "python",
   "pygments_lexer": "ipython3",
   "version": "3.6.2"
  }
 },
 "nbformat": 4,
 "nbformat_minor": 2
}
