{
 "cells": [
  {
   "cell_type": "code",
   "execution_count": 20,
   "metadata": {},
   "outputs": [],
   "source": [
    "import numpy as np\n",
    "import pandas as pd\n",
    "import matplotlib.pyplot as plt\n",
    "import os\n",
    "from src.features.feature import Feature"
   ]
  },
  {
   "cell_type": "code",
   "execution_count": 21,
   "metadata": {},
   "outputs": [],
   "source": [
    "players_path = 'data/Players'\n",
    "players = os.listdir(players_path)\n",
    "#players = pd.read_csv(players[0])"
   ]
  },
  {
   "cell_type": "code",
   "execution_count": 22,
   "metadata": {},
   "outputs": [
    {
     "data": {
      "text/plain": [
       "['Players_2015.csv',\n",
       " 'Players_2010.csv',\n",
       " 'Players_2011.csv',\n",
       " 'Players_2013.csv',\n",
       " 'Players_2014.csv',\n",
       " 'Players_2016.csv',\n",
       " 'Players_2017.csv',\n",
       " 'Players_2012.csv']"
      ]
     },
     "execution_count": 22,
     "metadata": {},
     "output_type": "execute_result"
    }
   ],
   "source": [
    "players"
   ]
  },
  {
   "cell_type": "code",
   "execution_count": 23,
   "metadata": {},
   "outputs": [],
   "source": [
    "plyr_dir = \"data/Players\"\n",
    "plyr_paths = os.listdir(plyr_dir)\n",
    "\n",
    "plyr_2016_path = os.path.join(plyr_dir,plyr_paths[0])\n",
    "plyr_df = pd.read_csv(plyr_2016_path)\n",
    "\n",
    "event_dir = \"data/Events\"\n",
    "events_paths = os.listdir(event_dir)\n",
    "\n",
    "evnt_2016_path = os.path.join(event_dir,events_paths[0])\n",
    "events_df = pd.read_csv(evnt_2016_path)\n"
   ]
  },
  {
   "cell_type": "code",
   "execution_count": 24,
   "metadata": {},
   "outputs": [
    {
     "data": {
      "text/html": [
       "<div>\n",
       "<style scoped>\n",
       "    .dataframe tbody tr th:only-of-type {\n",
       "        vertical-align: middle;\n",
       "    }\n",
       "\n",
       "    .dataframe tbody tr th {\n",
       "        vertical-align: top;\n",
       "    }\n",
       "\n",
       "    .dataframe thead th {\n",
       "        text-align: right;\n",
       "    }\n",
       "</style>\n",
       "<table border=\"1\" class=\"dataframe\">\n",
       "  <thead>\n",
       "    <tr style=\"text-align: right;\">\n",
       "      <th></th>\n",
       "      <th>PlayerID</th>\n",
       "      <th>Season</th>\n",
       "      <th>TeamID</th>\n",
       "      <th>PlayerName</th>\n",
       "    </tr>\n",
       "  </thead>\n",
       "  <tbody>\n",
       "    <tr>\n",
       "      <th>0</th>\n",
       "      <td>626432</td>\n",
       "      <td>2015</td>\n",
       "      <td>1101</td>\n",
       "      <td>ALBRIGHT_CHRISTIAN</td>\n",
       "    </tr>\n",
       "    <tr>\n",
       "      <th>1</th>\n",
       "      <td>626433</td>\n",
       "      <td>2015</td>\n",
       "      <td>1101</td>\n",
       "      <td>COOKE_AUSTIN</td>\n",
       "    </tr>\n",
       "    <tr>\n",
       "      <th>2</th>\n",
       "      <td>626434</td>\n",
       "      <td>2015</td>\n",
       "      <td>1101</td>\n",
       "      <td>GRANT_MICHAEL</td>\n",
       "    </tr>\n",
       "    <tr>\n",
       "      <th>3</th>\n",
       "      <td>626435</td>\n",
       "      <td>2015</td>\n",
       "      <td>1101</td>\n",
       "      <td>GREEN_DRAKE</td>\n",
       "    </tr>\n",
       "    <tr>\n",
       "      <th>4</th>\n",
       "      <td>626436</td>\n",
       "      <td>2015</td>\n",
       "      <td>1101</td>\n",
       "      <td>HANSON_DAVID</td>\n",
       "    </tr>\n",
       "  </tbody>\n",
       "</table>\n",
       "</div>"
      ],
      "text/plain": [
       "   PlayerID  Season  TeamID          PlayerName\n",
       "0    626432    2015    1101  ALBRIGHT_CHRISTIAN\n",
       "1    626433    2015    1101        COOKE_AUSTIN\n",
       "2    626434    2015    1101       GRANT_MICHAEL\n",
       "3    626435    2015    1101         GREEN_DRAKE\n",
       "4    626436    2015    1101        HANSON_DAVID"
      ]
     },
     "execution_count": 24,
     "metadata": {},
     "output_type": "execute_result"
    }
   ],
   "source": [
    "plyr_df.head()"
   ]
  },
  {
   "cell_type": "code",
   "execution_count": 26,
   "metadata": {},
   "outputs": [
    {
     "data": {
      "text/html": [
       "<div>\n",
       "<style scoped>\n",
       "    .dataframe tbody tr th:only-of-type {\n",
       "        vertical-align: middle;\n",
       "    }\n",
       "\n",
       "    .dataframe tbody tr th {\n",
       "        vertical-align: top;\n",
       "    }\n",
       "\n",
       "    .dataframe thead th {\n",
       "        text-align: right;\n",
       "    }\n",
       "</style>\n",
       "<table border=\"1\" class=\"dataframe\">\n",
       "  <thead>\n",
       "    <tr style=\"text-align: right;\">\n",
       "      <th></th>\n",
       "      <th>EventID</th>\n",
       "      <th>Season</th>\n",
       "      <th>DayNum</th>\n",
       "      <th>WTeamID</th>\n",
       "      <th>LTeamID</th>\n",
       "      <th>WPoints</th>\n",
       "      <th>LPoints</th>\n",
       "      <th>ElapsedSeconds</th>\n",
       "      <th>EventTeamID</th>\n",
       "      <th>EventPlayerID</th>\n",
       "      <th>EventType</th>\n",
       "    </tr>\n",
       "  </thead>\n",
       "  <tbody>\n",
       "    <tr>\n",
       "      <th>0</th>\n",
       "      <td>15252382</td>\n",
       "      <td>2016</td>\n",
       "      <td>11</td>\n",
       "      <td>1104</td>\n",
       "      <td>1244</td>\n",
       "      <td>0</td>\n",
       "      <td>0</td>\n",
       "      <td>13</td>\n",
       "      <td>1104</td>\n",
       "      <td>631933</td>\n",
       "      <td>miss2_lay</td>\n",
       "    </tr>\n",
       "    <tr>\n",
       "      <th>1</th>\n",
       "      <td>15252383</td>\n",
       "      <td>2016</td>\n",
       "      <td>11</td>\n",
       "      <td>1104</td>\n",
       "      <td>1244</td>\n",
       "      <td>0</td>\n",
       "      <td>0</td>\n",
       "      <td>13</td>\n",
       "      <td>1104</td>\n",
       "      <td>631933</td>\n",
       "      <td>reb_off</td>\n",
       "    </tr>\n",
       "    <tr>\n",
       "      <th>2</th>\n",
       "      <td>15252384</td>\n",
       "      <td>2016</td>\n",
       "      <td>11</td>\n",
       "      <td>1104</td>\n",
       "      <td>1244</td>\n",
       "      <td>0</td>\n",
       "      <td>0</td>\n",
       "      <td>16</td>\n",
       "      <td>1244</td>\n",
       "      <td>634018</td>\n",
       "      <td>foul_pers</td>\n",
       "    </tr>\n",
       "    <tr>\n",
       "      <th>3</th>\n",
       "      <td>15252385</td>\n",
       "      <td>2016</td>\n",
       "      <td>11</td>\n",
       "      <td>1104</td>\n",
       "      <td>1244</td>\n",
       "      <td>0</td>\n",
       "      <td>0</td>\n",
       "      <td>16</td>\n",
       "      <td>1104</td>\n",
       "      <td>631933</td>\n",
       "      <td>miss1_free</td>\n",
       "    </tr>\n",
       "    <tr>\n",
       "      <th>4</th>\n",
       "      <td>15252386</td>\n",
       "      <td>2016</td>\n",
       "      <td>11</td>\n",
       "      <td>1104</td>\n",
       "      <td>1244</td>\n",
       "      <td>0</td>\n",
       "      <td>0</td>\n",
       "      <td>16</td>\n",
       "      <td>1104</td>\n",
       "      <td>631934</td>\n",
       "      <td>reb_dead</td>\n",
       "    </tr>\n",
       "  </tbody>\n",
       "</table>\n",
       "</div>"
      ],
      "text/plain": [
       "    EventID  Season  DayNum  WTeamID  LTeamID  WPoints  LPoints  \\\n",
       "0  15252382    2016      11     1104     1244        0        0   \n",
       "1  15252383    2016      11     1104     1244        0        0   \n",
       "2  15252384    2016      11     1104     1244        0        0   \n",
       "3  15252385    2016      11     1104     1244        0        0   \n",
       "4  15252386    2016      11     1104     1244        0        0   \n",
       "\n",
       "   ElapsedSeconds  EventTeamID  EventPlayerID   EventType  \n",
       "0              13         1104         631933   miss2_lay  \n",
       "1              13         1104         631933     reb_off  \n",
       "2              16         1244         634018   foul_pers  \n",
       "3              16         1104         631933  miss1_free  \n",
       "4              16         1104         631934    reb_dead  "
      ]
     },
     "execution_count": 26,
     "metadata": {},
     "output_type": "execute_result"
    }
   ],
   "source": [
    "events_df.head()"
   ]
  },
  {
   "cell_type": "code",
   "execution_count": 47,
   "metadata": {},
   "outputs": [],
   "source": [
    "indiv_df = pd.pivot_table(events_df, values='EventID', index=['EventPlayerID', 'EventTeamID'], \n",
    "                   columns='EventType', aggfunc='count', fill_value=None, margins=False, dropna=True, margins_name='All')"
   ]
  },
  {
   "cell_type": "code",
   "execution_count": 115,
   "metadata": {},
   "outputs": [
    {
     "data": {
      "text/plain": [
       "['2016_11_1104_1244', '2016_11_1104_1244', '2016_11_1104_1244']"
      ]
     },
     "execution_count": 115,
     "metadata": {},
     "output_type": "execute_result"
    }
   ],
   "source": [
    "# indiv_df = indiv_df.reset_index(level=['EventPlayerID', 'EventTeamID'])\n",
    "game_id = []\n",
    "for idx,row in events_df[['Season', 'DayNum', 'WTeamID', 'LTeamID']].iterrows():\n",
    "    a, b, c, d = row\n",
    "    game_id.append(str(a) + '_' + str(b) + '_' + str(c) + '_' + str(d))\n",
    "game_id[:3]"
   ]
  },
  {
   "cell_type": "code",
   "execution_count": 125,
   "metadata": {},
   "outputs": [],
   "source": [
    "# indiv_df['game_id'] = game_id"
   ]
  },
  {
   "cell_type": "code",
   "execution_count": 134,
   "metadata": {},
   "outputs": [
    {
     "data": {
      "image/png": "[encoded data removed]",
      "text/plain": [
       "<matplotlib.figure.Figure at 0x7f0d18be6438>"
      ]
     },
     "metadata": {},
     "output_type": "display_data"
    }
   ],
   "source": [
    "plt.plot(indiv_df.groupby('EventPlayerID')['EventPlayerID'].count())\n",
    "plt.show()"
   ]
  },
  {
   "cell_type": "code",
   "execution_count": 56,
   "metadata": {},
   "outputs": [],
   "source": [
    "switch_events = [\"turnover\", \"steal\", \"made2_dunk\", \"made2_jump\",\"made2_lay\",\"made2_tip\", \"made3_jump\"]\n",
    "point_events = [\"made2_dunk\", \"made2_jump\",\"made2_lay\",\"made2_tip\", \"made3_jump\", \"made1_free\"]\n",
    "miss_events = ['miss1_free' 'miss2_dunk', 'miss2_jump', 'miss2_lay', 'miss2_tip', 'miss3_jump']\n",
    "rebound_events = ['reb_dead', 'reb_def', 'reb_off']\n",
    "foul_events = ['foul_pers', 'foul_tech']"
   ]
  },
  {
   "cell_type": "code",
   "execution_count": 119,
   "metadata": {},
   "outputs": [],
   "source": [
    "# https://stats.nba.com/\n",
    "#indiv_df.filter(items=['one', 'three'])"
   ]
  },
  {
   "cell_type": "code",
   "execution_count": 122,
   "metadata": {},
   "outputs": [
    {
     "data": {
      "text/html": [
       "<div>\n",
       "<style scoped>\n",
       "    .dataframe tbody tr th:only-of-type {\n",
       "        vertical-align: middle;\n",
       "    }\n",
       "\n",
       "    .dataframe tbody tr th {\n",
       "        vertical-align: top;\n",
       "    }\n",
       "\n",
       "    .dataframe thead th {\n",
       "        text-align: right;\n",
       "    }\n",
       "</style>\n",
       "<table border=\"1\" class=\"dataframe\">\n",
       "  <thead>\n",
       "    <tr style=\"text-align: right;\">\n",
       "      <th>EventType</th>\n",
       "      <th>EventPlayerID</th>\n",
       "      <th>EventTeamID</th>\n",
       "      <th>assist</th>\n",
       "      <th>block</th>\n",
       "      <th>foul_pers</th>\n",
       "      <th>foul_tech</th>\n",
       "      <th>made1_free</th>\n",
       "      <th>made2_dunk</th>\n",
       "      <th>made2_jump</th>\n",
       "      <th>made2_lay</th>\n",
       "      <th>...</th>\n",
       "      <th>miss3_jump</th>\n",
       "      <th>reb_dead</th>\n",
       "      <th>reb_def</th>\n",
       "      <th>reb_off</th>\n",
       "      <th>steal</th>\n",
       "      <th>sub_in</th>\n",
       "      <th>sub_out</th>\n",
       "      <th>timeout</th>\n",
       "      <th>timeout_tv</th>\n",
       "      <th>turnover</th>\n",
       "    </tr>\n",
       "  </thead>\n",
       "  <tbody>\n",
       "    <tr>\n",
       "      <th>59</th>\n",
       "      <td>631933</td>\n",
       "      <td>1104</td>\n",
       "      <td>13.0</td>\n",
       "      <td>59.0</td>\n",
       "      <td>85.0</td>\n",
       "      <td>NaN</td>\n",
       "      <td>36.0</td>\n",
       "      <td>24.0</td>\n",
       "      <td>23.0</td>\n",
       "      <td>20.0</td>\n",
       "      <td>...</td>\n",
       "      <td>NaN</td>\n",
       "      <td>NaN</td>\n",
       "      <td>101.0</td>\n",
       "      <td>53.0</td>\n",
       "      <td>17.0</td>\n",
       "      <td>86.0</td>\n",
       "      <td>137.0</td>\n",
       "      <td>NaN</td>\n",
       "      <td>NaN</td>\n",
       "      <td>41.0</td>\n",
       "    </tr>\n",
       "  </tbody>\n",
       "</table>\n",
       "<p>1 rows × 27 columns</p>\n",
       "</div>"
      ],
      "text/plain": [
       "EventType  EventPlayerID  EventTeamID  assist  block  foul_pers  foul_tech  \\\n",
       "59                631933         1104    13.0   59.0       85.0        NaN   \n",
       "\n",
       "EventType  made1_free  made2_dunk  made2_jump  made2_lay    ...     \\\n",
       "59               36.0        24.0        23.0       20.0    ...      \n",
       "\n",
       "EventType  miss3_jump  reb_dead  reb_def  reb_off  steal  sub_in  sub_out  \\\n",
       "59                NaN       NaN    101.0     53.0   17.0    86.0    137.0   \n",
       "\n",
       "EventType  timeout  timeout_tv  turnover  \n",
       "59             NaN         NaN      41.0  \n",
       "\n",
       "[1 rows x 27 columns]"
      ]
     },
     "execution_count": 122,
     "metadata": {},
     "output_type": "execute_result"
    }
   ],
   "source": [
    "indiv_df.loc[indiv_df['EventPlayerID'] == 631933]"
   ]
  },
  {
   "cell_type": "code",
   "execution_count": null,
   "metadata": {},
   "outputs": [],
   "source": [
    "dataframe[\"period\"] = dataframe[\"Year\"].map(str) + dataframe[\"quarter\"]"
   ]
  },
  {
   "cell_type": "code",
   "execution_count": 117,
   "metadata": {},
   "outputs": [],
   "source": [
    "# function to count specified features per player per game\n",
    "class Players:\n",
    "    def __init__(self, id):\n",
    "        self.id = id\n",
    "        self.df = indiv_df.loc[indiv_df['EventPlayerID'] == self.id ]\n",
    "    def get_player_stats(self, event_type):\n",
    "        self.event_points = int(self.df[event_type].sum(axis=1))\n",
    "        return self.event_points\n",
    "    def get_stats_per_game(self):\n",
    "        pass\n",
    "        \n",
    "        \n",
    "    "
   ]
  },
  {
   "cell_type": "code",
   "execution_count": 118,
   "metadata": {},
   "outputs": [
    {
     "data": {
      "text/plain": [
       "84"
      ]
     },
     "execution_count": 118,
     "metadata": {},
     "output_type": "execute_result"
    }
   ],
   "source": [
    "a = Players(631874)\n",
    "a.get_player_stats(point_events)\n",
    "# a.event_points"
   ]
  },
  {
   "cell_type": "code",
   "execution_count": 104,
   "metadata": {},
   "outputs": [
    {
     "data": {
      "text/plain": [
       "60"
      ]
     },
     "execution_count": 104,
     "metadata": {},
     "output_type": "execute_result"
    }
   ],
   "source": [
    "int(a.df[foul_events].sum(axis=1))"
   ]
  },
  {
   "cell_type": "code",
   "execution_count": 93,
   "metadata": {},
   "outputs": [
    {
     "data": {
      "text/plain": [
       "<filter at 0x7f0d1851fa20>"
      ]
     },
     "execution_count": 93,
     "metadata": {},
     "output_type": "execute_result"
    }
   ],
   "source": [
    "filter(lambda x: x == a.id, a.event_points)"
   ]
  },
  {
   "cell_type": "code",
   "execution_count": null,
   "metadata": {},
   "outputs": [],
   "source": []
  }
 ],
 "metadata": {
  "kernelspec": {
   "display_name": "Python 3",
   "language": "python",
   "name": "python3"
  },
  "language_info": {
   "codemirror_mode": {
    "name": "ipython",
    "version": 3
   },
   "file_extension": ".py",
   "mimetype": "text/x-python",
   "name": "python",
   "nbconvert_exporter": "python",
   "pygments_lexer": "ipython3",
   "version": "3.5.4"
  }
 },
 "nbformat": 4,
 "nbformat_minor": 2
}
