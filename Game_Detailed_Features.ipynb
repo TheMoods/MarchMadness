{
 "cells": [
  {
   "cell_type": "code",
   "execution_count": 12,
   "metadata": {
    "collapsed": true
   },
   "outputs": [],
   "source": [
    "import copy as cp\n",
    "import numpy as np\n",
    "import pandas as pd\n",
    "import matplotlib.pyplot as plt\n",
    "from src.utils import load_data_template\n",
    "from src.features.games_detailed import GameDetailedFeatures"
   ]
  },
  {
   "cell_type": "code",
   "execution_count": 144,
   "metadata": {},
   "outputs": [
    {
     "name": "stdout",
     "output_type": "stream",
     "text": [
      "(981, 85)\n"
     ]
    },
    {
     "data": {
      "text/html": [
       "<div>\n",
       "<style scoped>\n",
       "    .dataframe tbody tr th:only-of-type {\n",
       "        vertical-align: middle;\n",
       "    }\n",
       "\n",
       "    .dataframe tbody tr th {\n",
       "        vertical-align: top;\n",
       "    }\n",
       "\n",
       "    .dataframe thead th {\n",
       "        text-align: right;\n",
       "    }\n",
       "</style>\n",
       "<table border=\"1\" class=\"dataframe\">\n",
       "  <thead>\n",
       "    <tr style=\"text-align: right;\">\n",
       "      <th></th>\n",
       "      <th>Season</th>\n",
       "      <th>team_a</th>\n",
       "      <th>team_b</th>\n",
       "      <th>in_target</th>\n",
       "      <th>game_set</th>\n",
       "      <th>a_win</th>\n",
       "      <th>DayNum</th>\n",
       "      <th>FGM_game_team_a_lag-1</th>\n",
       "      <th>FGM_game_team_a_lag-2</th>\n",
       "      <th>FGM_game_team_a_lag-3</th>\n",
       "      <th>...</th>\n",
       "      <th>TO_game_team_b_lag-3</th>\n",
       "      <th>Stl_game_team_b_lag-1</th>\n",
       "      <th>Stl_game_team_b_lag-2</th>\n",
       "      <th>Stl_game_team_b_lag-3</th>\n",
       "      <th>Blk_game_team_b_lag-1</th>\n",
       "      <th>Blk_game_team_b_lag-2</th>\n",
       "      <th>Blk_game_team_b_lag-3</th>\n",
       "      <th>PF_game_team_b_lag-1</th>\n",
       "      <th>PF_game_team_b_lag-2</th>\n",
       "      <th>PF_game_team_b_lag-3</th>\n",
       "    </tr>\n",
       "  </thead>\n",
       "  <tbody>\n",
       "    <tr>\n",
       "      <th>6900</th>\n",
       "      <td>2017</td>\n",
       "      <td>1112</td>\n",
       "      <td>1462</td>\n",
       "      <td>True</td>\n",
       "      <td>0</td>\n",
       "      <td>False</td>\n",
       "      <td>143</td>\n",
       "      <td>26.0</td>\n",
       "      <td>23.0</td>\n",
       "      <td>22.0</td>\n",
       "      <td>...</td>\n",
       "      <td>17.0</td>\n",
       "      <td>4.0</td>\n",
       "      <td>8.0</td>\n",
       "      <td>5.0</td>\n",
       "      <td>3.0</td>\n",
       "      <td>2.0</td>\n",
       "      <td>1.0</td>\n",
       "      <td>20.0</td>\n",
       "      <td>17.0</td>\n",
       "      <td>13.0</td>\n",
       "    </tr>\n",
       "  </tbody>\n",
       "</table>\n",
       "<p>1 rows × 85 columns</p>\n",
       "</div>"
      ],
      "text/plain": [
       "     Season team_a team_b  in_target  game_set  a_win DayNum  \\\n",
       "6900   2017   1112   1462       True         0  False    143   \n",
       "\n",
       "      FGM_game_team_a_lag-1  FGM_game_team_a_lag-2  FGM_game_team_a_lag-3  \\\n",
       "6900                   26.0                   23.0                   22.0   \n",
       "\n",
       "              ...           TO_game_team_b_lag-3  Stl_game_team_b_lag-1  \\\n",
       "6900          ...                           17.0                    4.0   \n",
       "\n",
       "      Stl_game_team_b_lag-2  Stl_game_team_b_lag-3  Blk_game_team_b_lag-1  \\\n",
       "6900                    8.0                    5.0                    3.0   \n",
       "\n",
       "      Blk_game_team_b_lag-2  Blk_game_team_b_lag-3  PF_game_team_b_lag-1  \\\n",
       "6900                    2.0                    1.0                  20.0   \n",
       "\n",
       "      PF_game_team_b_lag-2  PF_game_team_b_lag-3  \n",
       "6900                  17.0                  13.0  \n",
       "\n",
       "[1 rows x 85 columns]"
      ]
     },
     "execution_count": 144,
     "metadata": {},
     "output_type": "execute_result"
    }
   ],
   "source": [
    "import importlib\n",
    "importlib.reload(src.features.games_detailed)\n",
    "from src.features.games_detailed import GameDetailedFeatures\n",
    "data = load_data_template(season=False)\n",
    "game_detail_feat = GameDetailedFeatures(default_lags=3)\n",
    "data = game_detail_feat.per_team_wrapper(data, game_detail_feat.detail_features_by_game, per_day=True)\n",
    "data.dropna(inplace=True)\n",
    "print(data.shape)\n",
    "data.sample()"
   ]
  },
  {
   "cell_type": "code",
   "execution_count": 145,
   "metadata": {},
   "outputs": [
    {
     "name": "stdout",
     "output_type": "stream",
     "text": [
      "0.1669299705545005\n",
      "0.17482608983817222\n",
      "0.20481811680465037\n",
      "Metric Mean: 0.18 (0.02)\n"
     ]
    }
   ],
   "source": [
    "from xgboost import XGBClassifier\n",
    "from sklearn.model_selection import KFold\n",
    "from sklearn.preprocessing import OneHotEncoder\n",
    "from sklearn.metrics import log_loss\n",
    "\n",
    "\n",
    "cat_cols = ['team_a', 'team_b', 'game_set']\n",
    "X = data.drop(['Season', 'a_win', 'in_target', 'DayNum'], axis=1)\n",
    "X_enc = OneHotEncoder(categorical_features=[c in cat_cols for c in X.columns]).fit_transform(X).todense()\n",
    "y = data[['a_win', 'game_set']].astype({'a_win': int})\n",
    "\n",
    "kf = KFold(n_splits=3, shuffle=True)\n",
    "metrics = []\n",
    "for tr_i, t_i in kf.split(X_enc):\n",
    "    X_tr, y_tr = X_enc[tr_i], y.iloc[tr_i].a_win\n",
    "    X_t, y_t = X_enc[t_i], y.iloc[t_i].a_win\n",
    "    xgb = XGBClassifier(nthreads=4)\n",
    "    xgb.fit(X_tr, y_tr)\n",
    "    preds = xgb.predict_proba(X_t)\n",
    "    ncaa_true = y.iloc[t_i][y.iloc[t_i].game_set == 0]\n",
    "    ncaa_pred = preds[y.iloc[t_i].reset_index().game_set == 0]\n",
    "    metric = log_loss(ncaa_true.a_win.astype(int), ncaa_pred)\n",
    "    print(metric)\n",
    "    metrics.append(metric)\n",
    "    \n",
    "print('Metric Mean: {:.2f} ({:.2f})'.format(np.mean(metrics), np.std(metrics)))"
   ]
  },
  {
   "cell_type": "code",
   "execution_count": 146,
   "metadata": {},
   "outputs": [
    {
     "data": {
      "text/plain": [
       "<matplotlib.figure.Figure at 0x120890d68>"
      ]
     },
     "metadata": {},
     "output_type": "display_data"
    },
    {
     "data": {
      "image/png": "[encoded data removed]",
      "text/plain": [
       "<matplotlib.figure.Figure at 0x120899f60>"
      ]
     },
     "metadata": {},
     "output_type": "display_data"
    }
   ],
   "source": [
    "from xgboost import plot_importance\n",
    "\n",
    "plt.figure(figsize=(20,4))\n",
    "plot_importance(xgb, max_num_features=15)\n",
    "plt.show()"
   ]
  }
 ],
 "metadata": {
  "kernelspec": {
   "display_name": "Python 3",
   "language": "python3",
   "name": "python3"
  },
  "language_info": {
   "codemirror_mode": {
    "name": "ipython",
    "version": 3
   },
   "file_extension": ".py",
   "mimetype": "text/x-python",
   "name": "python",
   "nbconvert_exporter": "python",
   "pygments_lexer": "ipython3",
   "version": "3.6.2"
  }
 },
 "nbformat": 4,
 "nbformat_minor": 2
}
