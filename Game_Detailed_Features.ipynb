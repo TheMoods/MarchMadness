{
 "cells": [
  {
   "cell_type": "code",
   "execution_count": 110,
   "metadata": {
    "collapsed": true
   },
   "outputs": [],
   "source": [
    "import copy as cp\n",
    "import numpy as np\n",
    "import pandas as pd\n",
    "import matplotlib.pyplot as plt\n",
    "from src.utils import load_data_template\n",
    "from src.features.games_detailed import GameDetailedFeatures"
   ]
  },
  {
   "cell_type": "code",
   "execution_count": 162,
   "metadata": {},
   "outputs": [
    {
     "name": "stdout",
     "output_type": "stream",
     "text": [
      "(981, 59)\n"
     ]
    },
    {
     "data": {
      "text/html": [
       "<div>\n",
       "<style scoped>\n",
       "    .dataframe tbody tr th:only-of-type {\n",
       "        vertical-align: middle;\n",
       "    }\n",
       "\n",
       "    .dataframe tbody tr th {\n",
       "        vertical-align: top;\n",
       "    }\n",
       "\n",
       "    .dataframe thead th {\n",
       "        text-align: right;\n",
       "    }\n",
       "</style>\n",
       "<table border=\"1\" class=\"dataframe\">\n",
       "  <thead>\n",
       "    <tr style=\"text-align: right;\">\n",
       "      <th></th>\n",
       "      <th>Season</th>\n",
       "      <th>team_a</th>\n",
       "      <th>team_b</th>\n",
       "      <th>in_target</th>\n",
       "      <th>game_set</th>\n",
       "      <th>a_win</th>\n",
       "      <th>DayNum</th>\n",
       "      <th>FGM_season_team_a</th>\n",
       "      <th>FGA_season_team_a</th>\n",
       "      <th>FGM3_season_team_a</th>\n",
       "      <th>...</th>\n",
       "      <th>FGA3_season_team_b_lag-1</th>\n",
       "      <th>FTM_season_team_b_lag-1</th>\n",
       "      <th>FTA_season_team_b_lag-1</th>\n",
       "      <th>OR_season_team_b_lag-1</th>\n",
       "      <th>DR_season_team_b_lag-1</th>\n",
       "      <th>Ast_season_team_b_lag-1</th>\n",
       "      <th>TO_season_team_b_lag-1</th>\n",
       "      <th>Stl_season_team_b_lag-1</th>\n",
       "      <th>Blk_season_team_b_lag-1</th>\n",
       "      <th>PF_season_team_b_lag-1</th>\n",
       "    </tr>\n",
       "  </thead>\n",
       "  <tbody>\n",
       "    <tr>\n",
       "      <th>10266</th>\n",
       "      <td>2003</td>\n",
       "      <td>1139</td>\n",
       "      <td>1280</td>\n",
       "      <td>False</td>\n",
       "      <td>0</td>\n",
       "      <td>True</td>\n",
       "      <td>137.0</td>\n",
       "      <td>1116.0</td>\n",
       "      <td>2427.0</td>\n",
       "      <td>318.0</td>\n",
       "      <td>...</td>\n",
       "      <td>0.0</td>\n",
       "      <td>0.0</td>\n",
       "      <td>0.0</td>\n",
       "      <td>0.0</td>\n",
       "      <td>0.0</td>\n",
       "      <td>0.0</td>\n",
       "      <td>0.0</td>\n",
       "      <td>0.0</td>\n",
       "      <td>0.0</td>\n",
       "      <td>0.0</td>\n",
       "    </tr>\n",
       "  </tbody>\n",
       "</table>\n",
       "<p>1 rows × 59 columns</p>\n",
       "</div>"
      ],
      "text/plain": [
       "      Season team_a team_b  in_target  game_set a_win  DayNum  \\\n",
       "10266   2003   1139   1280      False         0  True   137.0   \n",
       "\n",
       "       FGM_season_team_a  FGA_season_team_a  FGM3_season_team_a  \\\n",
       "10266             1116.0             2427.0               318.0   \n",
       "\n",
       "                ...            FGA3_season_team_b_lag-1  \\\n",
       "10266           ...                                 0.0   \n",
       "\n",
       "       FTM_season_team_b_lag-1  FTA_season_team_b_lag-1  \\\n",
       "10266                      0.0                      0.0   \n",
       "\n",
       "       OR_season_team_b_lag-1  DR_season_team_b_lag-1  \\\n",
       "10266                     0.0                     0.0   \n",
       "\n",
       "       Ast_season_team_b_lag-1  TO_season_team_b_lag-1  \\\n",
       "10266                      0.0                     0.0   \n",
       "\n",
       "       Stl_season_team_b_lag-1  Blk_season_team_b_lag-1  \\\n",
       "10266                      0.0                      0.0   \n",
       "\n",
       "       PF_season_team_b_lag-1  \n",
       "10266                     0.0  \n",
       "\n",
       "[1 rows x 59 columns]"
      ]
     },
     "execution_count": 162,
     "metadata": {},
     "output_type": "execute_result"
    }
   ],
   "source": [
    "data = load_data_template(season=False)\n",
    "game_detail_feat = GameDetailedFeatures(default_lags=1)\n",
    "data = game_detail_feat.per_team_wrapper(data, game_detail_feat.season_detail_features_summed)\n",
    "data.dropna(inplace=True)\n",
    "print(data.shape)\n",
    "data.sample()"
   ]
  },
  {
   "cell_type": "code",
   "execution_count": 165,
   "metadata": {},
   "outputs": [
    {
     "name": "stdout",
     "output_type": "stream",
     "text": [
      "0.5923870390450413\n",
      "0.5806730145193411\n",
      "0.6861950927837328\n",
      "0.5342072005750556\n",
      "0.6769934849757137\n",
      "0.672553870714072\n",
      "0.6529070699444184\n",
      "0.5516665408817621\n",
      "0.6024962191398328\n",
      "0.5904589021721711\n",
      "0.619268482694259\n",
      "0.6741583911272195\n",
      "0.5903896059840917\n",
      "0.6526937479869678\n",
      "0.5811013927826515\n",
      "Metric Mean: 0.62 (0.05)\n"
     ]
    }
   ],
   "source": [
    "from xgboost import XGBClassifier\n",
    "from sklearn.model_selection import KFold\n",
    "from sklearn.preprocessing import OneHotEncoder\n",
    "from sklearn.metrics import log_loss\n",
    "\n",
    "\n",
    "cat_cols = ['team_a', 'team_b', 'game_set']\n",
    "X = data.drop(['Season', 'a_win', 'in_target', 'DayNum'], axis=1)\n",
    "X_enc = OneHotEncoder(categorical_features=[c in cat_cols for c in X.columns]).fit_transform(X).todense()\n",
    "y = data[['a_win']].astype(int)\n",
    "\n",
    "kf = KFold(n_splits=15, shuffle=True)\n",
    "metrics = []\n",
    "for tr_i, t_i in kf.split(X_enc):\n",
    "    X_tr, y_tr = X_enc[tr_i], y.iloc[tr_i]\n",
    "    X_t, y_t = X_enc[t_i], y.iloc[t_i]\n",
    "    xgb = XGBClassifier()\n",
    "    xgb.fit(X_tr, y_tr.values.reshape(-1))\n",
    "    preds = xgb.predict_proba(X_t)\n",
    "    metric = log_loss(y_t.values, preds)\n",
    "    print(metric)\n",
    "    metrics.append(metric)\n",
    "    \n",
    "print('Metric Mean: {:.2f} ({:.2f})'.format(np.mean(metrics), np.std(metrics)))"
   ]
  },
  {
   "cell_type": "code",
   "execution_count": 166,
   "metadata": {},
   "outputs": [
    {
     "data": {
      "text/plain": [
       "<matplotlib.figure.Figure at 0x110faea58>"
      ]
     },
     "metadata": {},
     "output_type": "display_data"
    },
    {
     "data": {
      "image/png": "[encoded data removed]",
      "text/plain": [
       "<matplotlib.figure.Figure at 0x113918f98>"
      ]
     },
     "metadata": {},
     "output_type": "display_data"
    }
   ],
   "source": [
    "from xgboost import plot_importance\n",
    "\n",
    "plt.figure(figsize=(20,4))\n",
    "plot_importance(xgb, max_num_features=15)\n",
    "plt.show()"
   ]
  }
 ],
 "metadata": {
  "kernelspec": {
   "display_name": "Python 3",
   "language": "python3",
   "name": "python3"
  },
  "language_info": {
   "codemirror_mode": {
    "name": "ipython",
    "version": 3
   },
   "file_extension": ".py",
   "mimetype": "text/x-python",
   "name": "python",
   "nbconvert_exporter": "python",
   "pygments_lexer": "ipython3",
   "version": "3.6.2"
  }
 },
 "nbformat": 4,
 "nbformat_minor": 2
}
