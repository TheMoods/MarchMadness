{
 "cells": [
  {
   "cell_type": "code",
   "execution_count": null,
   "metadata": {},
   "outputs": [],
   "source": [
    "import copy as cp\n",
    "import numpy as np\n",
    "import pandas as pd\n",
    "import matplotlib.pyplot as plt"
   ]
  },
  {
   "cell_type": "code",
   "execution_count": null,
   "metadata": {},
   "outputs": [],
   "source": [
    "def create_target():\n",
    "    target = pd.read_csv('data/SampleSubmissionStage1.csv').set_index('ID').drop('Pred', axis=1)\n",
    "    target['Season'] = target.index.map(lambda i: i.split('_')[0])\n",
    "    target['team_a'] = target.index.map(lambda i: i.split('_')[1])\n",
    "    target['team_b'] = target.index.map(lambda i: i.split('_')[2])\n",
    "    target['in_target'] = True\n",
    "    \n",
    "    ncaa_games = pd.read_csv('data/NCAATourneyCompactResults.csv')\n",
    "    ncaa_games['team_a'] = ncaa_games[['WTeamID', 'LTeamID']].apply(lambda t: t[0] if int(t[0]) < int(t[1]) else t[1], axis=1)\n",
    "    ncaa_games['team_b'] = ncaa_games[['WTeamID', 'LTeamID']].apply(lambda t: t[0] if int(t[0]) > int(t[1]) else t[1], axis=1)\n",
    "    ncaa_games['a_win'] = ncaa_games['WTeamID'] == ncaa_games['team_a']\n",
    "    ncaa_games['ID'] = ncaa_games['Season'].astype(str) + '_' + ncaa_games['team_a'].astype(str) + '_' + ncaa_games['team_b'].astype(str)\n",
    "    ncaa_games = ncaa_games.set_index('ID')\n",
    "    \n",
    "    target = target.join(ncaa_games['a_win'], how='left')    \n",
    "    return target"
   ]
  },
  {
   "cell_type": "code",
   "execution_count": null,
   "metadata": {},
   "outputs": [],
   "source": [
    "target = create_target()\n",
    "print target.shape\n",
    "target.head()"
   ]
  },
  {
   "cell_type": "code",
   "execution_count": null,
   "metadata": {},
   "outputs": [],
   "source": [
    "target_2.to_csv('data/target.csv')"
   ]
  },
  {
   "cell_type": "code",
   "execution_count": null,
   "metadata": {},
   "outputs": [],
   "source": [
    "ncaa_games = pd.read_csv('data/NCAATourneyCompactResults.csv')\n",
    "ncaa_games = ncaa_games.astype({\n",
    "    'LTeamID': str,\n",
    "    'WTeamID': str,\n",
    "    'Season': str\n",
    "})\n",
    "ncaa_games['diff'] = ncaa_games['WScore'] - ncaa_games['LScore']\n",
    "print(ncaa_games.shape)\n",
    "ncaa_games.sample()"
   ]
  },
  {
   "cell_type": "code",
   "execution_count": null,
   "metadata": {},
   "outputs": [],
   "source": [
    "regular_games = pd.read_csv('data/RegularSeasonCompactResults.csv')\n",
    "regular_games = regular_games.astype({\n",
    "    'LTeamID': str,\n",
    "    'WTeamID': str,\n",
    "    'Season': str\n",
    "})\n",
    "regular_games['diff'] = regular_games['WScore'] - regular_games['LScore']\n",
    "print(regular_games.shape)\n",
    "regular_games.sample()"
   ]
  },
  {
   "cell_type": "code",
   "execution_count": null,
   "metadata": {},
   "outputs": [],
   "source": [
    "data = cp.deepcopy(ncaa_games)\n",
    "data['team_a'] = data[['WTeamID', 'LTeamID']].apply(lambda t: t[0] if int(t[0]) < int(t[1]) else t[1], axis=1)\n",
    "data['team_b'] = data[['WTeamID', 'LTeamID']].apply(lambda t: t[0] if int(t[0]) > int(t[1]) else t[1], axis=1)\n",
    "data['a_win'] = data['WTeamID'] == data['team_a']\n",
    "data = data[['Season', 'team_a', 'team_b', 'a_win']]\n",
    "data = pd.concat([data, target.reset_index(drop=True)]).fillna(0).astype({'a_win': bool, 'in_target': bool})\n",
    "\n",
    "lags = 5\n",
    "for team, opponent_team in [('a', 'b'), ('b','a')]:\n",
    "    \n",
    "    \n",
    "    # GAMES WON IN PAST TOURNAMENTS\n",
    "    won_in_ncaa = ncaa_games\\\n",
    "        .groupby(['WTeamID', 'Season']).count()[['diff']]\\\n",
    "        .rename(columns={'diff': 'won_in_ncaa_{}'.format(team)})\n",
    "    for l in range(1, lags+1):\n",
    "        won_in_ncaa[\n",
    "            'won_in_ncaa_{}_lag-{}'.format(team, l)] = won_in_ncaa.groupby('WTeamID')[\n",
    "            'won_in_ncaa_{}'.format(team)\n",
    "        ].shift(l).fillna(0)\n",
    "    won_in_ncaa.drop('won_in_ncaa_{}'.format(team), inplace=True, axis=1)\n",
    "    data = pd.merge(data, won_in_ncaa,\n",
    "                    left_on=['team_{}'.format(team), 'Season'], right_index=True,\n",
    "                    how='left').fillna(0)\n",
    "    \n",
    "    # GAMES WON IN PAST SEASONS\n",
    "    won_in_season = regular_games\\\n",
    "        .groupby(['WTeamID', 'Season']).count()[['diff']]\\\n",
    "        .rename(columns={'diff': 'won_in_season_{}'.format(team)})\n",
    "    for l in range(0, lags+1):\n",
    "        won_in_season[\n",
    "            'won_in_season_{}_lag-{}'.format(team, l)] = won_in_season.groupby('WTeamID')[\n",
    "            'won_in_season_{}'.format(team)\n",
    "        ].shift(l).fillna(0)\n",
    "    won_in_season.drop('won_in_season_{}'.format(team), inplace=True, axis=1)\n",
    "    data = pd.merge(data, won_in_season,\n",
    "                    left_on=['team_{}'.format(team), 'Season'], right_index=True,\n",
    "                    how='left').fillna(0)\n",
    "    \n",
    "    \n",
    "    # TOURNAMENT GAMES WON AGAINST OPPONENT\n",
    "    ncaa_wins_against_opponent = ncaa_games\\\n",
    "        .groupby(['Season', 'WTeamID', 'LTeamID']).count()[['diff']]\\\n",
    "        .rename(columns={'diff': 'ncaa_wins_against_opponent_{}'.format(team)})\n",
    "    for l in range(1, lags+1):\n",
    "        ncaa_wins_against_opponent[\n",
    "            'ncaa_wins_against_opponent_{}_lag-{}'.format(team, l)\n",
    "        ] = ncaa_wins_against_opponent.groupby(['WTeamID', 'LTeamID'])\\\n",
    "            ['ncaa_wins_against_opponent_{}'.format(team)].shift(l)\n",
    "    ncaa_wins_against_opponent.drop('ncaa_wins_against_opponent_{}'.format(team), inplace=True, axis=1)\n",
    "    data = pd.merge(data, ncaa_wins_against_opponent,\n",
    "                    left_on=['Season', 'team_{}'.format(team), 'team_{}'.format(opponent_team)],\n",
    "                    right_index=True,\n",
    "                    how='left').fillna(0)\n",
    "    \n",
    "    \n",
    "    # SEASON GAMES WON AGAINST OPPONENT\n",
    "    season_wins_against_opponent = regular_games\\\n",
    "        .groupby(['Season', 'WTeamID', 'LTeamID']).count()[['diff']]\\\n",
    "        .rename(columns={'diff': 'season_wins_against_opponent_{}'.format(team)})\n",
    "    for l in range(0, lags+1):\n",
    "        season_wins_against_opponent[\n",
    "            'season_wins_against_opponent_{}_lag-{}'.format(team, l)\n",
    "        ] = season_wins_against_opponent.groupby(['WTeamID', 'LTeamID'])\\\n",
    "            ['season_wins_against_opponent_{}'.format(team)].shift(l)\n",
    "    season_wins_against_opponent.drop('season_wins_against_opponent_{}'.format(team), inplace=True, axis=1)\n",
    "    data = pd.merge(data, season_wins_against_opponent,\n",
    "                    left_on=['Season', 'team_{}'.format(team), 'team_{}'.format(opponent_team)],\n",
    "                    right_index=True,\n",
    "                    how='left').fillna(0)\n",
    "    \n",
    "    \n",
    "data = data.dropna()\n",
    "data.head(5)"
   ]
  },
  {
   "cell_type": "code",
   "execution_count": null,
   "metadata": {},
   "outputs": [],
   "source": [
    "data.shape"
   ]
  },
  {
   "cell_type": "code",
   "execution_count": null,
   "metadata": {},
   "outputs": [],
   "source": [
    "from xgboost import XGBClassifier\n",
    "from sklearn.model_selection import KFold\n",
    "from sklearn.metrics import log_loss\n",
    "\n",
    "\n",
    "X = data[~data.in_target.astype(bool)].drop(['Season', 'team_a', 'team_b', 'a_win', 'in_target'], axis=1)\n",
    "y = data[~data.in_target.astype(bool)][['a_win']]\n",
    "\n",
    "kf = KFold(n_splits=8, shuffle=True)\n",
    "metrics = []\n",
    "for tr_i, t_i in kf.split(X):\n",
    "    X_tr, y_tr = X.iloc[tr_i], y.iloc[tr_i]\n",
    "    X_t, y_t = X.iloc[t_i], y.iloc[t_i]\n",
    "    xgb = XGBClassifier()\n",
    "    xgb.fit(X_tr.values, y_tr.values.reshape(-1))\n",
    "    preds = xgb.predict_proba(X_t.values)\n",
    "    metric = log_loss(y_t.values, preds)\n",
    "    print(metric)\n",
    "    metrics.append(metric)\n",
    "    \n",
    "print('Metric Mean: {:.2f} ({:.2f})'.format(np.mean(metrics), np.std(metrics)))"
   ]
  },
  {
   "cell_type": "code",
   "execution_count": null,
   "metadata": {},
   "outputs": [],
   "source": [
    "from xgboost import plot_importance\n",
    "\n",
    "plt.figure(figsize=(20,4))\n",
    "plot_importance(xgb, max_num_features=15)\n",
    "plt.show()"
   ]
  },
  {
   "cell_type": "code",
   "execution_count": null,
   "metadata": {},
   "outputs": [],
   "source": [
    "data.head()"
   ]
  },
  {
   "cell_type": "code",
   "execution_count": null,
   "metadata": {},
   "outputs": [],
   "source": [
    "X_sub = data[data.in_target.astype(bool)].drop(['Season', 'team_a', 'team_b', 'a_win', 'in_target'], axis=1)\n",
    "y_sub = data[data.in_target.astype(bool)][['Season', 'team_a', 'team_b', 'a_win', 'in_target']]\n",
    "\n",
    "xgb = XGBClassifier()\n",
    "xgb.fit(X.values, y.values.reshape(-1))\n",
    "preds = xgb.predict_proba(X_sub.values)\n",
    "\n",
    "sub = cp.deepcopy(y_sub)\n",
    "sub['Pred'] = preds[:,1]\n",
    "sub['ID'] = sub['Season'].map(str) + '_' + sub['team_a'].map(str) + '_' + sub['team_b'].map(str)\n",
    "sub.set_index('ID', inplace=True)\n",
    "sub.drop(['Season', 'team_a', 'team_b', 'a_win', 'in_target'], axis=1, inplace=True)\n",
    "sub.head()"
   ]
  },
  {
   "cell_type": "code",
   "execution_count": null,
   "metadata": {},
   "outputs": [],
   "source": [
    "y_sub"
   ]
  },
  {
   "cell_type": "code",
   "execution_count": null,
   "metadata": {},
   "outputs": [],
   "source": [
    "plt.figure(figsize=(20,4))\n",
    "plt.hist(sub['Pred'], bins=100)\n",
    "plt.show()"
   ]
  },
  {
   "cell_type": "code",
   "execution_count": null,
   "metadata": {},
   "outputs": [],
   "source": [
    "sub.to_csv('submissions/xgb_baseline_2_corrected_lags_and_features.csv')"
   ]
  },
  {
   "cell_type": "code",
   "execution_count": null,
   "metadata": {},
   "outputs": [],
   "source": []
  },
  {
   "cell_type": "code",
   "execution_count": null,
   "metadata": {},
   "outputs": [],
   "source": [
    "### "
   ]
  },
  {
   "cell_type": "code",
   "execution_count": null,
   "metadata": {},
   "outputs": [],
   "source": [
    "target = pd.read_csv('data/SampleSubmissionStage1.csv').set_index('ID').drop('Pred', axis=1)\n",
    "target['Season'] = target.index.map(lambda i: i.split('_')[0])\n",
    "target['team_a'] = target.index.map(lambda i: i.split('_')[1])\n",
    "target['team_b'] = target.index.map(lambda i: i.split('_')[2])\n",
    "target['in_target'] = True\n",
    "target.head()"
   ]
  },
  {
   "cell_type": "code",
   "execution_count": null,
   "metadata": {},
   "outputs": [],
   "source": [
    "ncaa_games = pd.read_csv('data/NCAATourneyCompactResults.csv')\n",
    "ncaa_games['team_a'] = ncaa_games[['WTeamID', 'LTeamID']].apply(lambda t: t[0] if int(t[0]) < int(t[1]) else t[1], axis=1)\n",
    "ncaa_games['team_b'] = ncaa_games[['WTeamID', 'LTeamID']].apply(lambda t: t[0] if int(t[0]) > int(t[1]) else t[1], axis=1)\n",
    "ncaa_games['a_win'] = ncaa_games['WTeamID'] == ncaa_games['team_a']\n",
    "ncaa_games['ID'] = ncaa_games['Season'].astype(str) + '_' + ncaa_games['team_a'].astype(str) + '_' + ncaa_games['team_b'].astype(str)\n",
    "#ncaa_games = ncaa_games[['Season', 'team_a', 'team_b', 'a_win']]\n",
    "#ncaa_games = pd.concat([ncaa_games, target.reset_index(drop=True)]).fillna(0).astype({'a_win': bool, 'in_target': bool})\n",
    "ncaa_games = ncaa_games.set_index('ID')\n",
    "ncaa_games.head()"
   ]
  },
  {
   "cell_type": "code",
   "execution_count": null,
   "metadata": {},
   "outputs": [],
   "source": []
  },
  {
   "cell_type": "code",
   "execution_count": null,
   "metadata": {},
   "outputs": [],
   "source": [
    "np.nansum()"
   ]
  },
  {
   "cell_type": "code",
   "execution_count": null,
   "metadata": {},
   "outputs": [],
   "source": [
    "submission = pd.read_csv('data/SampleSubmissionStage1.csv')\n",
    "submission.head()"
   ]
  },
  {
   "cell_type": "code",
   "execution_count": null,
   "metadata": {},
   "outputs": [],
   "source": [
    "target = target.join(ncaa_games['a_win']).drop('in_target', axis=1).dropna().sort_values(['Season', 'team_a', 'team_b'])"
   ]
  },
  {
   "cell_type": "code",
   "execution_count": null,
   "metadata": {},
   "outputs": [],
   "source": [
    "target['a_win'] = target['a_win'] * 1\n",
    "target.to_csv('data/target.csv')"
   ]
  },
  {
   "cell_type": "code",
   "execution_count": null,
   "metadata": {},
   "outputs": [],
   "source": [
    "to_submit = pd.merge(submission, target.reset_index(), how='left', on='ID')\n",
    "to_submit['Pred'] = to_submit['a_win']\n",
    "to_submit = to_submit.fillna(0)[['ID', 'Pred']]\n",
    "to_submit.head()"
   ]
  },
  {
   "cell_type": "code",
   "execution_count": null,
   "metadata": {},
   "outputs": [],
   "source": [
    "(to_submit*1).to_csv('data/ground_truth_submission.csv', index=False)"
   ]
  },
  {
   "cell_type": "code",
   "execution_count": null,
   "metadata": {},
   "outputs": [],
   "source": [
    "## Features"
   ]
  },
  {
   "cell_type": "code",
   "execution_count": null,
   "metadata": {},
   "outputs": [],
   "source": [
    "from src.features.games import GameFeatures"
   ]
  },
  {
   "cell_type": "code",
   "execution_count": null,
   "metadata": {},
   "outputs": [],
   "source": [
    "game_features = GameFeatures()"
   ]
  },
  {
   "cell_type": "code",
   "execution_count": null,
   "metadata": {},
   "outputs": [],
   "source": [
    "game_features.season_games"
   ]
  },
  {
   "cell_type": "code",
   "execution_count": null,
   "metadata": {},
   "outputs": [],
   "source": []
  },
  {
   "cell_type": "code",
   "execution_count": null,
   "metadata": {},
   "outputs": [],
   "source": []
  },
  {
   "cell_type": "markdown",
   "metadata": {},
   "source": [
    "## Neural net"
   ]
  },
  {
   "cell_type": "code",
   "execution_count": null,
   "metadata": {},
   "outputs": [],
   "source": [
    "from keras import Sequential\n",
    "from keras.layers import Dense"
   ]
  },
  {
   "cell_type": "code",
   "execution_count": null,
   "metadata": {},
   "outputs": [],
   "source": [
    "train_data = data.loc[~data['in_target']]\n",
    "train_data.head()"
   ]
  },
  {
   "cell_type": "code",
   "execution_count": null,
   "metadata": {},
   "outputs": [],
   "source": [
    "print train_data['a_win'].shape\n",
    "sum(train_data['a_win'])"
   ]
  },
  {
   "cell_type": "code",
   "execution_count": null,
   "metadata": {},
   "outputs": [],
   "source": [
    "cols_to_drop = ['Season', 'a_win', 'in_target', 'team_a', 'team_b']"
   ]
  },
  {
   "cell_type": "code",
   "execution_count": null,
   "metadata": {},
   "outputs": [],
   "source": [
    "model = Sequential()\n",
    "model.add(Dense(12, input_dim=data.shape[1]-len(cols_to_drop), activation='relu'))\n",
    "model.add(Dense(8, activation='relu'))\n",
    "model.add(Dense(1, activation='sigmoid'))\n",
    "# Compile model\n",
    "model.compile(loss='binary_crossentropy', optimizer='adam', metrics=['binary_crossentropy'])"
   ]
  },
  {
   "cell_type": "code",
   "execution_count": null,
   "metadata": {},
   "outputs": [],
   "source": [
    "# Fit the model\n",
    "model.fit(train_data.drop(cols_to_drop, axis=1), train_data['a_win']*1, epochs=10, batch_size=10)"
   ]
  },
  {
   "cell_type": "code",
   "execution_count": null,
   "metadata": {},
   "outputs": [],
   "source": [
    "predictions = model.predict(train_data.drop(cols_to_drop, axis=1))"
   ]
  },
  {
   "cell_type": "code",
   "execution_count": null,
   "metadata": {},
   "outputs": [],
   "source": [
    "pd.Series(predictions.reshape(-1)).describe()"
   ]
  },
  {
   "cell_type": "code",
   "execution_count": null,
   "metadata": {},
   "outputs": [],
   "source": [
    "plt.figure(figsize=(15,5))\n",
    "plt.hist(predictions, bins=100)\n",
    "plt.show()"
   ]
  },
  {
   "cell_type": "code",
   "execution_count": null,
   "metadata": {},
   "outputs": [],
   "source": [
    "# evaluate the model\n",
    "scores = model.evaluate(data.drop('a_win', axis=1), data['a_win'])"
   ]
  },
  {
   "cell_type": "markdown",
   "metadata": {},
   "source": [
    "### Tensorflow nn"
   ]
  },
  {
   "cell_type": "code",
   "execution_count": 246,
   "metadata": {},
   "outputs": [
    {
     "name": "stdout",
     "output_type": "stream",
     "text": [
      "The autoreload extension is already loaded. To reload it, use:\n",
      "  %reload_ext autoreload\n"
     ]
    }
   ],
   "source": [
    "%load_ext autoreload\n",
    "%autoreload 2\n",
    "from src.features.games import GameFeatures\n",
    "from src.utils import load_data_template\n",
    "from src.models.nn.ann import ANN"
   ]
  },
  {
   "cell_type": "code",
   "execution_count": 247,
   "metadata": {},
   "outputs": [
    {
     "data": {
      "text/html": [
       "<div>\n",
       "<style scoped>\n",
       "    .dataframe tbody tr th:only-of-type {\n",
       "        vertical-align: middle;\n",
       "    }\n",
       "\n",
       "    .dataframe tbody tr th {\n",
       "        vertical-align: top;\n",
       "    }\n",
       "\n",
       "    .dataframe thead th {\n",
       "        text-align: right;\n",
       "    }\n",
       "</style>\n",
       "<table border=\"1\" class=\"dataframe\">\n",
       "  <thead>\n",
       "    <tr style=\"text-align: right;\">\n",
       "      <th></th>\n",
       "      <th>Season</th>\n",
       "      <th>team_a</th>\n",
       "      <th>team_b</th>\n",
       "      <th>in_target</th>\n",
       "      <th>game_set</th>\n",
       "      <th>a_win</th>\n",
       "      <th>DayNum</th>\n",
       "      <th>games_won_in_season_team_a</th>\n",
       "      <th>games_won_in_season_team_a_lag-1</th>\n",
       "      <th>games_won_in_season_team_a_lag-2</th>\n",
       "      <th>...</th>\n",
       "      <th>games_won_in_season_against_opponent_team_b</th>\n",
       "      <th>games_won_in_season_against_opponent_team_b_lag-1</th>\n",
       "      <th>games_won_in_season_against_opponent_team_b_lag-2</th>\n",
       "      <th>games_won_in_season_against_opponent_team_b_lag-3</th>\n",
       "      <th>games_won_in_tourney_against_opponent_team_a_lag-1</th>\n",
       "      <th>games_won_in_tourney_against_opponent_team_a_lag-2</th>\n",
       "      <th>games_won_in_tourney_against_opponent_team_a_lag-3</th>\n",
       "      <th>games_won_in_tourney_against_opponent_team_b_lag-1</th>\n",
       "      <th>games_won_in_tourney_against_opponent_team_b_lag-2</th>\n",
       "      <th>games_won_in_tourney_against_opponent_team_b_lag-3</th>\n",
       "    </tr>\n",
       "  </thead>\n",
       "  <tbody>\n",
       "    <tr>\n",
       "      <th>10601</th>\n",
       "      <td>2008</td>\n",
       "      <td>1242</td>\n",
       "      <td>1424</td>\n",
       "      <td>False</td>\n",
       "      <td>0</td>\n",
       "      <td>True</td>\n",
       "      <td>138.0</td>\n",
       "      <td>30</td>\n",
       "      <td>30.0</td>\n",
       "      <td>24.0</td>\n",
       "      <td>...</td>\n",
       "      <td>0.0</td>\n",
       "      <td>0.0</td>\n",
       "      <td>0.0</td>\n",
       "      <td>0.0</td>\n",
       "      <td>0.0</td>\n",
       "      <td>0.0</td>\n",
       "      <td>0.0</td>\n",
       "      <td>0.0</td>\n",
       "      <td>0.0</td>\n",
       "      <td>0.0</td>\n",
       "    </tr>\n",
       "    <tr>\n",
       "      <th>10481</th>\n",
       "      <td>2006</td>\n",
       "      <td>1133</td>\n",
       "      <td>1338</td>\n",
       "      <td>False</td>\n",
       "      <td>0</td>\n",
       "      <td>True</td>\n",
       "      <td>139.0</td>\n",
       "      <td>20</td>\n",
       "      <td>13.0</td>\n",
       "      <td>15.0</td>\n",
       "      <td>...</td>\n",
       "      <td>0.0</td>\n",
       "      <td>0.0</td>\n",
       "      <td>0.0</td>\n",
       "      <td>0.0</td>\n",
       "      <td>0.0</td>\n",
       "      <td>0.0</td>\n",
       "      <td>0.0</td>\n",
       "      <td>0.0</td>\n",
       "      <td>0.0</td>\n",
       "      <td>0.0</td>\n",
       "    </tr>\n",
       "    <tr>\n",
       "      <th>7680</th>\n",
       "      <td>2017</td>\n",
       "      <td>1211</td>\n",
       "      <td>1462</td>\n",
       "      <td>True</td>\n",
       "      <td>0</td>\n",
       "      <td>True</td>\n",
       "      <td>145.0</td>\n",
       "      <td>32</td>\n",
       "      <td>25.0</td>\n",
       "      <td>31.0</td>\n",
       "      <td>...</td>\n",
       "      <td>0.0</td>\n",
       "      <td>0.0</td>\n",
       "      <td>0.0</td>\n",
       "      <td>0.0</td>\n",
       "      <td>1.0</td>\n",
       "      <td>0.0</td>\n",
       "      <td>0.0</td>\n",
       "      <td>0.0</td>\n",
       "      <td>0.0</td>\n",
       "      <td>0.0</td>\n",
       "    </tr>\n",
       "    <tr>\n",
       "      <th>9345</th>\n",
       "      <td>1988</td>\n",
       "      <td>1210</td>\n",
       "      <td>1350</td>\n",
       "      <td>False</td>\n",
       "      <td>0</td>\n",
       "      <td>False</td>\n",
       "      <td>139.0</td>\n",
       "      <td>21</td>\n",
       "      <td>16.0</td>\n",
       "      <td>24.0</td>\n",
       "      <td>...</td>\n",
       "      <td>1.0</td>\n",
       "      <td>1.0</td>\n",
       "      <td>0.0</td>\n",
       "      <td>0.0</td>\n",
       "      <td>0.0</td>\n",
       "      <td>0.0</td>\n",
       "      <td>0.0</td>\n",
       "      <td>0.0</td>\n",
       "      <td>0.0</td>\n",
       "      <td>0.0</td>\n",
       "    </tr>\n",
       "    <tr>\n",
       "      <th>10945</th>\n",
       "      <td>2013</td>\n",
       "      <td>1235</td>\n",
       "      <td>1326</td>\n",
       "      <td>False</td>\n",
       "      <td>0</td>\n",
       "      <td>False</td>\n",
       "      <td>139.0</td>\n",
       "      <td>22</td>\n",
       "      <td>22.0</td>\n",
       "      <td>16.0</td>\n",
       "      <td>...</td>\n",
       "      <td>0.0</td>\n",
       "      <td>0.0</td>\n",
       "      <td>0.0</td>\n",
       "      <td>0.0</td>\n",
       "      <td>0.0</td>\n",
       "      <td>0.0</td>\n",
       "      <td>0.0</td>\n",
       "      <td>1.0</td>\n",
       "      <td>0.0</td>\n",
       "      <td>0.0</td>\n",
       "    </tr>\n",
       "    <tr>\n",
       "      <th>9863</th>\n",
       "      <td>1996</td>\n",
       "      <td>1153</td>\n",
       "      <td>1280</td>\n",
       "      <td>False</td>\n",
       "      <td>0</td>\n",
       "      <td>False</td>\n",
       "      <td>146.0</td>\n",
       "      <td>25</td>\n",
       "      <td>21.0</td>\n",
       "      <td>22.0</td>\n",
       "      <td>...</td>\n",
       "      <td>0.0</td>\n",
       "      <td>0.0</td>\n",
       "      <td>0.0</td>\n",
       "      <td>0.0</td>\n",
       "      <td>0.0</td>\n",
       "      <td>0.0</td>\n",
       "      <td>0.0</td>\n",
       "      <td>0.0</td>\n",
       "      <td>0.0</td>\n",
       "      <td>0.0</td>\n",
       "    </tr>\n",
       "    <tr>\n",
       "      <th>10387</th>\n",
       "      <td>2005</td>\n",
       "      <td>1261</td>\n",
       "      <td>1412</td>\n",
       "      <td>False</td>\n",
       "      <td>0</td>\n",
       "      <td>False</td>\n",
       "      <td>136.0</td>\n",
       "      <td>20</td>\n",
       "      <td>18.0</td>\n",
       "      <td>21.0</td>\n",
       "      <td>...</td>\n",
       "      <td>0.0</td>\n",
       "      <td>0.0</td>\n",
       "      <td>0.0</td>\n",
       "      <td>0.0</td>\n",
       "      <td>0.0</td>\n",
       "      <td>0.0</td>\n",
       "      <td>0.0</td>\n",
       "      <td>0.0</td>\n",
       "      <td>0.0</td>\n",
       "      <td>0.0</td>\n",
       "    </tr>\n",
       "    <tr>\n",
       "      <th>10683</th>\n",
       "      <td>2009</td>\n",
       "      <td>1338</td>\n",
       "      <td>1462</td>\n",
       "      <td>False</td>\n",
       "      <td>0</td>\n",
       "      <td>True</td>\n",
       "      <td>143.0</td>\n",
       "      <td>27</td>\n",
       "      <td>26.0</td>\n",
       "      <td>27.0</td>\n",
       "      <td>...</td>\n",
       "      <td>0.0</td>\n",
       "      <td>0.0</td>\n",
       "      <td>0.0</td>\n",
       "      <td>0.0</td>\n",
       "      <td>0.0</td>\n",
       "      <td>0.0</td>\n",
       "      <td>0.0</td>\n",
       "      <td>0.0</td>\n",
       "      <td>0.0</td>\n",
       "      <td>0.0</td>\n",
       "    </tr>\n",
       "    <tr>\n",
       "      <th>10368</th>\n",
       "      <td>2004</td>\n",
       "      <td>1400</td>\n",
       "      <td>1462</td>\n",
       "      <td>False</td>\n",
       "      <td>0</td>\n",
       "      <td>False</td>\n",
       "      <td>144.0</td>\n",
       "      <td>23</td>\n",
       "      <td>22.0</td>\n",
       "      <td>19.0</td>\n",
       "      <td>...</td>\n",
       "      <td>0.0</td>\n",
       "      <td>0.0</td>\n",
       "      <td>0.0</td>\n",
       "      <td>0.0</td>\n",
       "      <td>0.0</td>\n",
       "      <td>0.0</td>\n",
       "      <td>0.0</td>\n",
       "      <td>0.0</td>\n",
       "      <td>0.0</td>\n",
       "      <td>0.0</td>\n",
       "    </tr>\n",
       "    <tr>\n",
       "      <th>3048</th>\n",
       "      <td>2015</td>\n",
       "      <td>1173</td>\n",
       "      <td>1344</td>\n",
       "      <td>True</td>\n",
       "      <td>0</td>\n",
       "      <td>True</td>\n",
       "      <td>137.0</td>\n",
       "      <td>25</td>\n",
       "      <td>23.0</td>\n",
       "      <td>17.0</td>\n",
       "      <td>...</td>\n",
       "      <td>0.0</td>\n",
       "      <td>0.0</td>\n",
       "      <td>0.0</td>\n",
       "      <td>0.0</td>\n",
       "      <td>0.0</td>\n",
       "      <td>0.0</td>\n",
       "      <td>0.0</td>\n",
       "      <td>0.0</td>\n",
       "      <td>0.0</td>\n",
       "      <td>0.0</td>\n",
       "    </tr>\n",
       "  </tbody>\n",
       "</table>\n",
       "<p>10 rows × 35 columns</p>\n",
       "</div>"
      ],
      "text/plain": [
       "      Season team_a team_b  in_target  game_set  a_win  DayNum  \\\n",
       "10601   2008   1242   1424      False         0   True   138.0   \n",
       "10481   2006   1133   1338      False         0   True   139.0   \n",
       "7680    2017   1211   1462       True         0   True   145.0   \n",
       "9345    1988   1210   1350      False         0  False   139.0   \n",
       "10945   2013   1235   1326      False         0  False   139.0   \n",
       "9863    1996   1153   1280      False         0  False   146.0   \n",
       "10387   2005   1261   1412      False         0  False   136.0   \n",
       "10683   2009   1338   1462      False         0   True   143.0   \n",
       "10368   2004   1400   1462      False         0  False   144.0   \n",
       "3048    2015   1173   1344       True         0   True   137.0   \n",
       "\n",
       "       games_won_in_season_team_a  games_won_in_season_team_a_lag-1  \\\n",
       "10601                          30                              30.0   \n",
       "10481                          20                              13.0   \n",
       "7680                           32                              25.0   \n",
       "9345                           21                              16.0   \n",
       "10945                          22                              22.0   \n",
       "9863                           25                              21.0   \n",
       "10387                          20                              18.0   \n",
       "10683                          27                              26.0   \n",
       "10368                          23                              22.0   \n",
       "3048                           25                              23.0   \n",
       "\n",
       "       games_won_in_season_team_a_lag-2  \\\n",
       "10601                              24.0   \n",
       "10481                              15.0   \n",
       "7680                               31.0   \n",
       "9345                               24.0   \n",
       "10945                              16.0   \n",
       "9863                               22.0   \n",
       "10387                              21.0   \n",
       "10683                              27.0   \n",
       "10368                              19.0   \n",
       "3048                               17.0   \n",
       "\n",
       "                              ...                          \\\n",
       "10601                         ...                           \n",
       "10481                         ...                           \n",
       "7680                          ...                           \n",
       "9345                          ...                           \n",
       "10945                         ...                           \n",
       "9863                          ...                           \n",
       "10387                         ...                           \n",
       "10683                         ...                           \n",
       "10368                         ...                           \n",
       "3048                          ...                           \n",
       "\n",
       "       games_won_in_season_against_opponent_team_b  \\\n",
       "10601                                          0.0   \n",
       "10481                                          0.0   \n",
       "7680                                           0.0   \n",
       "9345                                           1.0   \n",
       "10945                                          0.0   \n",
       "9863                                           0.0   \n",
       "10387                                          0.0   \n",
       "10683                                          0.0   \n",
       "10368                                          0.0   \n",
       "3048                                           0.0   \n",
       "\n",
       "       games_won_in_season_against_opponent_team_b_lag-1  \\\n",
       "10601                                                0.0   \n",
       "10481                                                0.0   \n",
       "7680                                                 0.0   \n",
       "9345                                                 1.0   \n",
       "10945                                                0.0   \n",
       "9863                                                 0.0   \n",
       "10387                                                0.0   \n",
       "10683                                                0.0   \n",
       "10368                                                0.0   \n",
       "3048                                                 0.0   \n",
       "\n",
       "       games_won_in_season_against_opponent_team_b_lag-2  \\\n",
       "10601                                                0.0   \n",
       "10481                                                0.0   \n",
       "7680                                                 0.0   \n",
       "9345                                                 0.0   \n",
       "10945                                                0.0   \n",
       "9863                                                 0.0   \n",
       "10387                                                0.0   \n",
       "10683                                                0.0   \n",
       "10368                                                0.0   \n",
       "3048                                                 0.0   \n",
       "\n",
       "       games_won_in_season_against_opponent_team_b_lag-3  \\\n",
       "10601                                                0.0   \n",
       "10481                                                0.0   \n",
       "7680                                                 0.0   \n",
       "9345                                                 0.0   \n",
       "10945                                                0.0   \n",
       "9863                                                 0.0   \n",
       "10387                                                0.0   \n",
       "10683                                                0.0   \n",
       "10368                                                0.0   \n",
       "3048                                                 0.0   \n",
       "\n",
       "       games_won_in_tourney_against_opponent_team_a_lag-1  \\\n",
       "10601                                                0.0    \n",
       "10481                                                0.0    \n",
       "7680                                                 1.0    \n",
       "9345                                                 0.0    \n",
       "10945                                                0.0    \n",
       "9863                                                 0.0    \n",
       "10387                                                0.0    \n",
       "10683                                                0.0    \n",
       "10368                                                0.0    \n",
       "3048                                                 0.0    \n",
       "\n",
       "       games_won_in_tourney_against_opponent_team_a_lag-2  \\\n",
       "10601                                                0.0    \n",
       "10481                                                0.0    \n",
       "7680                                                 0.0    \n",
       "9345                                                 0.0    \n",
       "10945                                                0.0    \n",
       "9863                                                 0.0    \n",
       "10387                                                0.0    \n",
       "10683                                                0.0    \n",
       "10368                                                0.0    \n",
       "3048                                                 0.0    \n",
       "\n",
       "       games_won_in_tourney_against_opponent_team_a_lag-3  \\\n",
       "10601                                                0.0    \n",
       "10481                                                0.0    \n",
       "7680                                                 0.0    \n",
       "9345                                                 0.0    \n",
       "10945                                                0.0    \n",
       "9863                                                 0.0    \n",
       "10387                                                0.0    \n",
       "10683                                                0.0    \n",
       "10368                                                0.0    \n",
       "3048                                                 0.0    \n",
       "\n",
       "       games_won_in_tourney_against_opponent_team_b_lag-1  \\\n",
       "10601                                                0.0    \n",
       "10481                                                0.0    \n",
       "7680                                                 0.0    \n",
       "9345                                                 0.0    \n",
       "10945                                                1.0    \n",
       "9863                                                 0.0    \n",
       "10387                                                0.0    \n",
       "10683                                                0.0    \n",
       "10368                                                0.0    \n",
       "3048                                                 0.0    \n",
       "\n",
       "       games_won_in_tourney_against_opponent_team_b_lag-2  \\\n",
       "10601                                                0.0    \n",
       "10481                                                0.0    \n",
       "7680                                                 0.0    \n",
       "9345                                                 0.0    \n",
       "10945                                                0.0    \n",
       "9863                                                 0.0    \n",
       "10387                                                0.0    \n",
       "10683                                                0.0    \n",
       "10368                                                0.0    \n",
       "3048                                                 0.0    \n",
       "\n",
       "       games_won_in_tourney_against_opponent_team_b_lag-3  \n",
       "10601                                                0.0   \n",
       "10481                                                0.0   \n",
       "7680                                                 0.0   \n",
       "9345                                                 0.0   \n",
       "10945                                                0.0   \n",
       "9863                                                 0.0   \n",
       "10387                                                0.0   \n",
       "10683                                                0.0   \n",
       "10368                                                0.0   \n",
       "3048                                                 0.0   \n",
       "\n",
       "[10 rows x 35 columns]"
      ]
     },
     "execution_count": 247,
     "metadata": {},
     "output_type": "execute_result"
    }
   ],
   "source": [
    "game_feat = GameFeatures()\n",
    "data = load_data_template()\n",
    "data = game_feat.per_team_wrapper(data, game_feat.games_won_in_season, fillna=0)\n",
    "data = game_feat.per_team_wrapper(data, game_feat.games_won_in_tourney, fillna=0)\n",
    "data = game_feat.per_team_wrapper(data, game_feat.games_won_in_season_against_opponent, per_game=True, fillna=0)\n",
    "data = game_feat.per_team_wrapper(data, game_feat.games_won_in_tourney_against_opponent, per_game=True, fillna=0)\n",
    "data = data.dropna()\n",
    "data.sample(10)"
   ]
  },
  {
   "cell_type": "code",
   "execution_count": 248,
   "metadata": {},
   "outputs": [
    {
     "name": "stdout",
     "output_type": "stream",
     "text": [
      "(2117, 35)\n",
      "(2117, 35)\n"
     ]
    }
   ],
   "source": [
    "print(data.shape)\n",
    "print(data.dropna().shape)"
   ]
  },
  {
   "cell_type": "code",
   "execution_count": 249,
   "metadata": {},
   "outputs": [],
   "source": [
    "X = data.loc[~data.in_target].drop(['Season', 'a_win', 'in_target', 'team_a', 'team_b', 'DayNum'], axis=1)\n",
    "Y = data.loc[~data.in_target, 'a_win']*1\n",
    "X_eval = data.loc[data.in_target].drop(['Season', 'a_win', 'in_target', 'team_a', 'team_b', 'DayNum'], axis=1)\n",
    "Y_eval = data.loc[data.in_target, 'a_win']*1"
   ]
  },
  {
   "cell_type": "code",
   "execution_count": 250,
   "metadata": {},
   "outputs": [
    {
     "data": {
      "text/plain": [
       "0.5116279069767442"
      ]
     },
     "execution_count": 250,
     "metadata": {},
     "output_type": "execute_result"
    }
   ],
   "source": [
    "sum(Y)/len(Y)"
   ]
  },
  {
   "cell_type": "code",
   "execution_count": 251,
   "metadata": {},
   "outputs": [
    {
     "name": "stdout",
     "output_type": "stream",
     "text": [
      "{'input_dim': 29, 'batch_size': 50, 'hidden_units': [32], 'eta': 0.01, 'num_epochs': 500}\n"
     ]
    }
   ],
   "source": [
    "param_dict = {\n",
    "    'input_dim': X.shape[1],\n",
    "    'batch_size': 50,\n",
    "    'hidden_units': [32],\n",
    "    'eta': 0.01,\n",
    "    'num_epochs': 500,\n",
    "}\n",
    "print(param_dict)"
   ]
  },
  {
   "cell_type": "code",
   "execution_count": 254,
   "metadata": {},
   "outputs": [],
   "source": [
    "ann = ANN(**param_dict)"
   ]
  },
  {
   "cell_type": "code",
   "execution_count": 255,
   "metadata": {},
   "outputs": [
    {
     "name": "stdout",
     "output_type": "stream",
     "text": [
      "Epoch: 000 train_loss=0.761 eval_loss=0.514\n",
      "Epoch: 005 train_loss=0.382 eval_loss=0.455\n",
      "Epoch: 010 train_loss=0.368 eval_loss=0.459\n",
      "Epoch: 015 train_loss=0.399 eval_loss=0.407\n",
      "Epoch: 020 train_loss=0.363 eval_loss=0.429\n",
      "Epoch: 025 train_loss=0.350 eval_loss=0.447\n",
      "Epoch: 030 train_loss=0.351 eval_loss=0.455\n",
      "Epoch: 035 train_loss=0.361 eval_loss=0.505\n",
      "Epoch: 040 train_loss=0.347 eval_loss=0.407\n",
      "Epoch: 045 train_loss=0.343 eval_loss=0.407\n",
      "Epoch: 050 train_loss=0.341 eval_loss=0.406\n",
      "Epoch: 055 train_loss=0.340 eval_loss=0.404\n",
      "Epoch: 060 train_loss=0.339 eval_loss=0.401\n",
      "Epoch: 065 train_loss=0.339 eval_loss=0.397\n",
      "Epoch: 070 train_loss=0.344 eval_loss=0.415\n",
      "Epoch: 075 train_loss=0.338 eval_loss=0.442\n",
      "Epoch: 080 train_loss=0.337 eval_loss=0.455\n",
      "Epoch: 085 train_loss=0.337 eval_loss=0.464\n",
      "Epoch: 090 train_loss=0.337 eval_loss=0.464\n",
      "Epoch: 095 train_loss=0.340 eval_loss=0.470\n",
      "Epoch: 100 train_loss=0.340 eval_loss=0.456\n",
      "Epoch: 105 train_loss=0.345 eval_loss=0.451\n",
      "Epoch: 110 train_loss=0.336 eval_loss=0.409\n",
      "Epoch: 115 train_loss=0.335 eval_loss=0.411\n",
      "Epoch: 120 train_loss=0.336 eval_loss=0.409\n",
      "Epoch: 125 train_loss=0.335 eval_loss=0.407\n",
      "Epoch: 130 train_loss=0.335 eval_loss=0.410\n",
      "Epoch: 135 train_loss=0.335 eval_loss=0.409\n",
      "Epoch: 140 train_loss=0.336 eval_loss=0.400\n",
      "Epoch: 145 train_loss=0.339 eval_loss=0.437\n",
      "Epoch: 150 train_loss=0.337 eval_loss=0.401\n",
      "Epoch: 155 train_loss=0.335 eval_loss=0.409\n",
      "Epoch: 160 train_loss=0.335 eval_loss=0.406\n",
      "Epoch: 165 train_loss=0.337 eval_loss=0.403\n",
      "Epoch: 170 train_loss=0.340 eval_loss=0.404\n",
      "Epoch: 175 train_loss=0.339 eval_loss=0.441\n",
      "Epoch: 180 train_loss=0.342 eval_loss=0.459\n",
      "Epoch: 185 train_loss=0.336 eval_loss=0.404\n",
      "Epoch: 190 train_loss=0.335 eval_loss=0.413\n",
      "Epoch: 195 train_loss=0.335 eval_loss=0.416\n",
      "Epoch: 200 train_loss=0.340 eval_loss=0.409\n",
      "Epoch: 205 train_loss=0.342 eval_loss=0.450\n",
      "Epoch: 210 train_loss=0.340 eval_loss=0.432\n",
      "Epoch: 215 train_loss=0.342 eval_loss=0.449\n",
      "Epoch: 220 train_loss=0.342 eval_loss=0.437\n",
      "Epoch: 225 train_loss=0.336 eval_loss=0.407\n",
      "Epoch: 230 train_loss=0.335 eval_loss=0.405\n",
      "Epoch: 235 train_loss=0.334 eval_loss=0.415\n",
      "Epoch: 240 train_loss=0.336 eval_loss=0.413\n",
      "Epoch: 245 train_loss=0.341 eval_loss=0.426\n",
      "Epoch: 250 train_loss=0.340 eval_loss=0.439\n",
      "Epoch: 255 train_loss=0.338 eval_loss=0.418\n",
      "Epoch: 260 train_loss=0.340 eval_loss=0.444\n",
      "Epoch: 265 train_loss=0.337 eval_loss=0.412\n",
      "Epoch: 270 train_loss=0.339 eval_loss=0.434\n",
      "Epoch: 275 train_loss=0.340 eval_loss=0.422\n",
      "Epoch: 280 train_loss=0.335 eval_loss=0.399\n",
      "Epoch: 285 train_loss=0.337 eval_loss=0.404\n",
      "Epoch: 290 train_loss=0.335 eval_loss=0.406\n",
      "Epoch: 295 train_loss=0.341 eval_loss=0.414\n",
      "Epoch: 300 train_loss=0.332 eval_loss=0.400\n",
      "Epoch: 305 train_loss=0.337 eval_loss=0.443\n",
      "Epoch: 310 train_loss=0.336 eval_loss=0.400\n",
      "Epoch: 315 train_loss=0.338 eval_loss=0.416\n",
      "Epoch: 320 train_loss=0.332 eval_loss=0.400\n",
      "Epoch: 325 train_loss=0.337 eval_loss=0.417\n",
      "Epoch: 330 train_loss=0.336 eval_loss=0.398\n",
      "Epoch: 335 train_loss=0.336 eval_loss=0.455\n",
      "Epoch: 340 train_loss=0.331 eval_loss=0.397\n",
      "Epoch: 345 train_loss=0.332 eval_loss=0.400\n",
      "Epoch: 350 train_loss=0.335 eval_loss=0.473\n",
      "Epoch: 355 train_loss=0.336 eval_loss=0.430\n",
      "Epoch: 360 train_loss=0.339 eval_loss=0.407\n",
      "Epoch: 365 train_loss=0.338 eval_loss=0.390\n",
      "Epoch: 370 train_loss=0.334 eval_loss=0.409\n",
      "Epoch: 375 train_loss=0.339 eval_loss=0.414\n",
      "Epoch: 380 train_loss=0.336 eval_loss=0.453\n",
      "Epoch: 385 train_loss=0.332 eval_loss=0.403\n",
      "Epoch: 390 train_loss=0.338 eval_loss=0.405\n",
      "Epoch: 395 train_loss=0.335 eval_loss=0.426\n",
      "Epoch: 400 train_loss=0.331 eval_loss=0.415\n",
      "Epoch: 405 train_loss=0.331 eval_loss=0.395\n",
      "Epoch: 410 train_loss=0.331 eval_loss=0.394\n",
      "Epoch: 415 train_loss=0.339 eval_loss=0.443\n",
      "Epoch: 420 train_loss=0.333 eval_loss=0.391\n",
      "Epoch: 425 train_loss=0.333 eval_loss=0.410\n",
      "Epoch: 430 train_loss=0.333 eval_loss=0.417\n",
      "Epoch: 435 train_loss=0.337 eval_loss=0.406\n",
      "Epoch: 440 train_loss=0.336 eval_loss=0.425\n",
      "Epoch: 445 train_loss=0.334 eval_loss=0.395\n",
      "Epoch: 450 train_loss=0.337 eval_loss=0.431\n",
      "Epoch: 455 train_loss=0.336 eval_loss=0.443\n",
      "Epoch: 460 train_loss=0.338 eval_loss=0.419\n",
      "Epoch: 465 train_loss=0.338 eval_loss=0.438\n",
      "Epoch: 470 train_loss=0.331 eval_loss=0.397\n",
      "Epoch: 475 train_loss=0.331 eval_loss=0.391\n",
      "Epoch: 480 train_loss=0.331 eval_loss=0.393\n",
      "Epoch: 485 train_loss=0.336 eval_loss=0.451\n",
      "Epoch: 490 train_loss=0.336 eval_loss=0.418\n",
      "Epoch: 495 train_loss=0.334 eval_loss=0.430\n"
     ]
    },
    {
     "data": {
      "text/plain": [
       "(0.33330241501331331, 0.43034416)"
      ]
     },
     "execution_count": 255,
     "metadata": {},
     "output_type": "execute_result"
    }
   ],
   "source": [
    "ann.train(X, Y, X_eval, Y_eval, verbose=True)"
   ]
  },
  {
   "cell_type": "code",
   "execution_count": 56,
   "metadata": {},
   "outputs": [
    {
     "data": {
      "text/plain": [
       "(11229, 29)"
      ]
     },
     "execution_count": 56,
     "metadata": {},
     "output_type": "execute_result"
    }
   ],
   "source": [
    "X.shape"
   ]
  },
  {
   "cell_type": "code",
   "execution_count": 124,
   "metadata": {},
   "outputs": [
    {
     "data": {
      "text/plain": [
       "{'l_0': <tf.Tensor 'add:0' shape=(?, 32) dtype=float32>}"
      ]
     },
     "execution_count": 124,
     "metadata": {},
     "output_type": "execute_result"
    }
   ],
   "source": [
    "ann.layers"
   ]
  },
  {
   "cell_type": "code",
   "execution_count": 125,
   "metadata": {},
   "outputs": [
    {
     "data": {
      "text/plain": [
       "{'w_0': <tf.Variable 'w_0:0' shape=(28, 32) dtype=float32_ref>,\n",
       " 'w_out': <tf.Variable 'w_out:0' shape=(32, 2) dtype=float32_ref>}"
      ]
     },
     "execution_count": 125,
     "metadata": {},
     "output_type": "execute_result"
    }
   ],
   "source": [
    "ann.weights"
   ]
  },
  {
   "cell_type": "code",
   "execution_count": 216,
   "metadata": {},
   "outputs": [],
   "source": [
    "## Random search"
   ]
  },
  {
   "cell_type": "code",
   "execution_count": 272,
   "metadata": {},
   "outputs": [],
   "source": [
    "from src.models.random_search import RandomSearch"
   ]
  },
  {
   "cell_type": "code",
   "execution_count": 273,
   "metadata": {},
   "outputs": [],
   "source": [
    "rs = RandomSearch('nn', ANN, X, Y, X_eval, Y_eval, iterations=50)"
   ]
  },
  {
   "cell_type": "code",
   "execution_count": null,
   "metadata": {},
   "outputs": [
    {
     "name": "stdout",
     "output_type": "stream",
     "text": [
      "{'input_dim': 29, 'eta': 0.014844844844844845, 'dropout': 0.84684684684684686, 'hidden_units': [37, 113], 'batch_size': 108, 'num_epochs': 297, 'train_loss': 0.10907566712962258, 'eval_loss': 0.69390225}\n",
      "{'input_dim': 29, 'eta': 0.045035035035035038, 'dropout': 0.03403403403403403, 'hidden_units': [107, 24], 'batch_size': 112, 'num_epochs': 401, 'train_loss': 1.1808460525103979, 'eval_loss': 7.878624}\n",
      "{'input_dim': 29, 'eta': 0.034304304304304305, 'dropout': 0.073073073073073078, 'hidden_units': [24, 5], 'batch_size': 42, 'num_epochs': 429, 'train_loss': 0.72686848895890377, 'eval_loss': 0.69295365}\n",
      "{'input_dim': 29, 'eta': 0.040070070070070067, 'dropout': 0.79379379379379378, 'hidden_units': [92], 'batch_size': 24, 'num_epochs': 359, 'train_loss': 25.268472939729698, 'eval_loss': 8.2394772}\n",
      "{'input_dim': 29, 'eta': 0.021771771771771774, 'dropout': 0.24224224224224225, 'hidden_units': [42, 66], 'batch_size': 54, 'num_epochs': 223, 'train_loss': 0.43653480101514741, 'eval_loss': 0.6934343}\n",
      "{'input_dim': 29, 'eta': 0.022692692692692692, 'dropout': 0.81881881881881879, 'hidden_units': [104, 111, 54], 'batch_size': 114, 'num_epochs': 472, 'train_loss': 0.99179974773473911, 'eval_loss': 7.878624}\n",
      "{'input_dim': 29, 'eta': 0.032582582582582585, 'dropout': 0.096096096096096095, 'hidden_units': [115, 23, 15], 'batch_size': 88, 'num_epochs': 206, 'train_loss': 0.16546923531727356, 'eval_loss': 0.69342297}\n",
      "{'input_dim': 29, 'eta': 0.040910910910910911, 'dropout': 0.85285285285285284, 'hidden_units': [15], 'batch_size': 52, 'num_epochs': 298, 'train_loss': 0.32700859898558038, 'eval_loss': 0.39196676}\n",
      "{'input_dim': 29, 'eta': 0.044954954954954954, 'dropout': 0.76076076076076071, 'hidden_units': [56, 84], 'batch_size': 29, 'num_epochs': 174, 'train_loss': 17.058972720442142, 'eval_loss': 8.2394772}\n",
      "{'input_dim': 29, 'eta': 0.039789789789789788, 'dropout': 0.36936936936936937, 'hidden_units': [56], 'batch_size': 63, 'num_epochs': 395, 'train_loss': 3.7970318794250488, 'eval_loss': 7.878624}\n",
      "{'input_dim': 29, 'eta': 0.040830830830830833, 'dropout': 0.83983983983983979, 'hidden_units': [102, 63, 108], 'batch_size': 55, 'num_epochs': 123, 'train_loss': 2.9985664671117611, 'eval_loss': 8.2394772}\n",
      "{'input_dim': 29, 'eta': 0.031861861861861865, 'dropout': 0.43443443443443441, 'hidden_units': [81], 'batch_size': 6, 'num_epochs': 171, 'train_loss': 404.29555553197901, 'eval_loss': 8.2394772}\n",
      "{'input_dim': 29, 'eta': 0.010400400400400401, 'dropout': 0.36336336336336333, 'hidden_units': [17, 70, 44], 'batch_size': 23, 'num_epochs': 483, 'train_loss': 1.8385585300300431, 'eval_loss': 0.45069459}\n",
      "{'input_dim': 29, 'eta': 0.038588588588588588, 'dropout': 0.45245245245245247, 'hidden_units': [32, 65], 'batch_size': 14, 'num_epochs': 465, 'train_loss': 74.258369905608035, 'eval_loss': 8.2394772}\n",
      "{'input_dim': 29, 'eta': 0.03082082082082082, 'dropout': 0.38738738738738737, 'hidden_units': [53], 'batch_size': 8, 'num_epochs': 287, 'train_loss': 237.99375230073929, 'eval_loss': 7.878624}\n",
      "{'input_dim': 29, 'eta': 0.040630630630630632, 'dropout': 0.33833833833833832, 'hidden_units': [82], 'batch_size': 21, 'num_epochs': 184, 'train_loss': 34.538776783716145, 'eval_loss': 7.878624}\n",
      "{'input_dim': 29, 'eta': 0.011121121121121121, 'dropout': 0.98398398398398401, 'hidden_units': [30, 121, 59], 'batch_size': 121, 'num_epochs': 359, 'train_loss': 0.20101751768884582, 'eval_loss': 8.2394772}\n",
      "{'input_dim': 29, 'eta': 0.049919919919919918, 'dropout': 0.38638638638638639, 'hidden_units': [20, 82], 'batch_size': 101, 'num_epochs': 262, 'train_loss': 1.3999249958755948, 'eval_loss': 8.2394772}\n",
      "{'input_dim': 29, 'eta': 0.041511511511511515, 'dropout': 0.93393393393393398, 'hidden_units': [63, 9, 47], 'batch_size': 103, 'num_epochs': 285, 'train_loss': 0.18573164534800263, 'eval_loss': 8.2394772}\n",
      "{'input_dim': 29, 'eta': 0.047237237237237238, 'dropout': 0.21921921921921922, 'hidden_units': [96, 65, 69], 'batch_size': 90, 'num_epochs': 462, 'train_loss': 1.7451322714487705, 'eval_loss': 8.2394772}\n",
      "{'input_dim': 29, 'eta': 0.037627627627627627, 'dropout': 0.25425425425425424, 'hidden_units': [114, 26], 'batch_size': 109, 'num_epochs': 154, 'train_loss': 0.10175669412000463, 'eval_loss': 0.69366002}\n",
      "{'input_dim': 29, 'eta': 0.018048048048048049, 'dropout': 0.025025025025025023, 'hidden_units': [85, 114, 24], 'batch_size': 23, 'num_epochs': 136, 'train_loss': 2.41216873086017, 'eval_loss': 0.69294703}\n",
      "{'input_dim': 29, 'eta': 0.025495495495495495, 'dropout': 0.95595595595595595, 'hidden_units': [17, 52, 121], 'batch_size': 13, 'num_epochs': 450, 'train_loss': 16.51383213813488, 'eval_loss': 8.2394772}\n",
      "{'input_dim': 29, 'eta': 0.042112112112112111, 'dropout': 0.43443443443443441, 'hidden_units': [24, 37, 80], 'batch_size': 52, 'num_epochs': 135, 'train_loss': 0.4670534225610587, 'eval_loss': 0.69296426}\n",
      "{'input_dim': 29, 'eta': 0.023333333333333331, 'dropout': 0.88788788788788786, 'hidden_units': [32, 80, 103], 'batch_size': 20, 'num_epochs': 306, 'train_loss': 15.285400217771532, 'eval_loss': 8.2394772}\n",
      "{'input_dim': 29, 'eta': 0.033383383383383383, 'dropout': 0.16616616616616617, 'hidden_units': [18], 'batch_size': 102, 'num_epochs': 181, 'train_loss': 0.080820811145445898, 'eval_loss': 0.40470135}\n",
      "{'input_dim': 29, 'eta': 0.032542542542542539, 'dropout': 0.84484484484484479, 'hidden_units': [119, 30, 65], 'batch_size': 15, 'num_epochs': 231, 'train_loss': 15.03144769072532, 'eval_loss': 7.878624}\n",
      "{'input_dim': 29, 'eta': 0.036466466466466466, 'dropout': 0.4144144144144144, 'hidden_units': [123, 98, 78], 'batch_size': 78, 'num_epochs': 242, 'train_loss': 2.3154531014271269, 'eval_loss': 8.2394772}\n",
      "{'input_dim': 29, 'eta': 0.03802802802802803, 'dropout': 0.15215215215215216, 'hidden_units': [51, 57, 101], 'batch_size': 118, 'num_epochs': 222, 'train_loss': 1.0013038990861278, 'eval_loss': 8.2394772}\n",
      "{'input_dim': 29, 'eta': 0.016806806806806806, 'dropout': 0.6476476476476476, 'hidden_units': [102, 123, 55], 'batch_size': 74, 'num_epochs': 471, 'train_loss': 0.22479730763950864, 'eval_loss': 0.69368839}\n",
      "{'input_dim': 29, 'eta': 0.042552552552552553, 'dropout': 0.74874874874874875, 'hidden_units': [51], 'batch_size': 58, 'num_epochs': 353, 'train_loss': 4.422414664564462, 'eval_loss': 7.878624}\n",
      "{'input_dim': 29, 'eta': 0.048518518518518516, 'dropout': 0.02002002002002002, 'hidden_units': [16, 85], 'batch_size': 12, 'num_epochs': 371, 'train_loss': 101.07389040788009, 'eval_loss': 8.2394772}\n",
      "{'input_dim': 29, 'eta': 0.017687687687687689, 'dropout': 0.38838838838838841, 'hidden_units': [96], 'batch_size': 64, 'num_epochs': 391, 'train_loss': 3.4353266134858131, 'eval_loss': 8.2394772}\n",
      "{'input_dim': 29, 'eta': 0.023733733733733733, 'dropout': 0.5025025025025025, 'hidden_units': [42], 'batch_size': 26, 'num_epochs': 434, 'train_loss': 1.7553697460545945, 'eval_loss': 0.49662894}\n",
      "{'input_dim': 29, 'eta': 0.03850850850850851, 'dropout': 0.61461461461461464, 'hidden_units': [45, 12], 'batch_size': 116, 'num_epochs': 147, 'train_loss': 0.089643210172653198, 'eval_loss': 0.69372785}\n"
     ]
    }
   ],
   "source": [
    "performance = rs.search()"
   ]
  },
  {
   "cell_type": "code",
   "execution_count": null,
   "metadata": {},
   "outputs": [],
   "source": [
    "performance.head()"
   ]
  },
  {
   "cell_type": "code",
   "execution_count": null,
   "metadata": {},
   "outputs": [],
   "source": []
  }
 ],
 "metadata": {
  "kernelspec": {
   "display_name": "Python 3",
   "language": "python",
   "name": "python3"
  },
  "language_info": {
   "codemirror_mode": {
    "name": "ipython",
    "version": 3
   },
   "file_extension": ".py",
   "mimetype": "text/x-python",
   "name": "python",
   "nbconvert_exporter": "python",
   "pygments_lexer": "ipython3",
   "version": "3.6.3"
  }
 },
 "nbformat": 4,
 "nbformat_minor": 2
}
