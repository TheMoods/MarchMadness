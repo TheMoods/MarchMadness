{
 "cells": [
  {
   "cell_type": "code",
   "execution_count": 12,
   "metadata": {},
   "outputs": [
    {
     "name": "stdout",
     "output_type": "stream",
     "text": [
      "The autoreload extension is already loaded. To reload it, use:\n",
      "  %reload_ext autoreload\n"
     ]
    }
   ],
   "source": [
    "%load_ext autoreload\n",
    "%autoreload 2"
   ]
  },
  {
   "cell_type": "code",
   "execution_count": 19,
   "metadata": {
    "collapsed": true
   },
   "outputs": [],
   "source": [
    "import copy as cp\n",
    "import numpy as np\n",
    "import pandas as pd\n",
    "import matplotlib.pyplot as plt\n",
    "from src.utils import load_data_template\n",
    "from src.features.games import GameFeatures\n",
    "from src.features.games_detailed import GameDetailedFeatures\n",
    "from src.features.seeds import SeedFeatures"
   ]
  },
  {
   "cell_type": "code",
   "execution_count": 20,
   "metadata": {},
   "outputs": [
    {
     "data": {
      "text/html": [
       "<div>\n",
       "<style scoped>\n",
       "    .dataframe tbody tr th:only-of-type {\n",
       "        vertical-align: middle;\n",
       "    }\n",
       "\n",
       "    .dataframe tbody tr th {\n",
       "        vertical-align: top;\n",
       "    }\n",
       "\n",
       "    .dataframe thead th {\n",
       "        text-align: right;\n",
       "    }\n",
       "</style>\n",
       "<table border=\"1\" class=\"dataframe\">\n",
       "  <thead>\n",
       "    <tr style=\"text-align: right;\">\n",
       "      <th></th>\n",
       "      <th>Season</th>\n",
       "      <th>team_a</th>\n",
       "      <th>team_b</th>\n",
       "      <th>in_target</th>\n",
       "      <th>game_set</th>\n",
       "      <th>a_win</th>\n",
       "      <th>DayNum</th>\n",
       "    </tr>\n",
       "  </thead>\n",
       "  <tbody>\n",
       "    <tr>\n",
       "      <th>10434</th>\n",
       "      <td>2005</td>\n",
       "      <td>1257</td>\n",
       "      <td>1452</td>\n",
       "      <td>False</td>\n",
       "      <td>0</td>\n",
       "      <td>True</td>\n",
       "      <td>145</td>\n",
       "    </tr>\n",
       "  </tbody>\n",
       "</table>\n",
       "</div>"
      ],
      "text/plain": [
       "       Season team_a team_b  in_target  game_set a_win  DayNum\n",
       "10434    2005   1257   1452      False         0  True     145"
      ]
     },
     "execution_count": 20,
     "metadata": {},
     "output_type": "execute_result"
    }
   ],
   "source": [
    "data = load_data_template(season=False)\n",
    "data.dropna(subset=['a_win'], inplace=True)\n",
    "data.sample()"
   ]
  },
  {
   "cell_type": "code",
   "execution_count": 21,
   "metadata": {},
   "outputs": [
    {
     "data": {
      "text/html": [
       "<div>\n",
       "<style scoped>\n",
       "    .dataframe tbody tr th:only-of-type {\n",
       "        vertical-align: middle;\n",
       "    }\n",
       "\n",
       "    .dataframe tbody tr th {\n",
       "        vertical-align: top;\n",
       "    }\n",
       "\n",
       "    .dataframe thead th {\n",
       "        text-align: right;\n",
       "    }\n",
       "</style>\n",
       "<table border=\"1\" class=\"dataframe\">\n",
       "  <thead>\n",
       "    <tr style=\"text-align: right;\">\n",
       "      <th></th>\n",
       "      <th>Season</th>\n",
       "      <th>team_a</th>\n",
       "      <th>team_b</th>\n",
       "      <th>in_target</th>\n",
       "      <th>game_set</th>\n",
       "      <th>a_win</th>\n",
       "      <th>DayNum</th>\n",
       "      <th>last_games_won_in_season_team_combined</th>\n",
       "      <th>last_games_won_in_season_team_combined_lag-1</th>\n",
       "      <th>last_games_won_in_season_team_combined_lag-2</th>\n",
       "      <th>...</th>\n",
       "      <th>Stl_game_team_combined_lag-1</th>\n",
       "      <th>Stl_game_team_combined_lag-2</th>\n",
       "      <th>Stl_game_team_combined_lag-3</th>\n",
       "      <th>Blk_game_team_combined_lag-1</th>\n",
       "      <th>Blk_game_team_combined_lag-2</th>\n",
       "      <th>Blk_game_team_combined_lag-3</th>\n",
       "      <th>PF_game_team_combined_lag-1</th>\n",
       "      <th>PF_game_team_combined_lag-2</th>\n",
       "      <th>PF_game_team_combined_lag-3</th>\n",
       "      <th>seed_team_combined</th>\n",
       "    </tr>\n",
       "  </thead>\n",
       "  <tbody>\n",
       "    <tr>\n",
       "      <th>10577</th>\n",
       "      <td>2008</td>\n",
       "      <td>1165</td>\n",
       "      <td>1390</td>\n",
       "      <td>False</td>\n",
       "      <td>0</td>\n",
       "      <td>False</td>\n",
       "      <td>136</td>\n",
       "      <td>-5</td>\n",
       "      <td>-3.0</td>\n",
       "      <td>-3.0</td>\n",
       "      <td>...</td>\n",
       "      <td>-3.0</td>\n",
       "      <td>5.0</td>\n",
       "      <td>6.0</td>\n",
       "      <td>-4.0</td>\n",
       "      <td>-5.0</td>\n",
       "      <td>-1.0</td>\n",
       "      <td>6.0</td>\n",
       "      <td>6.0</td>\n",
       "      <td>11.0</td>\n",
       "      <td>11</td>\n",
       "    </tr>\n",
       "  </tbody>\n",
       "</table>\n",
       "<p>1 rows × 60 columns</p>\n",
       "</div>"
      ],
      "text/plain": [
       "       Season team_a team_b  in_target  game_set  a_win  DayNum  \\\n",
       "10577    2008   1165   1390      False         0  False     136   \n",
       "\n",
       "       last_games_won_in_season_team_combined  \\\n",
       "10577                                      -5   \n",
       "\n",
       "       last_games_won_in_season_team_combined_lag-1  \\\n",
       "10577                                          -3.0   \n",
       "\n",
       "       last_games_won_in_season_team_combined_lag-2         ...          \\\n",
       "10577                                          -3.0         ...           \n",
       "\n",
       "       Stl_game_team_combined_lag-1  Stl_game_team_combined_lag-2  \\\n",
       "10577                          -3.0                           5.0   \n",
       "\n",
       "       Stl_game_team_combined_lag-3  Blk_game_team_combined_lag-1  \\\n",
       "10577                           6.0                          -4.0   \n",
       "\n",
       "       Blk_game_team_combined_lag-2  Blk_game_team_combined_lag-3  \\\n",
       "10577                          -5.0                          -1.0   \n",
       "\n",
       "       PF_game_team_combined_lag-1  PF_game_team_combined_lag-2  \\\n",
       "10577                          6.0                          6.0   \n",
       "\n",
       "       PF_game_team_combined_lag-3  seed_team_combined  \n",
       "10577                         11.0                  11  \n",
       "\n",
       "[1 rows x 60 columns]"
      ]
     },
     "execution_count": 21,
     "metadata": {},
     "output_type": "execute_result"
    }
   ],
   "source": [
    "game_feat = GameFeatures(default_lags=3)\n",
    "data = game_feat.per_team_wrapper(data, game_feat.last_games_won_in_season, fillna=0, combine='subtract')\n",
    "data = game_feat.per_team_wrapper(data, game_feat.last_games_won_in_tourney, fillna=0, combine='subtract')\n",
    "data = game_feat.per_team_wrapper(data, game_feat.last_games_won_against_opponent, fillna=0, per_game=True, combine='subtract')\n",
    "data = game_feat.per_team_wrapper(data, game_feat.games_won_in_tourney_against_opponent, fillna=0, per_game=True, combine='subtract')\n",
    "game_detail_feat = GameDetailedFeatures(default_lags=3)\n",
    "data = game_detail_feat.per_team_wrapper(data, game_detail_feat.detail_features_by_game, per_day=True, combine='subtract')\n",
    "seed_feat = SeedFeatures(default_lags=0)\n",
    "data = seed_feat.per_team_wrapper(data, seed_feat.team_seeds, combine='subtract')\n",
    "data.dropna(inplace=True)\n",
    "data.sample()"
   ]
  },
  {
   "cell_type": "code",
   "execution_count": 24,
   "metadata": {},
   "outputs": [
    {
     "name": "stdout",
     "output_type": "stream",
     "text": [
      "0.14664235757285715\n",
      "0.14495592759404405\n",
      "0.15151811197413548\n",
      "Metric Mean: 0.15 (0.00)\n"
     ]
    },
    {
     "data": {
      "text/html": [
       "<div>\n",
       "<style scoped>\n",
       "    .dataframe tbody tr th:only-of-type {\n",
       "        vertical-align: middle;\n",
       "    }\n",
       "\n",
       "    .dataframe tbody tr th {\n",
       "        vertical-align: top;\n",
       "    }\n",
       "\n",
       "    .dataframe thead th {\n",
       "        text-align: right;\n",
       "    }\n",
       "</style>\n",
       "<table border=\"1\" class=\"dataframe\">\n",
       "  <thead>\n",
       "    <tr style=\"text-align: right;\">\n",
       "      <th></th>\n",
       "      <th>Season</th>\n",
       "      <th>team_a</th>\n",
       "      <th>team_b</th>\n",
       "      <th>DayNum</th>\n",
       "      <th>Pred</th>\n",
       "    </tr>\n",
       "    <tr>\n",
       "      <th>ID</th>\n",
       "      <th></th>\n",
       "      <th></th>\n",
       "      <th></th>\n",
       "      <th></th>\n",
       "      <th></th>\n",
       "    </tr>\n",
       "  </thead>\n",
       "  <tbody>\n",
       "    <tr>\n",
       "      <th>2014_1107_1196</th>\n",
       "      <td>2014</td>\n",
       "      <td>1107</td>\n",
       "      <td>1196</td>\n",
       "      <td>136</td>\n",
       "      <td>0.333333</td>\n",
       "    </tr>\n",
       "    <tr>\n",
       "      <th>2014_1107_1291</th>\n",
       "      <td>2014</td>\n",
       "      <td>1107</td>\n",
       "      <td>1291</td>\n",
       "      <td>134</td>\n",
       "      <td>0.000000</td>\n",
       "    </tr>\n",
       "    <tr>\n",
       "      <th>2014_1110_1458</th>\n",
       "      <td>2014</td>\n",
       "      <td>1110</td>\n",
       "      <td>1458</td>\n",
       "      <td>136</td>\n",
       "      <td>0.933333</td>\n",
       "    </tr>\n",
       "    <tr>\n",
       "      <th>2014_1112_1211</th>\n",
       "      <td>2014</td>\n",
       "      <td>1112</td>\n",
       "      <td>1211</td>\n",
       "      <td>139</td>\n",
       "      <td>0.000000</td>\n",
       "    </tr>\n",
       "    <tr>\n",
       "      <th>2014_1112_1361</th>\n",
       "      <td>2014</td>\n",
       "      <td>1112</td>\n",
       "      <td>1361</td>\n",
       "      <td>143</td>\n",
       "      <td>1.000000</td>\n",
       "    </tr>\n",
       "  </tbody>\n",
       "</table>\n",
       "</div>"
      ],
      "text/plain": [
       "                Season team_a team_b  DayNum      Pred\n",
       "ID                                                    \n",
       "2014_1107_1196    2014   1107   1196     136  0.333333\n",
       "2014_1107_1291    2014   1107   1291     134  0.000000\n",
       "2014_1110_1458    2014   1110   1458     136  0.933333\n",
       "2014_1112_1211    2014   1112   1211     139  0.000000\n",
       "2014_1112_1361    2014   1112   1361     143  1.000000"
      ]
     },
     "execution_count": 24,
     "metadata": {},
     "output_type": "execute_result"
    }
   ],
   "source": [
    "from sklearn.neighbors import KNeighborsClassifier\n",
    "from sklearn.model_selection import KFold\n",
    "from sklearn.metrics import log_loss\n",
    "\n",
    "\n",
    "X = data.drop(['Season', 'team_a', 'team_b', 'a_win', 'in_target', 'DayNum'], axis=1)\n",
    "y = data[['a_win', 'game_set']].astype({'a_win': int})\n",
    "\n",
    "kf = KFold(n_splits=3, shuffle=True)\n",
    "metrics = []\n",
    "all_preds = []\n",
    "for tr_i, t_i in kf.split(X):\n",
    "    X_tr, y_tr = X.iloc[tr_i], y.iloc[tr_i].a_win\n",
    "    X_t, y_t = X.iloc[t_i], y.iloc[t_i].a_win\n",
    "    knn = KNeighborsClassifier(n_neighbors=15)\n",
    "    knn.fit(X_tr.values, y_tr)\n",
    "    preds = knn.predict_proba(X_t.values)[:,1]\n",
    "    ncaa_true = y.iloc[t_i][y.iloc[t_i].game_set == 0]\n",
    "    ncaa_pred = preds[y.iloc[t_i].reset_index().game_set == 0]\n",
    "    metric = log_loss(ncaa_true.a_win.astype(int), ncaa_pred)\n",
    "    print(metric)\n",
    "    metrics.append(metric)\n",
    "    all_preds.append(preds)\n",
    "    \n",
    "print('Metric Mean: {:.2f} ({:.2f})'.format(np.mean(metrics), np.std(metrics)))\n",
    "model_out = cp.deepcopy(data[['Season', 'team_a', 'team_b', 'DayNum']])\n",
    "model_out['Pred'] = np.concatenate(all_preds)\n",
    "model_out['ID'] = model_out['Season'].map(str) + '_' + model_out['team_a'].map(str) + '_' + model_out['team_b'].map(str)\n",
    "model_out.set_index('ID', inplace=True)\n",
    "model_out.head()"
   ]
  },
  {
   "cell_type": "code",
   "execution_count": 25,
   "metadata": {
    "collapsed": true
   },
   "outputs": [],
   "source": [
    "model_out.to_csv('data/knn_model_out.csv')"
   ]
  },
  {
   "cell_type": "code",
   "execution_count": null,
   "metadata": {
    "collapsed": true
   },
   "outputs": [],
   "source": []
  }
 ],
 "metadata": {
  "kernelspec": {
   "display_name": "Python 3",
   "language": "python3",
   "name": "python3"
  },
  "language_info": {
   "codemirror_mode": {
    "name": "ipython",
    "version": 3
   },
   "file_extension": ".py",
   "mimetype": "text/x-python",
   "name": "python",
   "nbconvert_exporter": "python",
   "pygments_lexer": "ipython3",
   "version": "3.6.2"
  }
 },
 "nbformat": 4,
 "nbformat_minor": 2
}
