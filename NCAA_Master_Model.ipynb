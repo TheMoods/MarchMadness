{
 "cells": [
  {
   "cell_type": "code",
   "execution_count": 1,
   "metadata": {},
   "outputs": [],
   "source": [
    "%load_ext autoreload\n",
    "%autoreload 2\n",
    "import os\n",
    "import numpy as np\n",
    "import pandas as pd\n",
    "import datetime as dt\n",
    "import matplotlib.pyplot as plt\n",
    "from src.models.game_set import GameModel\n",
    "from src.utils import load_target_sample\n",
    "pd.options.display.float_format = '{:.2f}'.format"
   ]
  },
  {
   "cell_type": "code",
   "execution_count": 2,
   "metadata": {},
   "outputs": [
    {
     "data": {
      "text/html": [
       "<div>\n",
       "<style scoped>\n",
       "    .dataframe tbody tr th:only-of-type {\n",
       "        vertical-align: middle;\n",
       "    }\n",
       "\n",
       "    .dataframe tbody tr th {\n",
       "        vertical-align: top;\n",
       "    }\n",
       "\n",
       "    .dataframe thead th {\n",
       "        text-align: right;\n",
       "    }\n",
       "</style>\n",
       "<table border=\"1\" class=\"dataframe\">\n",
       "  <thead>\n",
       "    <tr style=\"text-align: right;\">\n",
       "      <th></th>\n",
       "      <th>Season</th>\n",
       "      <th>team_a</th>\n",
       "      <th>team_b</th>\n",
       "      <th>in_target</th>\n",
       "      <th>game_set</th>\n",
       "    </tr>\n",
       "    <tr>\n",
       "      <th>ID</th>\n",
       "      <th></th>\n",
       "      <th></th>\n",
       "      <th></th>\n",
       "      <th></th>\n",
       "      <th></th>\n",
       "    </tr>\n",
       "  </thead>\n",
       "  <tbody>\n",
       "    <tr>\n",
       "      <th>2018_1326_1393</th>\n",
       "      <td>2018</td>\n",
       "      <td>1326</td>\n",
       "      <td>1393</td>\n",
       "      <td>True</td>\n",
       "      <td>ncaa</td>\n",
       "    </tr>\n",
       "    <tr>\n",
       "      <th>2018_1348_1364</th>\n",
       "      <td>2018</td>\n",
       "      <td>1348</td>\n",
       "      <td>1364</td>\n",
       "      <td>True</td>\n",
       "      <td>ncaa</td>\n",
       "    </tr>\n",
       "    <tr>\n",
       "      <th>2018_1314_1393</th>\n",
       "      <td>2018</td>\n",
       "      <td>1314</td>\n",
       "      <td>1393</td>\n",
       "      <td>True</td>\n",
       "      <td>ncaa</td>\n",
       "    </tr>\n",
       "  </tbody>\n",
       "</table>\n",
       "</div>"
      ],
      "text/plain": [
       "               Season team_a team_b  in_target game_set\n",
       "ID                                                     \n",
       "2018_1326_1393   2018   1326   1393       True     ncaa\n",
       "2018_1348_1364   2018   1348   1364       True     ncaa\n",
       "2018_1314_1393   2018   1314   1393       True     ncaa"
      ]
     },
     "execution_count": 2,
     "metadata": {},
     "output_type": "execute_result"
    }
   ],
   "source": [
    "temp = load_target_sample()\n",
    "temp.sample(3)"
   ]
  },
  {
   "cell_type": "code",
   "execution_count": 3,
   "metadata": {},
   "outputs": [
    {
     "name": "stdout",
     "output_type": "stream",
     "text": [
      "Running Feature Pipeline\n",
      "-- Seeds --\n",
      "(2117, 9)\n",
      "-- Game Features --\n",
      "(2117, 35)\n",
      "-- Game Detailed Features --\n",
      "(2117, 217)\n",
      "Feature Pipeline Clock: 24 Seconds\n",
      "Fit Features Loaded: (2117, 211)\n",
      "Running Feature Pipeline\n",
      "-- Seeds --\n",
      "(2278, 9)\n",
      "-- Game Features --\n",
      "(2278, 35)\n",
      "-- Game Detailed Features --\n",
      "(2278, 217)\n",
      "Feature Pipeline Clock: 25 Seconds\n",
      "Pred Features Loaded: (2278, 211)\n"
     ]
    }
   ],
   "source": [
    "temp = load_target_sample().astype({'Season': int})\n",
    "temp['a_win'] = np.nan\n",
    "temp['DayNum'] = 366\n",
    "temp['game_set'] = 0\n",
    "m = GameModel(temp)"
   ]
  },
  {
   "cell_type": "code",
   "execution_count": 4,
   "metadata": {},
   "outputs": [
    {
     "data": {
      "text/html": [
       "<div>\n",
       "<style scoped>\n",
       "    .dataframe tbody tr th:only-of-type {\n",
       "        vertical-align: middle;\n",
       "    }\n",
       "\n",
       "    .dataframe tbody tr th {\n",
       "        vertical-align: top;\n",
       "    }\n",
       "\n",
       "    .dataframe thead th {\n",
       "        text-align: right;\n",
       "    }\n",
       "</style>\n",
       "<table border=\"1\" class=\"dataframe\">\n",
       "  <thead>\n",
       "    <tr style=\"text-align: right;\">\n",
       "      <th></th>\n",
       "      <th>log_loss</th>\n",
       "      <th>ncaa_log_loss</th>\n",
       "    </tr>\n",
       "  </thead>\n",
       "  <tbody>\n",
       "    <tr>\n",
       "      <th>mean</th>\n",
       "      <td>0.24</td>\n",
       "      <td>0.24</td>\n",
       "    </tr>\n",
       "    <tr>\n",
       "      <th>std</th>\n",
       "      <td>0.02</td>\n",
       "      <td>0.02</td>\n",
       "    </tr>\n",
       "    <tr>\n",
       "      <th>min</th>\n",
       "      <td>0.22</td>\n",
       "      <td>0.22</td>\n",
       "    </tr>\n",
       "    <tr>\n",
       "      <th>max</th>\n",
       "      <td>0.25</td>\n",
       "      <td>0.25</td>\n",
       "    </tr>\n",
       "  </tbody>\n",
       "</table>\n",
       "</div>"
      ],
      "text/plain": [
       "      log_loss  ncaa_log_loss\n",
       "mean      0.24           0.24\n",
       "std       0.02           0.02\n",
       "min       0.22           0.22\n",
       "max       0.25           0.25"
      ]
     },
     "execution_count": 4,
     "metadata": {},
     "output_type": "execute_result"
    }
   ],
   "source": [
    "m.cross_validate()"
   ]
  },
  {
   "cell_type": "code",
   "execution_count": 5,
   "metadata": {},
   "outputs": [
    {
     "data": {
      "image/png": "[encoded data removed]",
      "text/plain": [
       "<matplotlib.figure.Figure at 0x10b78a8d0>"
      ]
     },
     "metadata": {},
     "output_type": "display_data"
    }
   ],
   "source": [
    "preds = m.fit_predict()\n",
    "plt.figure(figsize=(20,4))\n",
    "plt.hist(preds.a_win, bins=100)\n",
    "plt.show()"
   ]
  },
  {
   "cell_type": "code",
   "execution_count": 6,
   "metadata": {},
   "outputs": [
    {
     "data": {
      "image/png": "[encoded data removed]",
      "text/plain": [
       "<matplotlib.figure.Figure at 0x10bb9ffd0>"
      ]
     },
     "metadata": {},
     "output_type": "display_data"
    }
   ],
   "source": [
    "from xgboost import plot_importance\n",
    "\n",
    "plot_importance(m.estimator, max_num_features=10)\n",
    "plt.show()"
   ]
  }
 ],
 "metadata": {
  "kernelspec": {
   "display_name": "Python 3",
   "language": "python3",
   "name": "python3"
  },
  "language_info": {
   "codemirror_mode": {
    "name": "ipython",
    "version": 3
   },
   "file_extension": ".py",
   "mimetype": "text/x-python",
   "name": "python",
   "nbconvert_exporter": "python",
   "pygments_lexer": "ipython3",
   "version": "3.6.2"
  }
 },
 "nbformat": 4,
 "nbformat_minor": 2
}
