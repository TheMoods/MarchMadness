{
 "cells": [
  {
   "cell_type": "code",
   "execution_count": 54,
   "metadata": {
    "collapsed": true
   },
   "outputs": [],
   "source": [
    "import copy as cp\n",
    "import numpy as np\n",
    "import pandas as pd\n",
    "import matplotlib.pyplot as plt"
   ]
  },
  {
   "cell_type": "code",
   "execution_count": 3,
   "metadata": {},
   "outputs": [
    {
     "data": {
      "text/html": [
       "<div>\n",
       "<style scoped>\n",
       "    .dataframe tbody tr th:only-of-type {\n",
       "        vertical-align: middle;\n",
       "    }\n",
       "\n",
       "    .dataframe tbody tr th {\n",
       "        vertical-align: top;\n",
       "    }\n",
       "\n",
       "    .dataframe thead th {\n",
       "        text-align: right;\n",
       "    }\n",
       "</style>\n",
       "<table border=\"1\" class=\"dataframe\">\n",
       "  <thead>\n",
       "    <tr style=\"text-align: right;\">\n",
       "      <th></th>\n",
       "      <th>Season</th>\n",
       "      <th>team_a</th>\n",
       "      <th>team_b</th>\n",
       "    </tr>\n",
       "    <tr>\n",
       "      <th>ID</th>\n",
       "      <th></th>\n",
       "      <th></th>\n",
       "      <th></th>\n",
       "    </tr>\n",
       "  </thead>\n",
       "  <tbody>\n",
       "    <tr>\n",
       "      <th>2013_1211_1380</th>\n",
       "      <td>2013</td>\n",
       "      <td>1380</td>\n",
       "      <td>1380</td>\n",
       "    </tr>\n",
       "  </tbody>\n",
       "</table>\n",
       "</div>"
      ],
      "text/plain": [
       "               Season team_a team_b\n",
       "ID                                 \n",
       "2013_1211_1380   2013   1380   1380"
      ]
     },
     "execution_count": 3,
     "metadata": {},
     "output_type": "execute_result"
    }
   ],
   "source": [
    "def get_ids():\n",
    "    target_ids = pd.read_csv('data/SampleSubmissionStage1.csv').set_index('ID').drop('Pred', axis=1)\n",
    "    target_ids['Season'] = target_ids.index.map(lambda i: i[:4])\n",
    "    target_ids['team_a'] = target_ids.index.map(lambda i: i[5:9])\n",
    "    target_ids['team_b'] = target_ids.index.map(lambda i: i[10:14])\n",
    "    target_ids['in_target'] = True\n",
    "    ncaa_games = pd.read_csv('data/NCAATourneyCompactResults.csv')\n",
    "    train_ids = pd.DataFrame(ncaa_games.Season.map(str) + '_'\n",
    "                            + ncaa_games.WTeamID.map(str) + '_'\n",
    "                            + ncaa_games.LTeamID.map(str))\\\n",
    "        .rename(columns={0: 'ID'}).set_index('ID')\n",
    "    train_ids['Season'] = train_ids.index.map(lambda i: i[:4])\n",
    "    train_ids['team_a'] = train_ids.index.map(lambda i: i[5:9])\n",
    "    train_ids['team_b'] = train_ids.index.map(lambda i: i[10:14])\n",
    "    train_ids_sort = train_ids\n",
    "    train_ids_sort['team_a'] = train_ids[['team_a', 'team_b']]\\\n",
    "        .apply(lambda r: r[0] if int(r[0]) > int(r[1]) else r[1], axis=1)\n",
    "    train_ids_sort['team_b'] = train_ids[['team_a', 'team_b']]\\\n",
    "        .apply(lambda r: r[1] if int(r[0]) > int(r[1]) else r[1], axis=1)\n",
    "    train_ids[['team_a', 'team_b']] = train_ids_sort[['team_a', 'team_b']]\n",
    "    return train_ids, target_ids\n",
    "\n",
    "train, target = get_ids()\n",
    "train.sample()"
   ]
  },
  {
   "cell_type": "code",
   "execution_count": 8,
   "metadata": {},
   "outputs": [
    {
     "data": {
      "text/html": [
       "<div>\n",
       "<style scoped>\n",
       "    .dataframe tbody tr th:only-of-type {\n",
       "        vertical-align: middle;\n",
       "    }\n",
       "\n",
       "    .dataframe tbody tr th {\n",
       "        vertical-align: top;\n",
       "    }\n",
       "\n",
       "    .dataframe thead th {\n",
       "        text-align: right;\n",
       "    }\n",
       "</style>\n",
       "<table border=\"1\" class=\"dataframe\">\n",
       "  <thead>\n",
       "    <tr style=\"text-align: right;\">\n",
       "      <th></th>\n",
       "      <th>Season</th>\n",
       "      <th>in_target</th>\n",
       "      <th>team_a</th>\n",
       "      <th>team_b</th>\n",
       "    </tr>\n",
       "    <tr>\n",
       "      <th>ID</th>\n",
       "      <th></th>\n",
       "      <th></th>\n",
       "      <th></th>\n",
       "      <th></th>\n",
       "    </tr>\n",
       "  </thead>\n",
       "  <tbody>\n",
       "    <tr>\n",
       "      <th>1985_1116_1234</th>\n",
       "      <td>1985</td>\n",
       "      <td>0</td>\n",
       "      <td>1234</td>\n",
       "      <td>1234</td>\n",
       "    </tr>\n",
       "    <tr>\n",
       "      <th>1985_1120_1345</th>\n",
       "      <td>1985</td>\n",
       "      <td>0</td>\n",
       "      <td>1345</td>\n",
       "      <td>1345</td>\n",
       "    </tr>\n",
       "    <tr>\n",
       "      <th>1985_1207_1250</th>\n",
       "      <td>1985</td>\n",
       "      <td>0</td>\n",
       "      <td>1250</td>\n",
       "      <td>1250</td>\n",
       "    </tr>\n",
       "    <tr>\n",
       "      <th>1985_1229_1425</th>\n",
       "      <td>1985</td>\n",
       "      <td>0</td>\n",
       "      <td>1425</td>\n",
       "      <td>1425</td>\n",
       "    </tr>\n",
       "    <tr>\n",
       "      <th>1985_1242_1325</th>\n",
       "      <td>1985</td>\n",
       "      <td>0</td>\n",
       "      <td>1325</td>\n",
       "      <td>1325</td>\n",
       "    </tr>\n",
       "  </tbody>\n",
       "</table>\n",
       "</div>"
      ],
      "text/plain": [
       "               Season in_target team_a team_b\n",
       "ID                                           \n",
       "1985_1116_1234   1985         0   1234   1234\n",
       "1985_1120_1345   1985         0   1345   1345\n",
       "1985_1207_1250   1985         0   1250   1250\n",
       "1985_1229_1425   1985         0   1425   1425\n",
       "1985_1242_1325   1985         0   1325   1325"
      ]
     },
     "execution_count": 8,
     "metadata": {},
     "output_type": "execute_result"
    }
   ],
   "source": [
    "data = pd.concat([train, target]).fillna(0)\n",
    "data.head()"
   ]
  },
  {
   "cell_type": "code",
   "execution_count": 9,
   "metadata": {},
   "outputs": [
    {
     "name": "stdout",
     "output_type": "stream",
     "text": [
      "(2117, 9)\n"
     ]
    },
    {
     "data": {
      "text/html": [
       "<div>\n",
       "<style scoped>\n",
       "    .dataframe tbody tr th:only-of-type {\n",
       "        vertical-align: middle;\n",
       "    }\n",
       "\n",
       "    .dataframe tbody tr th {\n",
       "        vertical-align: top;\n",
       "    }\n",
       "\n",
       "    .dataframe thead th {\n",
       "        text-align: right;\n",
       "    }\n",
       "</style>\n",
       "<table border=\"1\" class=\"dataframe\">\n",
       "  <thead>\n",
       "    <tr style=\"text-align: right;\">\n",
       "      <th></th>\n",
       "      <th>Season</th>\n",
       "      <th>DayNum</th>\n",
       "      <th>WTeamID</th>\n",
       "      <th>WScore</th>\n",
       "      <th>LTeamID</th>\n",
       "      <th>LScore</th>\n",
       "      <th>WLoc</th>\n",
       "      <th>NumOT</th>\n",
       "      <th>diff</th>\n",
       "    </tr>\n",
       "  </thead>\n",
       "  <tbody>\n",
       "    <tr>\n",
       "      <th>260</th>\n",
       "      <td>1989</td>\n",
       "      <td>136</td>\n",
       "      <td>1257</td>\n",
       "      <td>76</td>\n",
       "      <td>1114</td>\n",
       "      <td>71</td>\n",
       "      <td>N</td>\n",
       "      <td>0</td>\n",
       "      <td>5</td>\n",
       "    </tr>\n",
       "  </tbody>\n",
       "</table>\n",
       "</div>"
      ],
      "text/plain": [
       "    Season  DayNum WTeamID  WScore LTeamID  LScore WLoc  NumOT  diff\n",
       "260   1989     136    1257      76    1114      71    N      0     5"
      ]
     },
     "execution_count": 9,
     "metadata": {},
     "output_type": "execute_result"
    }
   ],
   "source": [
    "ncaa_games = pd.read_csv('data/NCAATourneyCompactResults.csv')\n",
    "ncaa_games = ncaa_games.astype({\n",
    "    'LTeamID': str,\n",
    "    'WTeamID': str,\n",
    "    'Season': str\n",
    "})\n",
    "ncaa_games['diff'] = ncaa_games['WScore'] - ncaa_games['LScore']\n",
    "print(ncaa_games.shape)\n",
    "ncaa_games.sample()"
   ]
  },
  {
   "cell_type": "code",
   "execution_count": 10,
   "metadata": {},
   "outputs": [
    {
     "data": {
      "text/plain": [
       "(11229, 4)"
      ]
     },
     "execution_count": 10,
     "metadata": {},
     "output_type": "execute_result"
    }
   ],
   "source": [
    "data.shape"
   ]
  },
  {
   "cell_type": "code",
   "execution_count": 11,
   "metadata": {},
   "outputs": [
    {
     "name": "stdout",
     "output_type": "stream",
     "text": [
      "A Win %: 0.70\n"
     ]
    },
    {
     "data": {
      "text/html": [
       "<div>\n",
       "<style scoped>\n",
       "    .dataframe tbody tr th:only-of-type {\n",
       "        vertical-align: middle;\n",
       "    }\n",
       "\n",
       "    .dataframe tbody tr th {\n",
       "        vertical-align: top;\n",
       "    }\n",
       "\n",
       "    .dataframe thead th {\n",
       "        text-align: right;\n",
       "    }\n",
       "</style>\n",
       "<table border=\"1\" class=\"dataframe\">\n",
       "  <thead>\n",
       "    <tr style=\"text-align: right;\">\n",
       "      <th></th>\n",
       "      <th>Season</th>\n",
       "      <th>in_target</th>\n",
       "      <th>team_a</th>\n",
       "      <th>team_b</th>\n",
       "      <th>a_win</th>\n",
       "    </tr>\n",
       "  </thead>\n",
       "  <tbody>\n",
       "    <tr>\n",
       "      <th>8759</th>\n",
       "      <td>2015</td>\n",
       "      <td>True</td>\n",
       "      <td>1214</td>\n",
       "      <td>1323</td>\n",
       "      <td>1.0</td>\n",
       "    </tr>\n",
       "  </tbody>\n",
       "</table>\n",
       "</div>"
      ],
      "text/plain": [
       "     Season in_target team_a team_b  a_win\n",
       "8759   2015      True   1214   1323    1.0"
      ]
     },
     "execution_count": 11,
     "metadata": {},
     "output_type": "execute_result"
    }
   ],
   "source": [
    "win_teams = pd.merge(data, ncaa_games,\n",
    "                     left_on=['Season', 'team_a', 'team_b'],\n",
    "                     right_on=['Season', 'WTeamID', 'LTeamID'], how='left').dropna()\n",
    "win_teams['a_win'] = 1\n",
    "data = pd.merge(data, win_teams[['Season', 'team_a', 'a_win']],\n",
    "                on=['Season', 'team_a'], how='left').fillna(0)\n",
    "print('A Win %: {:.2f}'.format(data.a_win.mean()))\n",
    "data.sample()"
   ]
  },
  {
   "cell_type": "code",
   "execution_count": 12,
   "metadata": {},
   "outputs": [],
   "source": [
    "data = data.drop_duplicates(['Season', 'team_a', 'team_b'])"
   ]
  },
  {
   "cell_type": "code",
   "execution_count": 13,
   "metadata": {},
   "outputs": [
    {
     "data": {
      "text/html": [
       "<div>\n",
       "<style scoped>\n",
       "    .dataframe tbody tr th:only-of-type {\n",
       "        vertical-align: middle;\n",
       "    }\n",
       "\n",
       "    .dataframe tbody tr th {\n",
       "        vertical-align: top;\n",
       "    }\n",
       "\n",
       "    .dataframe thead th {\n",
       "        text-align: right;\n",
       "    }\n",
       "</style>\n",
       "<table border=\"1\" class=\"dataframe\">\n",
       "  <thead>\n",
       "    <tr style=\"text-align: right;\">\n",
       "      <th></th>\n",
       "      <th>Season</th>\n",
       "      <th>in_target</th>\n",
       "      <th>team_a</th>\n",
       "      <th>team_b</th>\n",
       "      <th>a_win</th>\n",
       "      <th>avg_ldiff_1_y_ago</th>\n",
       "      <th>avg_wdiff_1_y_ago</th>\n",
       "      <th>avg_ldiff_1_y_ago_b</th>\n",
       "      <th>avg_wdiff_1_y_ago_b</th>\n",
       "      <th>avg_ldiff_2_y_ago</th>\n",
       "      <th>avg_wdiff_2_y_ago</th>\n",
       "      <th>avg_ldiff_2_y_ago_b</th>\n",
       "      <th>avg_wdiff_2_y_ago_b</th>\n",
       "      <th>avg_ldiff_3_y_ago</th>\n",
       "      <th>avg_wdiff_3_y_ago</th>\n",
       "      <th>avg_ldiff_3_y_ago_b</th>\n",
       "      <th>avg_wdiff_3_y_ago_b</th>\n",
       "    </tr>\n",
       "  </thead>\n",
       "  <tbody>\n",
       "    <tr>\n",
       "      <th>6180</th>\n",
       "      <td>2016</td>\n",
       "      <td>True</td>\n",
       "      <td>1242</td>\n",
       "      <td>1372</td>\n",
       "      <td>1.0</td>\n",
       "      <td>13.0</td>\n",
       "      <td>19.0</td>\n",
       "      <td>7.0</td>\n",
       "      <td>0.0</td>\n",
       "      <td>3.0</td>\n",
       "      <td>11.0</td>\n",
       "      <td>17.0</td>\n",
       "      <td>2.0</td>\n",
       "      <td>2.0</td>\n",
       "      <td>19.0</td>\n",
       "      <td>0.0</td>\n",
       "      <td>0.0</td>\n",
       "    </tr>\n",
       "  </tbody>\n",
       "</table>\n",
       "</div>"
      ],
      "text/plain": [
       "     Season in_target team_a team_b  a_win  avg_ldiff_1_y_ago  \\\n",
       "6180   2016      True   1242   1372    1.0               13.0   \n",
       "\n",
       "      avg_wdiff_1_y_ago  avg_ldiff_1_y_ago_b  avg_wdiff_1_y_ago_b  \\\n",
       "6180               19.0                  7.0                  0.0   \n",
       "\n",
       "      avg_ldiff_2_y_ago  avg_wdiff_2_y_ago  avg_ldiff_2_y_ago_b  \\\n",
       "6180                3.0               11.0                 17.0   \n",
       "\n",
       "      avg_wdiff_2_y_ago_b  avg_ldiff_3_y_ago  avg_wdiff_3_y_ago  \\\n",
       "6180                  2.0                2.0               19.0   \n",
       "\n",
       "      avg_ldiff_3_y_ago_b  avg_wdiff_3_y_ago_b  \n",
       "6180                  0.0                  0.0  "
      ]
     },
     "execution_count": 13,
     "metadata": {},
     "output_type": "execute_result"
    }
   ],
   "source": [
    "for l in range(1,4):\n",
    "    ldiffs = ncaa_games.groupby(['Season', 'LTeamID'])[['diff']].sum()\\\n",
    "        .reset_index().pivot(index='Season', columns='LTeamID', values='diff').fillna(0).shift(l)\\\n",
    "        .reset_index().melt(id_vars='Season').dropna().rename(columns={'value': 'avg_ldiff_{}_y_ago'.format(l)})\n",
    "    wdiffs = ncaa_games.groupby(['Season', 'WTeamID'])[['diff']].sum()\\\n",
    "        .reset_index().pivot(index='Season', columns='WTeamID', values='diff').fillna(0).shift(l)\\\n",
    "        .reset_index().melt(id_vars='Season').dropna().rename(columns={'value': 'avg_wdiff_{}_y_ago'.format(l)})\n",
    "    \n",
    "    data = pd.merge(data, ldiffs,\n",
    "                    left_on=['Season', 'team_a'], right_on=['Season', 'LTeamID'],\n",
    "                    how='left').drop('LTeamID', axis=1)\n",
    "    data = pd.merge(data, wdiffs,\n",
    "                    left_on=['Season', 'team_a'], right_on=['Season', 'WTeamID'],\n",
    "                    how='left').drop('WTeamID', axis=1)\n",
    "    data = pd.merge(data, ldiffs,\n",
    "                    left_on=['Season', 'team_b'], right_on=['Season', 'LTeamID'],\n",
    "                    how='left', suffixes=['','_b']).drop('LTeamID', axis=1)\n",
    "    data = pd.merge(data, wdiffs,\n",
    "                    left_on=['Season', 'team_b'], right_on=['Season', 'WTeamID'],\n",
    "                    how='left', suffixes=['','_b']).drop('WTeamID', axis=1)\n",
    "    data = data.dropna()\n",
    "    \n",
    "data.sample()"
   ]
  },
  {
   "cell_type": "code",
   "execution_count": 28,
   "metadata": {},
   "outputs": [
    {
     "name": "stdout",
     "output_type": "stream",
     "text": [
      "0.3244546613239674\n",
      "0.293577276708752\n",
      "0.32423671287460737\n",
      "0.2950053989885576\n",
      "0.33944602319738454\n"
     ]
    }
   ],
   "source": [
    "from sklearn.neighbors import KNeighborsClassifier\n",
    "from sklearn.model_selection import KFold\n",
    "from sklearn.metrics import log_loss\n",
    "\n",
    "\n",
    "X = data[~data.in_target.astype(bool)].drop(['Season', 'team_a', 'team_b'], axis=1)\n",
    "y = data[~data.in_target.astype(bool)][['a_win']]\n",
    "\n",
    "kf = KFold(n_splits=5, shuffle=True)\n",
    "for tr_i, t_i in kf.split(X):\n",
    "    X_tr, y_tr = X.iloc[tr_i], y.iloc[tr_i]\n",
    "    X_t, y_t = X.iloc[t_i], y.iloc[t_i]\n",
    "    knn = KNeighborsClassifier(n_neighbors=15)\n",
    "    knn.fit(X_tr.values, y_tr.values.reshape(-1))\n",
    "    preds = knn.predict_proba(X_t.values)\n",
    "    print(log_loss(y_t.values, preds))"
   ]
  },
  {
   "cell_type": "code",
   "execution_count": 53,
   "metadata": {},
   "outputs": [
    {
     "data": {
      "text/plain": [
       "array([[1.        , 0.        ],\n",
       "       [0.        , 1.        ],\n",
       "       [0.13333333, 0.86666667],\n",
       "       ...,\n",
       "       [0.        , 1.        ],\n",
       "       [0.        , 1.        ],\n",
       "       [0.        , 1.        ]])"
      ]
     },
     "execution_count": 53,
     "metadata": {},
     "output_type": "execute_result"
    }
   ],
   "source": [
    "X_sub = pd.merge(target, data, how='left').drop(['Season', 'team_a', 'team_b'], axis=1).fillna(0)\n",
    "y_sub = pd.merge(target, data, how='left')[['Season', 'team_a', 'team_b']].fillna(0) \n",
    "\n",
    "knn = KNeighborsClassifier(n_neighbors=15)\n",
    "knn.fit(X.values, y.values.reshape(-1))\n",
    "preds = knn.predict_proba(X_sub.values)\n",
    "preds"
   ]
  },
  {
   "cell_type": "code",
   "execution_count": 57,
   "metadata": {},
   "outputs": [
    {
     "data": {
      "text/html": [
       "<div>\n",
       "<style scoped>\n",
       "    .dataframe tbody tr th:only-of-type {\n",
       "        vertical-align: middle;\n",
       "    }\n",
       "\n",
       "    .dataframe tbody tr th {\n",
       "        vertical-align: top;\n",
       "    }\n",
       "\n",
       "    .dataframe thead th {\n",
       "        text-align: right;\n",
       "    }\n",
       "</style>\n",
       "<table border=\"1\" class=\"dataframe\">\n",
       "  <thead>\n",
       "    <tr style=\"text-align: right;\">\n",
       "      <th></th>\n",
       "      <th>Pred</th>\n",
       "    </tr>\n",
       "    <tr>\n",
       "      <th>ID</th>\n",
       "      <th></th>\n",
       "    </tr>\n",
       "  </thead>\n",
       "  <tbody>\n",
       "    <tr>\n",
       "      <th>2014_1107_1110</th>\n",
       "      <td>0.000000</td>\n",
       "    </tr>\n",
       "    <tr>\n",
       "      <th>2014_1107_1112</th>\n",
       "      <td>1.000000</td>\n",
       "    </tr>\n",
       "    <tr>\n",
       "      <th>2014_1107_1113</th>\n",
       "      <td>0.866667</td>\n",
       "    </tr>\n",
       "    <tr>\n",
       "      <th>2014_1107_1124</th>\n",
       "      <td>1.000000</td>\n",
       "    </tr>\n",
       "    <tr>\n",
       "      <th>2014_1107_1140</th>\n",
       "      <td>1.000000</td>\n",
       "    </tr>\n",
       "  </tbody>\n",
       "</table>\n",
       "</div>"
      ],
      "text/plain": [
       "                    Pred\n",
       "ID                      \n",
       "2014_1107_1110  0.000000\n",
       "2014_1107_1112  1.000000\n",
       "2014_1107_1113  0.866667\n",
       "2014_1107_1124  1.000000\n",
       "2014_1107_1140  1.000000"
      ]
     },
     "execution_count": 57,
     "metadata": {},
     "output_type": "execute_result"
    }
   ],
   "source": [
    "sub = cp.deepcopy(y_sub)\n",
    "sub['Pred'] = preds[:,1]\n",
    "sub['ID'] = sub['Season'].map(str) + '_' + sub['team_a'].map(str) + '_' + sub['team_b'].map(str)\n",
    "sub.set_index('ID', inplace=True)\n",
    "sub.drop(['Season', 'team_a', 'team_b'], axis=1, inplace=True)\n",
    "sub.head()"
   ]
  }
 ],
 "metadata": {
  "kernelspec": {
   "display_name": "Python 3",
   "language": "python3",
   "name": "python3"
  },
  "language_info": {
   "codemirror_mode": {
    "name": "ipython",
    "version": 3
   },
   "file_extension": ".py",
   "mimetype": "text/x-python",
   "name": "python",
   "nbconvert_exporter": "python",
   "pygments_lexer": "ipython3",
   "version": "3.6.2"
  }
 },
 "nbformat": 4,
 "nbformat_minor": 2
}
