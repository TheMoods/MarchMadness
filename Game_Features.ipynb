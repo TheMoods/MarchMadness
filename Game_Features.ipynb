{
 "cells": [
  {
   "cell_type": "code",
   "execution_count": 1,
   "metadata": {},
   "outputs": [],
   "source": [
    "%load_ext autoreload\n",
    "%autoreload 2"
   ]
  },
  {
   "cell_type": "code",
   "execution_count": 2,
   "metadata": {
    "collapsed": true
   },
   "outputs": [],
   "source": [
    "import copy as cp\n",
    "import numpy as np\n",
    "import pandas as pd\n",
    "import matplotlib.pyplot as plt\n",
    "from src.utils import load_data_template\n",
    "from src.features.games import GameFeatures"
   ]
  },
  {
   "cell_type": "code",
   "execution_count": 3,
   "metadata": {},
   "outputs": [
    {
     "data": {
      "text/html": [
       "<div>\n",
       "<style scoped>\n",
       "    .dataframe tbody tr th:only-of-type {\n",
       "        vertical-align: middle;\n",
       "    }\n",
       "\n",
       "    .dataframe tbody tr th {\n",
       "        vertical-align: top;\n",
       "    }\n",
       "\n",
       "    .dataframe thead th {\n",
       "        text-align: right;\n",
       "    }\n",
       "</style>\n",
       "<table border=\"1\" class=\"dataframe\">\n",
       "  <thead>\n",
       "    <tr style=\"text-align: right;\">\n",
       "      <th></th>\n",
       "      <th>Season</th>\n",
       "      <th>team_a</th>\n",
       "      <th>team_b</th>\n",
       "      <th>in_target</th>\n",
       "      <th>game_set</th>\n",
       "      <th>a_win</th>\n",
       "      <th>DayNum</th>\n",
       "      <th>games_won_in_season_team_a</th>\n",
       "      <th>games_won_in_season_team_a_lag-1</th>\n",
       "      <th>games_won_in_season_team_a_lag-2</th>\n",
       "      <th>...</th>\n",
       "      <th>games_won_in_season_against_opponent_team_b</th>\n",
       "      <th>games_won_in_season_against_opponent_team_b_lag-1</th>\n",
       "      <th>games_won_in_season_against_opponent_team_b_lag-2</th>\n",
       "      <th>games_won_in_season_against_opponent_team_b_lag-3</th>\n",
       "      <th>games_won_in_tourney_against_opponent_team_a_lag-1</th>\n",
       "      <th>games_won_in_tourney_against_opponent_team_a_lag-2</th>\n",
       "      <th>games_won_in_tourney_against_opponent_team_a_lag-3</th>\n",
       "      <th>games_won_in_tourney_against_opponent_team_b_lag-1</th>\n",
       "      <th>games_won_in_tourney_against_opponent_team_b_lag-2</th>\n",
       "      <th>games_won_in_tourney_against_opponent_team_b_lag-3</th>\n",
       "    </tr>\n",
       "  </thead>\n",
       "  <tbody>\n",
       "    <tr>\n",
       "      <th>10178</th>\n",
       "      <td>2001</td>\n",
       "      <td>1268</td>\n",
       "      <td>1390</td>\n",
       "      <td>False</td>\n",
       "      <td>0</td>\n",
       "      <td>True</td>\n",
       "      <td>145</td>\n",
       "      <td>21</td>\n",
       "      <td>24.0</td>\n",
       "      <td>25.0</td>\n",
       "      <td>...</td>\n",
       "      <td>0.0</td>\n",
       "      <td>0.0</td>\n",
       "      <td>0.0</td>\n",
       "      <td>0.0</td>\n",
       "      <td>0.0</td>\n",
       "      <td>0.0</td>\n",
       "      <td>0.0</td>\n",
       "      <td>0.0</td>\n",
       "      <td>0.0</td>\n",
       "      <td>0.0</td>\n",
       "    </tr>\n",
       "  </tbody>\n",
       "</table>\n",
       "<p>1 rows × 35 columns</p>\n",
       "</div>"
      ],
      "text/plain": [
       "       Season team_a team_b  in_target  game_set a_win  DayNum  \\\n",
       "10178    2001   1268   1390      False         0  True     145   \n",
       "\n",
       "       games_won_in_season_team_a  games_won_in_season_team_a_lag-1  \\\n",
       "10178                          21                              24.0   \n",
       "\n",
       "       games_won_in_season_team_a_lag-2  \\\n",
       "10178                              25.0   \n",
       "\n",
       "                              ...                          \\\n",
       "10178                         ...                           \n",
       "\n",
       "       games_won_in_season_against_opponent_team_b  \\\n",
       "10178                                          0.0   \n",
       "\n",
       "       games_won_in_season_against_opponent_team_b_lag-1  \\\n",
       "10178                                                0.0   \n",
       "\n",
       "       games_won_in_season_against_opponent_team_b_lag-2  \\\n",
       "10178                                                0.0   \n",
       "\n",
       "       games_won_in_season_against_opponent_team_b_lag-3  \\\n",
       "10178                                                0.0   \n",
       "\n",
       "       games_won_in_tourney_against_opponent_team_a_lag-1  \\\n",
       "10178                                                0.0    \n",
       "\n",
       "       games_won_in_tourney_against_opponent_team_a_lag-2  \\\n",
       "10178                                                0.0    \n",
       "\n",
       "       games_won_in_tourney_against_opponent_team_a_lag-3  \\\n",
       "10178                                                0.0    \n",
       "\n",
       "       games_won_in_tourney_against_opponent_team_b_lag-1  \\\n",
       "10178                                                0.0    \n",
       "\n",
       "       games_won_in_tourney_against_opponent_team_b_lag-2  \\\n",
       "10178                                                0.0    \n",
       "\n",
       "       games_won_in_tourney_against_opponent_team_b_lag-3  \n",
       "10178                                                0.0   \n",
       "\n",
       "[1 rows x 35 columns]"
      ]
     },
     "execution_count": 3,
     "metadata": {},
     "output_type": "execute_result"
    }
   ],
   "source": [
    "game_feat = GameFeatures(default_lags=3)\n",
    "data = load_data_template()\n",
    "data = game_feat.per_team_wrapper(data, game_feat.games_won_in_season, fillna=0)\n",
    "data = game_feat.per_team_wrapper(data, game_feat.games_won_in_tourney, fillna=0)\n",
    "data = game_feat.per_team_wrapper(data, game_feat.games_won_in_season_against_opponent, fillna=0, per_game=True)\n",
    "data = game_feat.per_team_wrapper(data, game_feat.games_won_in_tourney_against_opponent, fillna=0, per_game=True)\n",
    "data.dropna(inplace=True)\n",
    "data.sample()"
   ]
  },
  {
   "cell_type": "code",
   "execution_count": 4,
   "metadata": {},
   "outputs": [
    {
     "name": "stdout",
     "output_type": "stream",
     "text": [
      "0.4215546352165738\n",
      "0.3967926525346882\n",
      "0.3531487877876993\n",
      "0.4350626844952398\n",
      "0.4392965793186891\n",
      "0.41405776576039954\n",
      "0.32933683118763124\n",
      "0.38370086334923165\n",
      "0.363343875435782\n",
      "0.3271596952348102\n",
      "0.3820927279129466\n",
      "0.35965174930962795\n",
      "0.33455572361853103\n",
      "0.39085492067012595\n",
      "0.2778038609416244\n",
      "Metric Mean: 0.37 (0.04)\n"
     ]
    }
   ],
   "source": [
    "from xgboost import XGBClassifier\n",
    "from sklearn.model_selection import KFold\n",
    "from sklearn.metrics import log_loss\n",
    "\n",
    "\n",
    "X = data.drop(['Season', 'team_a', 'team_b', 'a_win', 'in_target', 'DayNum'], axis=1)\n",
    "y = data[['a_win']].astype(int)\n",
    "\n",
    "kf = KFold(n_splits=15, shuffle=True)\n",
    "metrics = []\n",
    "for tr_i, t_i in kf.split(X):\n",
    "    X_tr, y_tr = X.iloc[tr_i], y.iloc[tr_i]\n",
    "    X_t, y_t = X.iloc[t_i], y.iloc[t_i]\n",
    "    xgb = XGBClassifier()\n",
    "    xgb.fit(X_tr.values, y_tr.values.reshape(-1))\n",
    "    preds = xgb.predict_proba(X_t.values)\n",
    "    metric = log_loss(y_t.values, preds)\n",
    "    print(metric)\n",
    "    metrics.append(metric)\n",
    "    \n",
    "print('Metric Mean: {:.2f} ({:.2f})'.format(np.mean(metrics), np.std(metrics)))"
   ]
  },
  {
   "cell_type": "code",
   "execution_count": 5,
   "metadata": {},
   "outputs": [
    {
     "data": {
      "text/plain": [
       "<matplotlib.figure.Figure at 0x1051e83c8>"
      ]
     },
     "metadata": {},
     "output_type": "display_data"
    },
    {
     "data": {
      "image/png": "[encoded data removed]",
      "text/plain": [
       "<matplotlib.figure.Figure at 0x10a111518>"
      ]
     },
     "metadata": {},
     "output_type": "display_data"
    }
   ],
   "source": [
    "from xgboost import plot_importance\n",
    "\n",
    "plt.figure(figsize=(20,8))\n",
    "plot_importance(xgb, max_num_features=20)\n",
    "plt.show()"
   ]
  },
  {
   "cell_type": "code",
   "execution_count": null,
   "metadata": {
    "collapsed": true
   },
   "outputs": [],
   "source": []
  }
 ],
 "metadata": {
  "kernelspec": {
   "display_name": "Python 3",
   "language": "python3",
   "name": "python3"
  },
  "language_info": {
   "codemirror_mode": {
    "name": "ipython",
    "version": 3
   },
   "file_extension": ".py",
   "mimetype": "text/x-python",
   "name": "python",
   "nbconvert_exporter": "python",
   "pygments_lexer": "ipython3",
   "version": "3.6.2"
  }
 },
 "nbformat": 4,
 "nbformat_minor": 2
}
