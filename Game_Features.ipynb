{
 "cells": [
  {
   "cell_type": "code",
   "execution_count": 488,
   "metadata": {
    "collapsed": true
   },
   "outputs": [],
   "source": [
    "import copy as cp\n",
    "import numpy as np\n",
    "import pandas as pd\n",
    "import matplotlib.pyplot as plt\n",
    "from src.utils import load_data_template\n",
    "from src.features.games import GameFeatures"
   ]
  },
  {
   "cell_type": "code",
   "execution_count": 573,
   "metadata": {
    "collapsed": true
   },
   "outputs": [],
   "source": [
    "data = load_data_template()"
   ]
  },
  {
   "cell_type": "code",
   "execution_count": 577,
   "metadata": {},
   "outputs": [
    {
     "data": {
      "text/html": [
       "<div>\n",
       "<style scoped>\n",
       "    .dataframe tbody tr th:only-of-type {\n",
       "        vertical-align: middle;\n",
       "    }\n",
       "\n",
       "    .dataframe tbody tr th {\n",
       "        vertical-align: top;\n",
       "    }\n",
       "\n",
       "    .dataframe thead th {\n",
       "        text-align: right;\n",
       "    }\n",
       "</style>\n",
       "<table border=\"1\" class=\"dataframe\">\n",
       "  <thead>\n",
       "    <tr style=\"text-align: right;\">\n",
       "      <th></th>\n",
       "      <th>Season</th>\n",
       "      <th>team_a</th>\n",
       "      <th>team_b</th>\n",
       "      <th>in_target</th>\n",
       "      <th>game_set</th>\n",
       "      <th>a_win</th>\n",
       "      <th>DayNum</th>\n",
       "      <th>games_won_in_season_team_a</th>\n",
       "      <th>games_won_in_season_team_a_lag-1</th>\n",
       "      <th>games_won_in_season_team_a_lag-2</th>\n",
       "      <th>...</th>\n",
       "      <th>games_won_in_tourney_against_opponent_team_a_lag-1</th>\n",
       "      <th>games_won_in_tourney_against_opponent_team_a_lag-2</th>\n",
       "      <th>games_won_in_tourney_against_opponent_team_a_lag-3</th>\n",
       "      <th>games_won_in_tourney_against_opponent_team_a_lag-4</th>\n",
       "      <th>games_won_in_tourney_against_opponent_team_a_lag-5</th>\n",
       "      <th>games_won_in_tourney_against_opponent_team_b_lag-1</th>\n",
       "      <th>games_won_in_tourney_against_opponent_team_b_lag-2</th>\n",
       "      <th>games_won_in_tourney_against_opponent_team_b_lag-3</th>\n",
       "      <th>games_won_in_tourney_against_opponent_team_b_lag-4</th>\n",
       "      <th>games_won_in_tourney_against_opponent_team_b_lag-5</th>\n",
       "    </tr>\n",
       "  </thead>\n",
       "  <tbody>\n",
       "    <tr>\n",
       "      <th>7778</th>\n",
       "      <td>2017</td>\n",
       "      <td>1235</td>\n",
       "      <td>1438</td>\n",
       "      <td>True</td>\n",
       "      <td>0</td>\n",
       "      <td>0</td>\n",
       "      <td>0.0</td>\n",
       "      <td>23</td>\n",
       "      <td>21.0</td>\n",
       "      <td>25.0</td>\n",
       "      <td>...</td>\n",
       "      <td>0.0</td>\n",
       "      <td>0.0</td>\n",
       "      <td>0.0</td>\n",
       "      <td>0.0</td>\n",
       "      <td>0.0</td>\n",
       "      <td>0.0</td>\n",
       "      <td>0.0</td>\n",
       "      <td>0.0</td>\n",
       "      <td>0.0</td>\n",
       "      <td>0.0</td>\n",
       "    </tr>\n",
       "  </tbody>\n",
       "</table>\n",
       "<p>1 rows × 51 columns</p>\n",
       "</div>"
      ],
      "text/plain": [
       "     Season team_a team_b  in_target  game_set a_win  DayNum  \\\n",
       "7778   2017   1235   1438       True         0     0     0.0   \n",
       "\n",
       "      games_won_in_season_team_a  games_won_in_season_team_a_lag-1  \\\n",
       "7778                          23                              21.0   \n",
       "\n",
       "      games_won_in_season_team_a_lag-2  \\\n",
       "7778                              25.0   \n",
       "\n",
       "                             ...                          \\\n",
       "7778                         ...                           \n",
       "\n",
       "      games_won_in_tourney_against_opponent_team_a_lag-1  \\\n",
       "7778                                                0.0    \n",
       "\n",
       "      games_won_in_tourney_against_opponent_team_a_lag-2  \\\n",
       "7778                                                0.0    \n",
       "\n",
       "      games_won_in_tourney_against_opponent_team_a_lag-3  \\\n",
       "7778                                                0.0    \n",
       "\n",
       "      games_won_in_tourney_against_opponent_team_a_lag-4  \\\n",
       "7778                                                0.0    \n",
       "\n",
       "      games_won_in_tourney_against_opponent_team_a_lag-5  \\\n",
       "7778                                                0.0    \n",
       "\n",
       "      games_won_in_tourney_against_opponent_team_b_lag-1  \\\n",
       "7778                                                0.0    \n",
       "\n",
       "      games_won_in_tourney_against_opponent_team_b_lag-2  \\\n",
       "7778                                                0.0    \n",
       "\n",
       "      games_won_in_tourney_against_opponent_team_b_lag-3  \\\n",
       "7778                                                0.0    \n",
       "\n",
       "      games_won_in_tourney_against_opponent_team_b_lag-4  \\\n",
       "7778                                                0.0    \n",
       "\n",
       "      games_won_in_tourney_against_opponent_team_b_lag-5  \n",
       "7778                                                0.0   \n",
       "\n",
       "[1 rows x 51 columns]"
      ]
     },
     "execution_count": 577,
     "metadata": {},
     "output_type": "execute_result"
    }
   ],
   "source": [
    "game_feat = GameFeatures(default_lags=5)\n",
    "data = load_data_template()\n",
    "data = game_feat.per_team_wrapper(data, game_feat.games_won_in_season, fillna=0)\n",
    "data = game_feat.per_team_wrapper(data, game_feat.games_won_in_tourney, fillna=0)\n",
    "data = game_feat.per_team_wrapper(data, game_feat.games_won_in_season_against_opponent, fillna=0, per_game=True)\n",
    "data = game_feat.per_team_wrapper(data, game_feat.games_won_in_tourney_against_opponent, fillna=0, per_game=True)\n",
    "data.sample()"
   ]
  },
  {
   "cell_type": "code",
   "execution_count": 583,
   "metadata": {},
   "outputs": [
    {
     "name": "stdout",
     "output_type": "stream",
     "text": [
      "0.21247996360655905\n",
      "0.2051721355614395\n",
      "0.2410658875903468\n",
      "0.19460817900159988\n",
      "0.19287452812367764\n",
      "0.22279117569347748\n",
      "0.1966677036984436\n",
      "0.2205605408938153\n",
      "Metric Mean: 0.21 (0.02)\n"
     ]
    }
   ],
   "source": [
    "from xgboost import XGBClassifier\n",
    "from sklearn.model_selection import KFold\n",
    "from sklearn.metrics import log_loss\n",
    "\n",
    "\n",
    "X = data.drop(['Season', 'team_a', 'team_b', 'a_win', 'in_target', 'DayNum'], axis=1)\n",
    "y = data[['a_win']].astype(int)\n",
    "\n",
    "kf = KFold(n_splits=8, shuffle=True)\n",
    "metrics = []\n",
    "for tr_i, t_i in kf.split(X):\n",
    "    X_tr, y_tr = X.iloc[tr_i], y.iloc[tr_i]\n",
    "    X_t, y_t = X.iloc[t_i], y.iloc[t_i]\n",
    "    xgb = XGBClassifier()\n",
    "    xgb.fit(X_tr.values, y_tr.values.reshape(-1))\n",
    "    preds = xgb.predict_proba(X_t.values)\n",
    "    metric = log_loss(y_t.values, preds)\n",
    "    print(metric)\n",
    "    metrics.append(metric)\n",
    "    \n",
    "print('Metric Mean: {:.2f} ({:.2f})'.format(np.mean(metrics), np.std(metrics)))"
   ]
  },
  {
   "cell_type": "code",
   "execution_count": 584,
   "metadata": {},
   "outputs": [
    {
     "data": {
      "text/plain": [
       "<matplotlib.figure.Figure at 0x11bce7f60>"
      ]
     },
     "metadata": {},
     "output_type": "display_data"
    },
    {
     "data": {
      "image/png": "[encoded data removed]",
      "text/plain": [
       "<matplotlib.figure.Figure at 0x1267d1dd8>"
      ]
     },
     "metadata": {},
     "output_type": "display_data"
    }
   ],
   "source": [
    "from xgboost import plot_importance\n",
    "\n",
    "plt.figure(figsize=(20,4))\n",
    "plot_importance(xgb, max_num_features=15)\n",
    "plt.show()"
   ]
  }
 ],
 "metadata": {
  "kernelspec": {
   "display_name": "Python 3",
   "language": "python3",
   "name": "python3"
  },
  "language_info": {
   "codemirror_mode": {
    "name": "ipython",
    "version": 3
   },
   "file_extension": ".py",
   "mimetype": "text/x-python",
   "name": "python",
   "nbconvert_exporter": "python",
   "pygments_lexer": "ipython3",
   "version": "3.6.2"
  }
 },
 "nbformat": 4,
 "nbformat_minor": 2
}
