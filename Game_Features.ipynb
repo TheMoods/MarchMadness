{
 "cells": [
  {
   "cell_type": "code",
   "execution_count": 5,
   "metadata": {
    "collapsed": true
   },
   "outputs": [],
   "source": [
    "import src\n",
    "from src.utils import load_data_template\n",
    "from src.features.games import GameFeatures"
   ]
  },
  {
   "cell_type": "code",
   "execution_count": 9,
   "metadata": {},
   "outputs": [
    {
     "data": {
      "text/html": [
       "<div>\n",
       "<style scoped>\n",
       "    .dataframe tbody tr th:only-of-type {\n",
       "        vertical-align: middle;\n",
       "    }\n",
       "\n",
       "    .dataframe tbody tr th {\n",
       "        vertical-align: top;\n",
       "    }\n",
       "\n",
       "    .dataframe thead th {\n",
       "        text-align: right;\n",
       "    }\n",
       "</style>\n",
       "<table border=\"1\" class=\"dataframe\">\n",
       "  <thead>\n",
       "    <tr style=\"text-align: right;\">\n",
       "      <th></th>\n",
       "      <th>DayNum</th>\n",
       "      <th>Season</th>\n",
       "      <th>a_win</th>\n",
       "      <th>in_target</th>\n",
       "      <th>team_a</th>\n",
       "      <th>team_b</th>\n",
       "      <th>games_won_in_season_team_a</th>\n",
       "      <th>games_won_in_season_team_a_lag-1</th>\n",
       "      <th>games_won_in_season_team_a_lag-2</th>\n",
       "      <th>games_won_in_season_team_a_lag-3</th>\n",
       "      <th>...</th>\n",
       "      <th>games_won_in_season_against_opponent_team_b</th>\n",
       "      <th>games_won_in_season_against_opponent_team_b_lag-1</th>\n",
       "      <th>games_won_in_season_against_opponent_team_b_lag-2</th>\n",
       "      <th>games_won_in_season_against_opponent_team_b_lag-3</th>\n",
       "      <th>games_won_in_tourney_against_opponent_team_a_lag-1</th>\n",
       "      <th>games_won_in_tourney_against_opponent_team_a_lag-2</th>\n",
       "      <th>games_won_in_tourney_against_opponent_team_a_lag-3</th>\n",
       "      <th>games_won_in_tourney_against_opponent_team_b_lag-1</th>\n",
       "      <th>games_won_in_tourney_against_opponent_team_b_lag-2</th>\n",
       "      <th>games_won_in_tourney_against_opponent_team_b_lag-3</th>\n",
       "    </tr>\n",
       "  </thead>\n",
       "  <tbody>\n",
       "    <tr>\n",
       "      <th>454</th>\n",
       "      <td>0.0</td>\n",
       "      <td>2014</td>\n",
       "      <td>0</td>\n",
       "      <td>True</td>\n",
       "      <td>1153</td>\n",
       "      <td>1181</td>\n",
       "      <td>27</td>\n",
       "      <td>22.0</td>\n",
       "      <td>24.0</td>\n",
       "      <td>25.0</td>\n",
       "      <td>...</td>\n",
       "      <td>0.0</td>\n",
       "      <td>0.0</td>\n",
       "      <td>0.0</td>\n",
       "      <td>0.0</td>\n",
       "      <td>0.0</td>\n",
       "      <td>0.0</td>\n",
       "      <td>0.0</td>\n",
       "      <td>0.0</td>\n",
       "      <td>0.0</td>\n",
       "      <td>0.0</td>\n",
       "    </tr>\n",
       "  </tbody>\n",
       "</table>\n",
       "<p>1 rows × 34 columns</p>\n",
       "</div>"
      ],
      "text/plain": [
       "     DayNum Season a_win  in_target team_a team_b  games_won_in_season_team_a  \\\n",
       "454     0.0   2014     0       True   1153   1181                          27   \n",
       "\n",
       "     games_won_in_season_team_a_lag-1  games_won_in_season_team_a_lag-2  \\\n",
       "454                              22.0                              24.0   \n",
       "\n",
       "     games_won_in_season_team_a_lag-3  \\\n",
       "454                              25.0   \n",
       "\n",
       "                            ...                          \\\n",
       "454                         ...                           \n",
       "\n",
       "     games_won_in_season_against_opponent_team_b  \\\n",
       "454                                          0.0   \n",
       "\n",
       "     games_won_in_season_against_opponent_team_b_lag-1  \\\n",
       "454                                                0.0   \n",
       "\n",
       "     games_won_in_season_against_opponent_team_b_lag-2  \\\n",
       "454                                                0.0   \n",
       "\n",
       "     games_won_in_season_against_opponent_team_b_lag-3  \\\n",
       "454                                                0.0   \n",
       "\n",
       "     games_won_in_tourney_against_opponent_team_a_lag-1  \\\n",
       "454                                                0.0    \n",
       "\n",
       "     games_won_in_tourney_against_opponent_team_a_lag-2  \\\n",
       "454                                                0.0    \n",
       "\n",
       "     games_won_in_tourney_against_opponent_team_a_lag-3  \\\n",
       "454                                                0.0    \n",
       "\n",
       "     games_won_in_tourney_against_opponent_team_b_lag-1  \\\n",
       "454                                                0.0    \n",
       "\n",
       "     games_won_in_tourney_against_opponent_team_b_lag-2  \\\n",
       "454                                                0.0    \n",
       "\n",
       "     games_won_in_tourney_against_opponent_team_b_lag-3  \n",
       "454                                                0.0   \n",
       "\n",
       "[1 rows x 34 columns]"
      ]
     },
     "execution_count": 9,
     "metadata": {},
     "output_type": "execute_result"
    }
   ],
   "source": [
    "game_feat = GameFeatures()\n",
    "data = load_data_template()\n",
    "data = game_feat.per_team_wrapper(data, game_feat.games_won_in_season, fillna=0)\n",
    "data = game_feat.per_team_wrapper(data, game_feat.games_won_in_tourney, fillna=0)\n",
    "data = game_feat.per_team_wrapper(data, game_feat.games_won_in_season_against_opponent, fillna=0, per_game=True)\n",
    "data = game_feat.per_team_wrapper(data, game_feat.games_won_in_tourney_against_opponent, fillna=0, per_game=True)\n",
    "data.sample(10)"
   ]
  },
  {
   "cell_type": "code",
   "execution_count": null,
   "metadata": {
    "collapsed": true
   },
   "outputs": [],
   "source": []
  }
 ],
 "metadata": {
  "kernelspec": {
   "display_name": "Python 3",
   "language": "python3",
   "name": "python3"
  },
  "language_info": {
   "codemirror_mode": {
    "name": "ipython",
    "version": 3
   },
   "file_extension": ".py",
   "mimetype": "text/x-python",
   "name": "python",
   "nbconvert_exporter": "python",
   "pygments_lexer": "ipython3",
   "version": "3.6.2"
  }
 },
 "nbformat": 4,
 "nbformat_minor": 2
}
