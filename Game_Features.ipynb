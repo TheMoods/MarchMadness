{
 "cells": [
  {
   "cell_type": "code",
   "execution_count": 120,
   "metadata": {},
   "outputs": [
    {
     "name": "stdout",
     "output_type": "stream",
     "text": [
      "The autoreload extension is already loaded. To reload it, use:\n",
      "  %reload_ext autoreload\n"
     ]
    }
   ],
   "source": [
    "%load_ext autoreload\n",
    "%autoreload 2"
   ]
  },
  {
   "cell_type": "code",
   "execution_count": 121,
   "metadata": {
    "collapsed": true
   },
   "outputs": [],
   "source": [
    "import copy as cp\n",
    "import numpy as np\n",
    "import pandas as pd\n",
    "import matplotlib.pyplot as plt\n",
    "from src.utils import load_data_template\n",
    "from src.features.games import GameFeatures"
   ]
  },
  {
   "cell_type": "code",
   "execution_count": 122,
   "metadata": {},
   "outputs": [
    {
     "data": {
      "text/html": [
       "<div>\n",
       "<style scoped>\n",
       "    .dataframe tbody tr th:only-of-type {\n",
       "        vertical-align: middle;\n",
       "    }\n",
       "\n",
       "    .dataframe tbody tr th {\n",
       "        vertical-align: top;\n",
       "    }\n",
       "\n",
       "    .dataframe thead th {\n",
       "        text-align: right;\n",
       "    }\n",
       "</style>\n",
       "<table border=\"1\" class=\"dataframe\">\n",
       "  <thead>\n",
       "    <tr style=\"text-align: right;\">\n",
       "      <th></th>\n",
       "      <th>Season</th>\n",
       "      <th>team_a</th>\n",
       "      <th>team_b</th>\n",
       "      <th>in_target</th>\n",
       "      <th>game_set</th>\n",
       "      <th>a_win</th>\n",
       "      <th>DayNum</th>\n",
       "      <th>games_won_in_season_team_a</th>\n",
       "      <th>games_won_in_season_team_a_lag-1</th>\n",
       "      <th>games_won_in_season_team_a_lag-2</th>\n",
       "      <th>...</th>\n",
       "      <th>average_ranking_team_b_lag-2</th>\n",
       "      <th>average_ranking_team_b_lag-3</th>\n",
       "      <th>sd_rankings_team_a</th>\n",
       "      <th>sd_rankings_team_a_lag-1</th>\n",
       "      <th>sd_rankings_team_a_lag-2</th>\n",
       "      <th>sd_rankings_team_a_lag-3</th>\n",
       "      <th>sd_rankings_team_b</th>\n",
       "      <th>sd_rankings_team_b_lag-1</th>\n",
       "      <th>sd_rankings_team_b_lag-2</th>\n",
       "      <th>sd_rankings_team_b_lag-3</th>\n",
       "    </tr>\n",
       "  </thead>\n",
       "  <tbody>\n",
       "    <tr>\n",
       "      <th>6526</th>\n",
       "      <td>2016</td>\n",
       "      <td>1371</td>\n",
       "      <td>1438</td>\n",
       "      <td>True</td>\n",
       "      <td>0</td>\n",
       "      <td>NaN</td>\n",
       "      <td>0.0</td>\n",
       "      <td>25</td>\n",
       "      <td>16.0</td>\n",
       "      <td>17.0</td>\n",
       "      <td>...</td>\n",
       "      <td>25.691686</td>\n",
       "      <td>57.907862</td>\n",
       "      <td>21.345331</td>\n",
       "      <td>24.852791</td>\n",
       "      <td>26.821789</td>\n",
       "      <td>28.488534</td>\n",
       "      <td>6.112293</td>\n",
       "      <td>2.480551</td>\n",
       "      <td>17.522593</td>\n",
       "      <td>24.959256</td>\n",
       "    </tr>\n",
       "  </tbody>\n",
       "</table>\n",
       "<p>1 rows × 51 columns</p>\n",
       "</div>"
      ],
      "text/plain": [
       "     Season team_a team_b  in_target  game_set a_win  DayNum  \\\n",
       "6526   2016   1371   1438       True         0   NaN     0.0   \n",
       "\n",
       "      games_won_in_season_team_a  games_won_in_season_team_a_lag-1  \\\n",
       "6526                          25                              16.0   \n",
       "\n",
       "      games_won_in_season_team_a_lag-2            ...             \\\n",
       "6526                              17.0            ...              \n",
       "\n",
       "      average_ranking_team_b_lag-2  average_ranking_team_b_lag-3  \\\n",
       "6526                     25.691686                     57.907862   \n",
       "\n",
       "      sd_rankings_team_a  sd_rankings_team_a_lag-1  sd_rankings_team_a_lag-2  \\\n",
       "6526           21.345331                 24.852791                 26.821789   \n",
       "\n",
       "      sd_rankings_team_a_lag-3  sd_rankings_team_b  sd_rankings_team_b_lag-1  \\\n",
       "6526                 28.488534            6.112293                  2.480551   \n",
       "\n",
       "      sd_rankings_team_b_lag-2  sd_rankings_team_b_lag-3  \n",
       "6526                 17.522593                 24.959256  \n",
       "\n",
       "[1 rows x 51 columns]"
      ]
     },
     "execution_count": 122,
     "metadata": {},
     "output_type": "execute_result"
    }
   ],
   "source": [
    "game_feat = GameFeatures(default_lags=3)\n",
    "data = load_data_template()\n",
    "data = game_feat.per_team_wrapper(data, game_feat.games_won_in_season, fillna=0)\n",
    "data = game_feat.per_team_wrapper(data, game_feat.games_won_in_tourney, fillna=0)\n",
    "data = game_feat.per_team_wrapper(data, game_feat.games_won_in_season_against_opponent, fillna=0, per_game=True)\n",
    "data = game_feat.per_team_wrapper(data, game_feat.games_won_in_tourney_against_opponent, fillna=0, per_game=True)\n",
    "data = game_feat.per_team_wrapper(data, game_feat.average_ranking_team, fillna=0, per_game=False)\n",
    "data = game_feat.per_team_wrapper(data, game_feat.sd_ranking_team, fillna=0, per_game=False)\n",
    "data.dropna(inplace=True)\n",
    "data.sample()"
   ]
  },
  {
   "cell_type": "code",
   "execution_count": 124,
   "metadata": {},
   "outputs": [
    {
     "name": "stdout",
     "output_type": "stream",
     "text": [
      "0.40554994501134145\n",
      "0.4409789122300039\n",
      "0.36456620898295905\n",
      "0.3255149225129726\n",
      "0.3668052152406873\n",
      "0.4063247454729169\n",
      "0.4428719398697693\n",
      "0.3840102342102703\n",
      "0.3497679250724349\n",
      "0.363045184805342\n",
      "0.4021264892930152\n",
      "0.3738924295539102\n",
      "0.32822444472884665\n",
      "0.3553976158888892\n",
      "0.2547834216095243\n",
      "Metric Mean: 0.37 (0.05)\n"
     ]
    }
   ],
   "source": [
    "from xgboost import XGBClassifier\n",
    "from sklearn.model_selection import KFold\n",
    "from sklearn.metrics import log_loss\n",
    "\n",
    "\n",
    "X = data.drop(['Season', 'team_a', 'team_b', 'a_win', 'in_target', 'DayNum'], axis=1)\n",
    "y = data[['a_win']].astype(int)\n",
    "\n",
    "kf = KFold(n_splits=15, shuffle=True)\n",
    "metrics = []\n",
    "for tr_i, t_i in kf.split(X):\n",
    "    X_tr, y_tr = X.iloc[tr_i], y.iloc[tr_i]\n",
    "    X_t, y_t = X.iloc[t_i], y.iloc[t_i]\n",
    "    xgb = XGBClassifier()\n",
    "    xgb.fit(X_tr.values, y_tr.values.reshape(-1))\n",
    "    preds = xgb.predict_proba(X_t.values)\n",
    "    metric = log_loss(y_t.values, preds)\n",
    "    print(metric)\n",
    "    metrics.append(metric)\n",
    "    \n",
    "print('Metric Mean: {:.2f} ({:.2f})'.format(np.mean(metrics), np.std(metrics)))"
   ]
  },
  {
   "cell_type": "code",
   "execution_count": 125,
   "metadata": {},
   "outputs": [
    {
     "data": {
      "text/plain": [
       "<matplotlib.figure.Figure at 0x112d2f748>"
      ]
     },
     "metadata": {},
     "output_type": "display_data"
    },
    {
     "data": {
      "image/png": "[encoded data removed]",
      "text/plain": [
       "<matplotlib.figure.Figure at 0x112d2f400>"
      ]
     },
     "metadata": {},
     "output_type": "display_data"
    }
   ],
   "source": [
    "from xgboost import plot_importance\n",
    "\n",
    "plt.figure(figsize=(20,8))\n",
    "plot_importance(xgb, max_num_features=20)\n",
    "plt.show()"
   ]
  },
  {
   "cell_type": "code",
   "execution_count": null,
   "metadata": {
    "collapsed": true
   },
   "outputs": [],
   "source": []
  }
 ],
 "metadata": {
  "kernelspec": {
   "display_name": "Python 3",
   "language": "python3",
   "name": "python3"
  },
  "language_info": {
   "codemirror_mode": {
    "name": "ipython",
    "version": 3
   },
   "file_extension": ".py",
   "mimetype": "text/x-python",
   "name": "python",
   "nbconvert_exporter": "python",
   "pygments_lexer": "ipython3",
   "version": "3.6.2"
  }
 },
 "nbformat": 4,
 "nbformat_minor": 2
}
