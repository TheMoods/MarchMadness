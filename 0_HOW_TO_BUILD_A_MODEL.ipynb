{
 "cells": [
  {
   "cell_type": "markdown",
   "metadata": {},
   "source": [
    "# How to Build a Model "
   ]
  },
  {
   "cell_type": "code",
   "execution_count": 1,
   "metadata": {},
   "outputs": [],
   "source": [
    "%load_ext autoreload\n",
    "%autoreload 2\n",
    "import pandas as pd\n",
    "from src.models.game import NCAAModel\n",
    "from src.utils import load_target_sample\n",
    "pd.options.display.float_format = '{:.2f}'.format"
   ]
  },
  {
   "cell_type": "markdown",
   "metadata": {},
   "source": [
    "## NCAA Model Class\n",
    "\n",
    "Simply use the `NCAAModel` class that automaticall loads the properly indexed data and has cross-validation Routines preimplemented. \n",
    "* Below we will use an XGBClassifier estimator to fit the data. Any classifier that implements the classic sklearn-style `fit()` and `predict_proba()` functions will do. \n",
    "* A standard feature pipeline is set for the Model and will be loaded in `__init__` unless you provide `preload=False`."
   ]
  },
  {
   "cell_type": "code",
   "execution_count": 2,
   "metadata": {},
   "outputs": [
    {
     "name": "stdout",
     "output_type": "stream",
     "text": [
      "Running Feature Pipeline\n",
      "-- Seeds --\n",
      "(2117, 9)\n",
      "Feature Pipeline Clock: 0 Seconds\n",
      "Fit Features Loaded: (2117, 3)\n",
      "Running Feature Pipeline\n",
      "-- Seeds --\n",
      "(2278, 9)\n",
      "Feature Pipeline Clock: 0 Seconds\n",
      "Pred Features Loaded: (2278, 3)\n"
     ]
    },
    {
     "data": {
      "text/plain": [
       "<src.models.game.NCAAModel at 0x10ae589b0>"
      ]
     },
     "execution_count": 2,
     "metadata": {},
     "output_type": "execute_result"
    }
   ],
   "source": [
    "from xgboost import XGBClassifier\n",
    "\n",
    "m = NCAAModel(Estimator=XGBClassifier)\n",
    "m"
   ]
  },
  {
   "cell_type": "markdown",
   "metadata": {},
   "source": [
    "### Cross Validation\n",
    "* Cross validation methods are already impletemented on the model."
   ]
  },
  {
   "cell_type": "code",
   "execution_count": 3,
   "metadata": {},
   "outputs": [
    {
     "data": {
      "text/html": [
       "<div>\n",
       "<style scoped>\n",
       "    .dataframe tbody tr th:only-of-type {\n",
       "        vertical-align: middle;\n",
       "    }\n",
       "\n",
       "    .dataframe tbody tr th {\n",
       "        vertical-align: top;\n",
       "    }\n",
       "\n",
       "    .dataframe thead th {\n",
       "        text-align: right;\n",
       "    }\n",
       "</style>\n",
       "<table border=\"1\" class=\"dataframe\">\n",
       "  <thead>\n",
       "    <tr style=\"text-align: right;\">\n",
       "      <th></th>\n",
       "      <th>log_loss</th>\n",
       "      <th>ncaa_log_loss</th>\n",
       "    </tr>\n",
       "  </thead>\n",
       "  <tbody>\n",
       "    <tr>\n",
       "      <th>mean</th>\n",
       "      <td>0.54</td>\n",
       "      <td>0.54</td>\n",
       "    </tr>\n",
       "    <tr>\n",
       "      <th>std</th>\n",
       "      <td>0.01</td>\n",
       "      <td>0.01</td>\n",
       "    </tr>\n",
       "    <tr>\n",
       "      <th>min</th>\n",
       "      <td>0.53</td>\n",
       "      <td>0.53</td>\n",
       "    </tr>\n",
       "    <tr>\n",
       "      <th>max</th>\n",
       "      <td>0.56</td>\n",
       "      <td>0.56</td>\n",
       "    </tr>\n",
       "  </tbody>\n",
       "</table>\n",
       "</div>"
      ],
      "text/plain": [
       "      log_loss  ncaa_log_loss\n",
       "mean      0.54           0.54\n",
       "std       0.01           0.01\n",
       "min       0.53           0.53\n",
       "max       0.56           0.56"
      ]
     },
     "execution_count": 3,
     "metadata": {},
     "output_type": "execute_result"
    }
   ],
   "source": [
    "m.cross_validate(n_splits=5)"
   ]
  },
  {
   "cell_type": "markdown",
   "metadata": {},
   "source": [
    "* You can also 'sample' from the cross validation error by running random splits repetitively and look at the results"
   ]
  },
  {
   "cell_type": "code",
   "execution_count": 4,
   "metadata": {},
   "outputs": [
    {
     "data": {
      "image/png": "[encoded data removed]",
      "text/plain": [
       "<matplotlib.figure.Figure at 0x1106787f0>"
      ]
     },
     "metadata": {},
     "output_type": "display_data"
    },
    {
     "data": {
      "text/html": [
       "<div>\n",
       "<style scoped>\n",
       "    .dataframe tbody tr th:only-of-type {\n",
       "        vertical-align: middle;\n",
       "    }\n",
       "\n",
       "    .dataframe tbody tr th {\n",
       "        vertical-align: top;\n",
       "    }\n",
       "\n",
       "    .dataframe thead th {\n",
       "        text-align: right;\n",
       "    }\n",
       "</style>\n",
       "<table border=\"1\" class=\"dataframe\">\n",
       "  <thead>\n",
       "    <tr style=\"text-align: right;\">\n",
       "      <th></th>\n",
       "      <th>log_loss</th>\n",
       "      <th>ncaa_log_loss</th>\n",
       "    </tr>\n",
       "  </thead>\n",
       "  <tbody>\n",
       "    <tr>\n",
       "      <th>mean</th>\n",
       "      <td>0.55</td>\n",
       "      <td>0.55</td>\n",
       "    </tr>\n",
       "    <tr>\n",
       "      <th>std</th>\n",
       "      <td>0.03</td>\n",
       "      <td>0.03</td>\n",
       "    </tr>\n",
       "    <tr>\n",
       "      <th>min</th>\n",
       "      <td>0.49</td>\n",
       "      <td>0.49</td>\n",
       "    </tr>\n",
       "    <tr>\n",
       "      <th>max</th>\n",
       "      <td>0.62</td>\n",
       "      <td>0.62</td>\n",
       "    </tr>\n",
       "  </tbody>\n",
       "</table>\n",
       "</div>"
      ],
      "text/plain": [
       "      log_loss  ncaa_log_loss\n",
       "mean      0.55           0.55\n",
       "std       0.03           0.03\n",
       "min       0.49           0.49\n",
       "max       0.62           0.62"
      ]
     },
     "execution_count": 4,
     "metadata": {},
     "output_type": "execute_result"
    }
   ],
   "source": [
    "m.cross_validate(n=25, n_splits=10, show_histogram=True)"
   ]
  },
  {
   "cell_type": "markdown",
   "metadata": {},
   "source": [
    "#### Estimator Parameters\n",
    "\n",
    "To set the parameters of the estimator for cross-validation (`cross_validate`) or fitting (`fit`, `fit_predict`), simply pass them in form of a `dict` through the `ep` parameter."
   ]
  },
  {
   "cell_type": "code",
   "execution_count": 5,
   "metadata": {},
   "outputs": [
    {
     "data": {
      "text/html": [
       "<div>\n",
       "<style scoped>\n",
       "    .dataframe tbody tr th:only-of-type {\n",
       "        vertical-align: middle;\n",
       "    }\n",
       "\n",
       "    .dataframe tbody tr th {\n",
       "        vertical-align: top;\n",
       "    }\n",
       "\n",
       "    .dataframe thead th {\n",
       "        text-align: right;\n",
       "    }\n",
       "</style>\n",
       "<table border=\"1\" class=\"dataframe\">\n",
       "  <thead>\n",
       "    <tr style=\"text-align: right;\">\n",
       "      <th></th>\n",
       "      <th>log_loss</th>\n",
       "      <th>ncaa_log_loss</th>\n",
       "      <th>ep_max_depth</th>\n",
       "      <th>ep_subsample</th>\n",
       "      <th>ep_n_estimators</th>\n",
       "    </tr>\n",
       "  </thead>\n",
       "  <tbody>\n",
       "    <tr>\n",
       "      <th>mean</th>\n",
       "      <td>0.56</td>\n",
       "      <td>0.56</td>\n",
       "      <td>7.00</td>\n",
       "      <td>0.95</td>\n",
       "      <td>50.00</td>\n",
       "    </tr>\n",
       "    <tr>\n",
       "      <th>std</th>\n",
       "      <td>0.03</td>\n",
       "      <td>0.03</td>\n",
       "      <td>0.00</td>\n",
       "      <td>0.00</td>\n",
       "      <td>0.00</td>\n",
       "    </tr>\n",
       "    <tr>\n",
       "      <th>min</th>\n",
       "      <td>0.50</td>\n",
       "      <td>0.50</td>\n",
       "      <td>7.00</td>\n",
       "      <td>0.95</td>\n",
       "      <td>50.00</td>\n",
       "    </tr>\n",
       "    <tr>\n",
       "      <th>max</th>\n",
       "      <td>0.61</td>\n",
       "      <td>0.61</td>\n",
       "      <td>7.00</td>\n",
       "      <td>0.95</td>\n",
       "      <td>50.00</td>\n",
       "    </tr>\n",
       "  </tbody>\n",
       "</table>\n",
       "</div>"
      ],
      "text/plain": [
       "      log_loss  ncaa_log_loss  ep_max_depth  ep_subsample  ep_n_estimators\n",
       "mean      0.56           0.56          7.00          0.95            50.00\n",
       "std       0.03           0.03          0.00          0.00             0.00\n",
       "min       0.50           0.50          7.00          0.95            50.00\n",
       "max       0.61           0.61          7.00          0.95            50.00"
      ]
     },
     "execution_count": 5,
     "metadata": {},
     "output_type": "execute_result"
    }
   ],
   "source": [
    "m.cross_validate(n=10, n_splits=10, ep={'max_depth': 7, 'subsample': .95, 'n_estimators': 50})"
   ]
  },
  {
   "cell_type": "code",
   "execution_count": 6,
   "metadata": {},
   "outputs": [
    {
     "data": {
      "text/html": [
       "<div>\n",
       "<style scoped>\n",
       "    .dataframe tbody tr th:only-of-type {\n",
       "        vertical-align: middle;\n",
       "    }\n",
       "\n",
       "    .dataframe tbody tr th {\n",
       "        vertical-align: top;\n",
       "    }\n",
       "\n",
       "    .dataframe thead th {\n",
       "        text-align: right;\n",
       "    }\n",
       "</style>\n",
       "<table border=\"1\" class=\"dataframe\">\n",
       "  <thead>\n",
       "    <tr style=\"text-align: right;\">\n",
       "      <th></th>\n",
       "      <th>log_loss</th>\n",
       "      <th>ncaa_log_loss</th>\n",
       "      <th>ep_max_depth</th>\n",
       "      <th>ep_subsample</th>\n",
       "      <th>ep_n_estimators</th>\n",
       "    </tr>\n",
       "  </thead>\n",
       "  <tbody>\n",
       "    <tr>\n",
       "      <th>mean</th>\n",
       "      <td>0.55</td>\n",
       "      <td>0.55</td>\n",
       "      <td>1.00</td>\n",
       "      <td>0.75</td>\n",
       "      <td>250.00</td>\n",
       "    </tr>\n",
       "    <tr>\n",
       "      <th>std</th>\n",
       "      <td>0.04</td>\n",
       "      <td>0.04</td>\n",
       "      <td>0.00</td>\n",
       "      <td>0.00</td>\n",
       "      <td>0.00</td>\n",
       "    </tr>\n",
       "    <tr>\n",
       "      <th>min</th>\n",
       "      <td>0.50</td>\n",
       "      <td>0.50</td>\n",
       "      <td>1.00</td>\n",
       "      <td>0.75</td>\n",
       "      <td>250.00</td>\n",
       "    </tr>\n",
       "    <tr>\n",
       "      <th>max</th>\n",
       "      <td>0.60</td>\n",
       "      <td>0.60</td>\n",
       "      <td>1.00</td>\n",
       "      <td>0.75</td>\n",
       "      <td>250.00</td>\n",
       "    </tr>\n",
       "  </tbody>\n",
       "</table>\n",
       "</div>"
      ],
      "text/plain": [
       "      log_loss  ncaa_log_loss  ep_max_depth  ep_subsample  ep_n_estimators\n",
       "mean      0.55           0.55          1.00          0.75           250.00\n",
       "std       0.04           0.04          0.00          0.00             0.00\n",
       "min       0.50           0.50          1.00          0.75           250.00\n",
       "max       0.60           0.60          1.00          0.75           250.00"
      ]
     },
     "execution_count": 6,
     "metadata": {},
     "output_type": "execute_result"
    }
   ],
   "source": [
    "m.cross_validate(n=10, n_splits=10, ep={'max_depth': 1, 'subsample': .75, 'n_estimators': 250})"
   ]
  },
  {
   "cell_type": "markdown",
   "metadata": {},
   "source": [
    "#### CV History\n",
    "\n",
    "After fitting the model with different parameters, the history of the cross-validation performance is automatically stored. You can view it through `get_cv_history`. Each cross-validation split is represented as one row. Note that the rows with `nan` are where the estimator was fit with default parameters."
   ]
  },
  {
   "cell_type": "code",
   "execution_count": 7,
   "metadata": {},
   "outputs": [
    {
     "data": {
      "text/html": [
       "<div>\n",
       "<style scoped>\n",
       "    .dataframe tbody tr th:only-of-type {\n",
       "        vertical-align: middle;\n",
       "    }\n",
       "\n",
       "    .dataframe tbody tr th {\n",
       "        vertical-align: top;\n",
       "    }\n",
       "\n",
       "    .dataframe thead th {\n",
       "        text-align: right;\n",
       "    }\n",
       "</style>\n",
       "<table border=\"1\" class=\"dataframe\">\n",
       "  <thead>\n",
       "    <tr style=\"text-align: right;\">\n",
       "      <th></th>\n",
       "      <th>ep_max_depth</th>\n",
       "      <th>ep_n_estimators</th>\n",
       "      <th>ep_subsample</th>\n",
       "      <th>log_loss</th>\n",
       "      <th>ncaa_log_loss</th>\n",
       "    </tr>\n",
       "    <tr>\n",
       "      <th>timestamp</th>\n",
       "      <th></th>\n",
       "      <th></th>\n",
       "      <th></th>\n",
       "      <th></th>\n",
       "      <th></th>\n",
       "    </tr>\n",
       "  </thead>\n",
       "  <tbody>\n",
       "    <tr>\n",
       "      <th>2018-03-14 00:58:05.954393</th>\n",
       "      <td>nan</td>\n",
       "      <td>nan</td>\n",
       "      <td>nan</td>\n",
       "      <td>0.54</td>\n",
       "      <td>0.54</td>\n",
       "    </tr>\n",
       "    <tr>\n",
       "      <th>2018-03-14 00:58:05.954393</th>\n",
       "      <td>nan</td>\n",
       "      <td>nan</td>\n",
       "      <td>nan</td>\n",
       "      <td>0.57</td>\n",
       "      <td>0.57</td>\n",
       "    </tr>\n",
       "    <tr>\n",
       "      <th>2018-03-14 00:58:05.954393</th>\n",
       "      <td>nan</td>\n",
       "      <td>nan</td>\n",
       "      <td>nan</td>\n",
       "      <td>0.53</td>\n",
       "      <td>0.53</td>\n",
       "    </tr>\n",
       "    <tr>\n",
       "      <th>2018-03-14 00:58:07.824803</th>\n",
       "      <td>1.00</td>\n",
       "      <td>250.00</td>\n",
       "      <td>0.75</td>\n",
       "      <td>0.60</td>\n",
       "      <td>0.60</td>\n",
       "    </tr>\n",
       "    <tr>\n",
       "      <th>2018-03-14 00:58:03.845902</th>\n",
       "      <td>nan</td>\n",
       "      <td>nan</td>\n",
       "      <td>nan</td>\n",
       "      <td>0.53</td>\n",
       "      <td>0.53</td>\n",
       "    </tr>\n",
       "  </tbody>\n",
       "</table>\n",
       "</div>"
      ],
      "text/plain": [
       "                            ep_max_depth  ep_n_estimators  ep_subsample  \\\n",
       "timestamp                                                                 \n",
       "2018-03-14 00:58:05.954393           nan              nan           nan   \n",
       "2018-03-14 00:58:05.954393           nan              nan           nan   \n",
       "2018-03-14 00:58:05.954393           nan              nan           nan   \n",
       "2018-03-14 00:58:07.824803          1.00           250.00          0.75   \n",
       "2018-03-14 00:58:03.845902           nan              nan           nan   \n",
       "\n",
       "                            log_loss  ncaa_log_loss  \n",
       "timestamp                                            \n",
       "2018-03-14 00:58:05.954393      0.54           0.54  \n",
       "2018-03-14 00:58:05.954393      0.57           0.57  \n",
       "2018-03-14 00:58:05.954393      0.53           0.53  \n",
       "2018-03-14 00:58:07.824803      0.60           0.60  \n",
       "2018-03-14 00:58:03.845902      0.53           0.53  "
      ]
     },
     "execution_count": 7,
     "metadata": {},
     "output_type": "execute_result"
    }
   ],
   "source": [
    "m.get_cv_history().sample(5)"
   ]
  },
  {
   "cell_type": "code",
   "execution_count": 8,
   "metadata": {},
   "outputs": [
    {
     "data": {
      "text/html": [
       "<div>\n",
       "<style scoped>\n",
       "    .dataframe tbody tr th:only-of-type {\n",
       "        vertical-align: middle;\n",
       "    }\n",
       "\n",
       "    .dataframe tbody tr th {\n",
       "        vertical-align: top;\n",
       "    }\n",
       "\n",
       "    .dataframe thead th {\n",
       "        text-align: right;\n",
       "    }\n",
       "</style>\n",
       "<table border=\"1\" class=\"dataframe\">\n",
       "  <thead>\n",
       "    <tr style=\"text-align: right;\">\n",
       "      <th></th>\n",
       "      <th></th>\n",
       "      <th></th>\n",
       "      <th>log_loss</th>\n",
       "      <th>ncaa_log_loss</th>\n",
       "    </tr>\n",
       "    <tr>\n",
       "      <th>ep_max_depth</th>\n",
       "      <th>ep_n_estimators</th>\n",
       "      <th>ep_subsample</th>\n",
       "      <th></th>\n",
       "      <th></th>\n",
       "    </tr>\n",
       "  </thead>\n",
       "  <tbody>\n",
       "    <tr>\n",
       "      <th>1.0</th>\n",
       "      <th>250.0</th>\n",
       "      <th>0.75</th>\n",
       "      <td>0.55</td>\n",
       "      <td>0.55</td>\n",
       "    </tr>\n",
       "    <tr>\n",
       "      <th>7.0</th>\n",
       "      <th>50.0</th>\n",
       "      <th>0.95</th>\n",
       "      <td>0.56</td>\n",
       "      <td>0.56</td>\n",
       "    </tr>\n",
       "    <tr>\n",
       "      <th>default</th>\n",
       "      <th>default</th>\n",
       "      <th>default</th>\n",
       "      <td>0.55</td>\n",
       "      <td>0.55</td>\n",
       "    </tr>\n",
       "  </tbody>\n",
       "</table>\n",
       "</div>"
      ],
      "text/plain": [
       "                                           log_loss  ncaa_log_loss\n",
       "ep_max_depth ep_n_estimators ep_subsample                         \n",
       "1.0          250.0           0.75              0.55           0.55\n",
       "7.0          50.0            0.95              0.56           0.56\n",
       "default      default         default           0.55           0.55"
      ]
     },
     "execution_count": 8,
     "metadata": {},
     "output_type": "execute_result"
    }
   ],
   "source": [
    "m.get_cv_history().fillna('default').groupby(['ep_max_depth', 'ep_n_estimators', 'ep_subsample']).mean()"
   ]
  },
  {
   "cell_type": "markdown",
   "metadata": {},
   "source": [
    "### Custom Features\n",
    "\n",
    "The default feature pipeline can be overwritten by either adding a `feature_pipeline` function in a subclass of by passing a `feature_pipeline` arguement to the constructor as below.\n",
    "* A feature_pipeline function takes a data template with `team_a`, `team_b`, `Season`, `DayNum` and target information (e.g. `a_win`)\n",
    "* The pipeline merges other features onto that template and then returns the teamplate"
   ]
  },
  {
   "cell_type": "code",
   "execution_count": 9,
   "metadata": {},
   "outputs": [
    {
     "name": "stdout",
     "output_type": "stream",
     "text": [
      "Fit Features Loaded: (2117, 3)\n",
      "Pred Features Loaded: (2278, 3)\n"
     ]
    },
    {
     "data": {
      "text/html": [
       "<div>\n",
       "<style scoped>\n",
       "    .dataframe tbody tr th:only-of-type {\n",
       "        vertical-align: middle;\n",
       "    }\n",
       "\n",
       "    .dataframe tbody tr th {\n",
       "        vertical-align: top;\n",
       "    }\n",
       "\n",
       "    .dataframe thead th {\n",
       "        text-align: right;\n",
       "    }\n",
       "</style>\n",
       "<table border=\"1\" class=\"dataframe\">\n",
       "  <thead>\n",
       "    <tr style=\"text-align: right;\">\n",
       "      <th></th>\n",
       "      <th>log_loss</th>\n",
       "      <th>ncaa_log_loss</th>\n",
       "    </tr>\n",
       "  </thead>\n",
       "  <tbody>\n",
       "    <tr>\n",
       "      <th>mean</th>\n",
       "      <td>0.56</td>\n",
       "      <td>0.56</td>\n",
       "    </tr>\n",
       "    <tr>\n",
       "      <th>std</th>\n",
       "      <td>0.03</td>\n",
       "      <td>0.03</td>\n",
       "    </tr>\n",
       "    <tr>\n",
       "      <th>min</th>\n",
       "      <td>0.53</td>\n",
       "      <td>0.53</td>\n",
       "    </tr>\n",
       "    <tr>\n",
       "      <th>max</th>\n",
       "      <td>0.59</td>\n",
       "      <td>0.59</td>\n",
       "    </tr>\n",
       "  </tbody>\n",
       "</table>\n",
       "</div>"
      ],
      "text/plain": [
       "      log_loss  ncaa_log_loss\n",
       "mean      0.56           0.56\n",
       "std       0.03           0.03\n",
       "min       0.53           0.53\n",
       "max       0.59           0.59"
      ]
     },
     "execution_count": 9,
     "metadata": {},
     "output_type": "execute_result"
    }
   ],
   "source": [
    "from datetime import datetime as dt\n",
    "from src.features import SeedFeatures\n",
    "\n",
    "\n",
    "def feature_pipeline(data):\n",
    "    seed_feat = SeedFeatures()\n",
    "    data = seed_feat.per_team_wrapper(\n",
    "        data, seed_feat.team_seeds,\n",
    "        per_game=False, per_day=False)\n",
    "    return data\n",
    "\n",
    "\n",
    "m = NCAAModel(feature_pipeline=feature_pipeline, Estimator=XGBClassifier)\n",
    "m.cross_validate()"
   ]
  },
  {
   "cell_type": "markdown",
   "metadata": {},
   "source": [
    "### Now All at Once\n",
    "\n",
    "We can build a model that only looks at the detailed data using a `RandomForestClassifier` from `sklearn`.\n",
    "\n",
    "**Note: This should work on it's own, just don't forget the `imports`**"
   ]
  },
  {
   "cell_type": "code",
   "execution_count": 10,
   "metadata": {},
   "outputs": [
    {
     "name": "stdout",
     "output_type": "stream",
     "text": [
      "Running Feature Pipeline\n",
      "-- Games Detailed --\n",
      "(981, 189)\n",
      "Feature Pipeline Clock: 20 Seconds\n",
      "Fit Features Loaded: (981, 183)\n",
      "Running Feature Pipeline\n",
      "-- Games Detailed --\n",
      "(2278, 189)\n",
      "Feature Pipeline Clock: 19 Seconds\n",
      "Pred Features Loaded: (2278, 183)\n"
     ]
    },
    {
     "data": {
      "text/html": [
       "<div>\n",
       "<style scoped>\n",
       "    .dataframe tbody tr th:only-of-type {\n",
       "        vertical-align: middle;\n",
       "    }\n",
       "\n",
       "    .dataframe tbody tr th {\n",
       "        vertical-align: top;\n",
       "    }\n",
       "\n",
       "    .dataframe thead th {\n",
       "        text-align: right;\n",
       "    }\n",
       "</style>\n",
       "<table border=\"1\" class=\"dataframe\">\n",
       "  <thead>\n",
       "    <tr style=\"text-align: right;\">\n",
       "      <th></th>\n",
       "      <th>log_loss</th>\n",
       "      <th>ncaa_log_loss</th>\n",
       "      <th>ep_n_estimators</th>\n",
       "    </tr>\n",
       "  </thead>\n",
       "  <tbody>\n",
       "    <tr>\n",
       "      <th>mean</th>\n",
       "      <td>0.28</td>\n",
       "      <td>0.28</td>\n",
       "      <td>100.00</td>\n",
       "    </tr>\n",
       "    <tr>\n",
       "      <th>std</th>\n",
       "      <td>0.01</td>\n",
       "      <td>0.01</td>\n",
       "      <td>0.00</td>\n",
       "    </tr>\n",
       "    <tr>\n",
       "      <th>min</th>\n",
       "      <td>0.28</td>\n",
       "      <td>0.28</td>\n",
       "      <td>100.00</td>\n",
       "    </tr>\n",
       "    <tr>\n",
       "      <th>max</th>\n",
       "      <td>0.29</td>\n",
       "      <td>0.29</td>\n",
       "      <td>100.00</td>\n",
       "    </tr>\n",
       "  </tbody>\n",
       "</table>\n",
       "</div>"
      ],
      "text/plain": [
       "      log_loss  ncaa_log_loss  ep_n_estimators\n",
       "mean      0.28           0.28           100.00\n",
       "std       0.01           0.01             0.00\n",
       "min       0.28           0.28           100.00\n",
       "max       0.29           0.29           100.00"
      ]
     },
     "execution_count": 10,
     "metadata": {},
     "output_type": "execute_result"
    }
   ],
   "source": [
    "from datetime import datetime as dt\n",
    "from src.features import GameDetailedFeatures\n",
    "from sklearn.ensemble import RandomForestClassifier\n",
    "\n",
    "\n",
    "def feature_pipeline(data):\n",
    "    print('Running Feature Pipeline')\n",
    "    start = dt.now()\n",
    "\n",
    "    print('-- Games Detailed --')\n",
    "    game_detail_feat = GameDetailedFeatures(default_lags=7)\n",
    "    data = game_detail_feat.per_team_wrapper(\n",
    "        data, game_detail_feat.detail_features_by_game,\n",
    "        per_day=True)\n",
    "    data.dropna(inplace=True)\n",
    "    print(data.shape)\n",
    "    \n",
    "    print('Feature Pipeline Clock: {} Seconds'\n",
    "      .format((dt.now() - start).seconds))\n",
    "    return data\n",
    "\n",
    "\n",
    "m = NCAAModel(feature_pipeline=feature_pipeline, Estimator=RandomForestClassifier)\n",
    "m.cross_validate(ep={'n_estimators': 100})"
   ]
  },
  {
   "cell_type": "markdown",
   "metadata": {},
   "source": [
    "### Check Upcoming Predictions"
   ]
  },
  {
   "cell_type": "code",
   "execution_count": 11,
   "metadata": {},
   "outputs": [
    {
     "data": {
      "text/html": [
       "<div>\n",
       "<style scoped>\n",
       "    .dataframe tbody tr th:only-of-type {\n",
       "        vertical-align: middle;\n",
       "    }\n",
       "\n",
       "    .dataframe tbody tr th {\n",
       "        vertical-align: top;\n",
       "    }\n",
       "\n",
       "    .dataframe thead th {\n",
       "        text-align: right;\n",
       "    }\n",
       "</style>\n",
       "<table border=\"1\" class=\"dataframe\">\n",
       "  <thead>\n",
       "    <tr style=\"text-align: right;\">\n",
       "      <th></th>\n",
       "      <th>team_a</th>\n",
       "      <th>team_b</th>\n",
       "      <th>Season</th>\n",
       "      <th>DayNum</th>\n",
       "      <th>a_win</th>\n",
       "      <th>game_set</th>\n",
       "      <th>b_win</th>\n",
       "      <th>TeamName_a</th>\n",
       "      <th>TeamName_b</th>\n",
       "    </tr>\n",
       "    <tr>\n",
       "      <th>ID</th>\n",
       "      <th></th>\n",
       "      <th></th>\n",
       "      <th></th>\n",
       "      <th></th>\n",
       "      <th></th>\n",
       "      <th></th>\n",
       "      <th></th>\n",
       "      <th></th>\n",
       "      <th></th>\n",
       "    </tr>\n",
       "  </thead>\n",
       "  <tbody>\n",
       "    <tr>\n",
       "      <th>2018_1328_1348</th>\n",
       "      <td>1328</td>\n",
       "      <td>1348</td>\n",
       "      <td>2018</td>\n",
       "      <td>366</td>\n",
       "      <td>0.50</td>\n",
       "      <td>0</td>\n",
       "      <td>0.50</td>\n",
       "      <td>Oklahoma</td>\n",
       "      <td>Rhode Island</td>\n",
       "    </tr>\n",
       "    <tr>\n",
       "      <th>2018_1397_1460</th>\n",
       "      <td>1397</td>\n",
       "      <td>1460</td>\n",
       "      <td>2018</td>\n",
       "      <td>366</td>\n",
       "      <td>0.30</td>\n",
       "      <td>0</td>\n",
       "      <td>0.70</td>\n",
       "      <td>Tennessee</td>\n",
       "      <td>Wright St</td>\n",
       "    </tr>\n",
       "    <tr>\n",
       "      <th>2018_1260_1274</th>\n",
       "      <td>1260</td>\n",
       "      <td>1274</td>\n",
       "      <td>2018</td>\n",
       "      <td>366</td>\n",
       "      <td>0.70</td>\n",
       "      <td>0</td>\n",
       "      <td>0.30</td>\n",
       "      <td>Loyola-Chicago</td>\n",
       "      <td>Miami FL</td>\n",
       "    </tr>\n",
       "    <tr>\n",
       "      <th>2018_1211_1314</th>\n",
       "      <td>1211</td>\n",
       "      <td>1314</td>\n",
       "      <td>2018</td>\n",
       "      <td>366</td>\n",
       "      <td>0.20</td>\n",
       "      <td>0</td>\n",
       "      <td>0.80</td>\n",
       "      <td>Gonzaga</td>\n",
       "      <td>North Carolina</td>\n",
       "    </tr>\n",
       "    <tr>\n",
       "      <th>2018_1181_1233</th>\n",
       "      <td>1181</td>\n",
       "      <td>1233</td>\n",
       "      <td>2018</td>\n",
       "      <td>366</td>\n",
       "      <td>0.50</td>\n",
       "      <td>0</td>\n",
       "      <td>0.50</td>\n",
       "      <td>Duke</td>\n",
       "      <td>Iona</td>\n",
       "    </tr>\n",
       "  </tbody>\n",
       "</table>\n",
       "</div>"
      ],
      "text/plain": [
       "               team_a team_b  Season  DayNum  a_win  game_set  b_win  \\\n",
       "ID                                                                     \n",
       "2018_1328_1348   1328   1348    2018     366   0.50         0   0.50   \n",
       "2018_1397_1460   1397   1460    2018     366   0.30         0   0.70   \n",
       "2018_1260_1274   1260   1274    2018     366   0.70         0   0.30   \n",
       "2018_1211_1314   1211   1314    2018     366   0.20         0   0.80   \n",
       "2018_1181_1233   1181   1233    2018     366   0.50         0   0.50   \n",
       "\n",
       "                    TeamName_a      TeamName_b  \n",
       "ID                                              \n",
       "2018_1328_1348        Oklahoma    Rhode Island  \n",
       "2018_1397_1460       Tennessee       Wright St  \n",
       "2018_1260_1274  Loyola-Chicago        Miami FL  \n",
       "2018_1211_1314         Gonzaga  North Carolina  \n",
       "2018_1181_1233            Duke            Iona  "
      ]
     },
     "execution_count": 11,
     "metadata": {},
     "output_type": "execute_result"
    }
   ],
   "source": [
    "import regex as re\n",
    "\n",
    "m.fit_predict()\n",
    "preds = m.get_preds_with_teams()\n",
    "preds.head()\n",
    "pd.concat([\n",
    "    preds[preds['TeamName_a'].str.match('Oklahoma') & preds['TeamName_b'].str.match('Rhode Island')],\n",
    "    preds[preds['TeamName_a'].str.match('Tennessee') & preds['TeamName_b'].str.match('Wright')],\n",
    "    preds[preds['TeamName_a'].str.match('Loyola') & preds['TeamName_b'].str.match('Miami')],\n",
    "    preds[preds['TeamName_a'].str.match('Gonz') & preds['TeamName_b'].str.match('North Carolina')],\n",
    "    preds[preds['TeamName_a'].str.match('Duke') & preds['TeamName_b'].str.match('Iona')],\n",
    "])"
   ]
  }
 ],
 "metadata": {
  "kernelspec": {
   "display_name": "Python 3",
   "language": "python3",
   "name": "python3"
  },
  "language_info": {
   "codemirror_mode": {
    "name": "ipython",
    "version": 3
   },
   "file_extension": ".py",
   "mimetype": "text/x-python",
   "name": "python",
   "nbconvert_exporter": "python",
   "pygments_lexer": "ipython3",
   "version": "3.6.2"
  }
 },
 "nbformat": 4,
 "nbformat_minor": 2
}
