{
 "cells": [
  {
   "cell_type": "markdown",
   "metadata": {},
   "source": [
    "## Betfair"
   ]
  },
  {
   "cell_type": "code",
   "execution_count": 104,
   "metadata": {},
   "outputs": [
    {
     "name": "stdout",
     "output_type": "stream",
     "text": [
      "The autoreload extension is already loaded. To reload it, use:\n",
      "  %reload_ext autoreload\n"
     ]
    }
   ],
   "source": [
    "%load_ext autoreload\n",
    "%autoreload 2\n",
    "import os\n",
    "import numpy as np\n",
    "import pandas as pd\n",
    "import datetime as dt"
   ]
  },
  {
   "cell_type": "code",
   "execution_count": 110,
   "metadata": {},
   "outputs": [
    {
     "ename": "StopIteration",
     "evalue": "\n                    It seems like the requested league with name 'NCAAB'\n                    is currently not available as no matching league\n                    can be found on Betfair\n                    Available leagues (competitions) are: ['Swiss Challenge League', 'Brazilian Mineiro', 'Brazilian Cearense', 'FIBA Champions League', 'US Major League Soccer', 'Bulgarian A League', 'CONCACAF Champions League', 'Danish Superliga', 'Vietnamese U19', 'Dutch Eredivisie', 'Torneo Federal A', 'English League 1', 'Turkish Super League', 'English League 2', 'FIBA Europe Cup Men', 'Colombian Primera A', 'Romanian Liga I', 'Brazilian Gaucho', 'Indian Wells 2018', 'Copa Sudamericana', 'Norwegian Eliteserien', 'Brazilian Catarinense', 'French Ligue 1', 'NBA', 'French Ligue 2', 'Argentinian Primera Division', 'German Bundesliga 1', 'English Premier League', 'German Bundesliga 2', 'Euroleague Women', 'Turkish 1 Lig', 'Greek Super League', 'Russian Division 1', 'Premier League Cup', 'Italian Serie A', 'Serie B', 'UEFA Europa League', 'Japanese J League', 'Jordan League', 'Greek Football League', 'Brazilian Carioca', 'Professional Development League', 'Portuguese Primeira Liga', 'UEFA Champions League', 'Russian Premier League', 'Scottish Premiership', 'Scottish Championship', 'Zhuhai Challenger 2018', 'English Championship', 'Bolivian Liga Nacional A', 'Spanish La Liga', 'Segunda Division', 'Lithuanian A Lyga', 'Brazilian Paulista Serie A1', 'Israeli Liga Alef', 'Hungarian Kupa', 'Santiago Challenger 2018']\n                ",
     "output_type": "error",
     "traceback": [
      "\u001b[0;31m---------------------------------------------------------------------------\u001b[0m",
      "\u001b[0;31mStopIteration\u001b[0m                             Traceback (most recent call last)",
      "\u001b[0;32m/Users/jonaspaulwestermann/Dev/marchmadness/src/bets/api.py\u001b[0m in \u001b[0;36m__init__\u001b[0;34m(self, client, league_name, bet_type, currency)\u001b[0m\n\u001b[1;32m     25\u001b[0m         \u001b[0;32mtry\u001b[0m\u001b[0;34m:\u001b[0m\u001b[0;34m\u001b[0m\u001b[0m\n\u001b[0;32m---> 26\u001b[0;31m             \u001b[0mself\u001b[0m\u001b[0;34m.\u001b[0m\u001b[0mleague\u001b[0m \u001b[0;34m=\u001b[0m \u001b[0mnext\u001b[0m\u001b[0;34m(\u001b[0m\u001b[0mc\u001b[0m \u001b[0;32mfor\u001b[0m \u001b[0mc\u001b[0m \u001b[0;32min\u001b[0m \u001b[0mcomp_list\u001b[0m \u001b[0;32mif\u001b[0m \u001b[0mis_league\u001b[0m\u001b[0;34m(\u001b[0m\u001b[0mc\u001b[0m\u001b[0;34m)\u001b[0m\u001b[0;34m)\u001b[0m\u001b[0;34m\u001b[0m\u001b[0m\n\u001b[0m\u001b[1;32m     27\u001b[0m         \u001b[0;32mexcept\u001b[0m \u001b[0mStopIteration\u001b[0m\u001b[0;34m:\u001b[0m\u001b[0;34m\u001b[0m\u001b[0m\n",
      "\u001b[0;31mStopIteration\u001b[0m: ",
      "\nDuring handling of the above exception, another exception occurred:\n",
      "\u001b[0;31mStopIteration\u001b[0m                             Traceback (most recent call last)",
      "\u001b[0;32m<ipython-input-110-39e2425ab426>\u001b[0m in \u001b[0;36m<module>\u001b[0;34m()\u001b[0m\n\u001b[1;32m      7\u001b[0m                \u001b[0mcerts\u001b[0m\u001b[0;34m=\u001b[0m\u001b[0;34m'/Users/jonaspaulwestermann/Dev/marchmadness/certs'\u001b[0m\u001b[0;34m,\u001b[0m\u001b[0;34m\u001b[0m\u001b[0m\n\u001b[1;32m      8\u001b[0m                locale='spain', lightweight=True)\n\u001b[0;32m----> 9\u001b[0;31m \u001b[0mbets\u001b[0m \u001b[0;34m=\u001b[0m \u001b[0mBetsAPI\u001b[0m\u001b[0;34m(\u001b[0m\u001b[0mbf\u001b[0m\u001b[0;34m,\u001b[0m \u001b[0mleague_name\u001b[0m\u001b[0;34m=\u001b[0m\u001b[0;34m'NCAAB'\u001b[0m\u001b[0;34m)\u001b[0m\u001b[0;34m\u001b[0m\u001b[0m\n\u001b[0m\u001b[1;32m     10\u001b[0m \u001b[0mbets\u001b[0m\u001b[0;34m.\u001b[0m\u001b[0mteams\u001b[0m\u001b[0;34m.\u001b[0m\u001b[0msample\u001b[0m\u001b[0;34m(\u001b[0m\u001b[0;36m2\u001b[0m\u001b[0;34m)\u001b[0m\u001b[0;34m\u001b[0m\u001b[0m\n",
      "\u001b[0;32m/Users/jonaspaulwestermann/Dev/marchmadness/src/bets/api.py\u001b[0m in \u001b[0;36m__init__\u001b[0;34m(self, client, league_name, bet_type, currency)\u001b[0m\n\u001b[1;32m     34\u001b[0m                     \u001b[0mAvailable\u001b[0m \u001b[0mleagues\u001b[0m \u001b[0;34m(\u001b[0m\u001b[0mcompetitions\u001b[0m\u001b[0;34m)\u001b[0m \u001b[0mare\u001b[0m\u001b[0;34m:\u001b[0m \u001b[0;34m{\u001b[0m\u001b[0;34m}\u001b[0m\u001b[0;34m\u001b[0m\u001b[0m\n\u001b[1;32m     35\u001b[0m                 '''.format(league_name,\n\u001b[0;32m---> 36\u001b[0;31m                            [c['competition']['name'] for c in comp_list])\n\u001b[0m\u001b[1;32m     37\u001b[0m             )\n\u001b[1;32m     38\u001b[0m         \u001b[0mself\u001b[0m\u001b[0;34m.\u001b[0m\u001b[0mleague_filter\u001b[0m \u001b[0;34m=\u001b[0m \u001b[0mfi\u001b[0m\u001b[0;31m\\\u001b[0m\u001b[0;34m\u001b[0m\u001b[0m\n",
      "\u001b[0;31mStopIteration\u001b[0m: \n                    It seems like the requested league with name 'NCAAB'\n                    is currently not available as no matching league\n                    can be found on Betfair\n                    Available leagues (competitions) are: ['Swiss Challenge League', 'Brazilian Mineiro', 'Brazilian Cearense', 'FIBA Champions League', 'US Major League Soccer', 'Bulgarian A League', 'CONCACAF Champions League', 'Danish Superliga', 'Vietnamese U19', 'Dutch Eredivisie', 'Torneo Federal A', 'English League 1', 'Turkish Super League', 'English League 2', 'FIBA Europe Cup Men', 'Colombian Primera A', 'Romanian Liga I', 'Brazilian Gaucho', 'Indian Wells 2018', 'Copa Sudamericana', 'Norwegian Eliteserien', 'Brazilian Catarinense', 'French Ligue 1', 'NBA', 'French Ligue 2', 'Argentinian Primera Division', 'German Bundesliga 1', 'English Premier League', 'German Bundesliga 2', 'Euroleague Women', 'Turkish 1 Lig', 'Greek Super League', 'Russian Division 1', 'Premier League Cup', 'Italian Serie A', 'Serie B', 'UEFA Europa League', 'Japanese J League', 'Jordan League', 'Greek Football League', 'Brazilian Carioca', 'Professional Development League', 'Portuguese Primeira Liga', 'UEFA Champions League', 'Russian Premier League', 'Scottish Premiership', 'Scottish Championship', 'Zhuhai Challenger 2018', 'English Championship', 'Bolivian Liga Nacional A', 'Spanish La Liga', 'Segunda Division', 'Lithuanian A Lyga', 'Brazilian Paulista Serie A1', 'Israeli Liga Alef', 'Hungarian Kupa', 'Santiago Challenger 2018']\n                "
     ]
    }
   ],
   "source": [
    "from src.bets.api import BetsAPI\n",
    "from betfairlightweight import APIClient\n",
    "uname = os.environ['betfair_username']\n",
    "pword = os.environ['betfair_password']\n",
    "key = os.environ['betfair_key']\n",
    "bf = APIClient(uname, pword, app_key=key,\n",
    "               certs='/Users/jonaspaulwestermann/Dev/marchmadness/certs',\n",
    "               locale='spain', lightweight=True)\n",
    "bets = BetsAPI(bf, league_name='NCAAB')\n",
    "bets.teams.sample(2)"
   ]
  },
  {
   "cell_type": "code",
   "execution_count": 101,
   "metadata": {},
   "outputs": [
    {
     "data": {
      "text/plain": [
       "[{'handicap': 0.0,\n",
       "  'metadata': {'runnerId': '5851482'},\n",
       "  'runnerName': 'Under 0.5 Goals',\n",
       "  'selectionId': 5851482,\n",
       "  'sortPriority': 1},\n",
       " {'handicap': 0.0,\n",
       "  'metadata': {'runnerId': '5851483'},\n",
       "  'runnerName': 'Over 0.5 Goals',\n",
       "  'selectionId': 5851483,\n",
       "  'sortPriority': 2}]"
      ]
     },
     "execution_count": 101,
     "metadata": {},
     "output_type": "execute_result"
    }
   ],
   "source": [
    "bets.market_catalogue.runners.values[0]"
   ]
  },
  {
   "cell_type": "code",
   "execution_count": 32,
   "metadata": {},
   "outputs": [
    {
     "name": "stdout",
     "output_type": "stream",
     "text": [
      "(16, 4)\n"
     ]
    },
    {
     "data": {
      "text/html": [
       "<div>\n",
       "<style scoped>\n",
       "    .dataframe tbody tr th:only-of-type {\n",
       "        vertical-align: middle;\n",
       "    }\n",
       "\n",
       "    .dataframe tbody tr th {\n",
       "        vertical-align: top;\n",
       "    }\n",
       "\n",
       "    .dataframe thead th {\n",
       "        text-align: right;\n",
       "    }\n",
       "</style>\n",
       "<table border=\"1\" class=\"dataframe\">\n",
       "  <thead>\n",
       "    <tr style=\"text-align: right;\">\n",
       "      <th></th>\n",
       "      <th>handicap</th>\n",
       "      <th>runnerName</th>\n",
       "      <th>selectionId</th>\n",
       "      <th>sortPriority</th>\n",
       "    </tr>\n",
       "    <tr>\n",
       "      <th>runnerId</th>\n",
       "      <th></th>\n",
       "      <th></th>\n",
       "      <th></th>\n",
       "      <th></th>\n",
       "    </tr>\n",
       "  </thead>\n",
       "  <tbody>\n",
       "    <tr>\n",
       "      <th>721825</th>\n",
       "      <td>0</td>\n",
       "      <td>Alabama State</td>\n",
       "      <td>721825</td>\n",
       "      <td>1</td>\n",
       "    </tr>\n",
       "  </tbody>\n",
       "</table>\n",
       "</div>"
      ],
      "text/plain": [
       "         handicap     runnerName selectionId sortPriority\n",
       "runnerId                                                 \n",
       "721825          0  Alabama State      721825            1"
      ]
     },
     "execution_count": 32,
     "metadata": {},
     "output_type": "execute_result"
    }
   ],
   "source": [
    "ncaa_teams = \n",
    "ncaa_teams['runnerId'] = ncaa_teams.metadata.apply(lambda d: d['runnerId'])\n",
    "ncaa_teams.drop('metadata', axis=1, inplace=True)\n",
    "ncaa_teams.set_index('runnerId', inplace=True)\n",
    "print(ncaa_teams.shape)\n",
    "ncaa_teams.sample()"
   ]
  },
  {
   "cell_type": "code",
   "execution_count": 34,
   "metadata": {
    "collapsed": true
   },
   "outputs": [],
   "source": [
    "ncaa_market = pd.merge(ncaa_market_catalogue, ncaa_market_book,\n",
    "                       left_index=True, right_index=True,\n",
    "                       suffixes=['_catalogue','_book'])"
   ]
  },
  {
   "cell_type": "code",
   "execution_count": 36,
   "metadata": {},
   "outputs": [
    {
     "data": {
      "text/plain": [
       "[{'ex': {'availableToBack': [{'price': 3.6, 'size': 39.04}],\n",
       "   'availableToLay': [{'price': 4.6, 'size': 30.5},\n",
       "    {'price': 4.7, 'size': 30.0}],\n",
       "   'tradedVolume': []},\n",
       "  'handicap': 0.0,\n",
       "  'selectionId': 5145582,\n",
       "  'status': 'ACTIVE',\n",
       "  'totalMatched': 0.0},\n",
       " {'ex': {'availableToBack': [{'price': 1.28, 'size': 109.38},\n",
       "    {'price': 1.27, 'size': 110.24}],\n",
       "   'availableToLay': [{'price': 1.38, 'size': 101.5}],\n",
       "   'tradedVolume': []},\n",
       "  'handicap': 0.0,\n",
       "  'selectionId': 2909529,\n",
       "  'status': 'ACTIVE',\n",
       "  'totalMatched': 0.0}]"
      ]
     },
     "execution_count": 36,
     "metadata": {},
     "output_type": "execute_result"
    }
   ],
   "source": [
    "ncaa_market.sample().squeeze().runners_book"
   ]
  },
  {
   "cell_type": "code",
   "execution_count": null,
   "metadata": {
    "collapsed": true
   },
   "outputs": [],
   "source": []
  }
 ],
 "metadata": {
  "kernelspec": {
   "display_name": "Python 3",
   "language": "python3",
   "name": "python3"
  },
  "language_info": {
   "codemirror_mode": {
    "name": "ipython",
    "version": 3
   },
   "file_extension": ".py",
   "mimetype": "text/x-python",
   "name": "python",
   "nbconvert_exporter": "python",
   "pygments_lexer": "ipython3",
   "version": "3.6.2"
  }
 },
 "nbformat": 4,
 "nbformat_minor": 2
}
