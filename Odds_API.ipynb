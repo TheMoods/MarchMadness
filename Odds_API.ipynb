{
 "cells": [
  {
   "cell_type": "markdown",
   "metadata": {},
   "source": [
    "## Betfair"
   ]
  },
  {
   "cell_type": "code",
   "execution_count": 15,
   "metadata": {},
   "outputs": [
    {
     "name": "stdout",
     "output_type": "stream",
     "text": [
      "The autoreload extension is already loaded. To reload it, use:\n",
      "  %reload_ext autoreload\n"
     ]
    }
   ],
   "source": [
    "%load_ext autoreload\n",
    "%autoreload 2\n",
    "import os\n",
    "import numpy as np\n",
    "import pandas as pd\n",
    "import datetime as dt"
   ]
  },
  {
   "cell_type": "code",
   "execution_count": 45,
   "metadata": {},
   "outputs": [
    {
     "name": "stdout",
     "output_type": "stream",
     "text": [
      "Index(['marketCount', 'marketType'], dtype='object')\n"
     ]
    },
    {
     "data": {
      "text/html": [
       "<div>\n",
       "<style scoped>\n",
       "    .dataframe tbody tr th:only-of-type {\n",
       "        vertical-align: middle;\n",
       "    }\n",
       "\n",
       "    .dataframe tbody tr th {\n",
       "        vertical-align: top;\n",
       "    }\n",
       "\n",
       "    .dataframe thead th {\n",
       "        text-align: right;\n",
       "    }\n",
       "</style>\n",
       "<table border=\"1\" class=\"dataframe\">\n",
       "  <thead>\n",
       "    <tr style=\"text-align: right;\">\n",
       "      <th></th>\n",
       "      <th>marketName</th>\n",
       "      <th>runners</th>\n",
       "      <th>totalMatched</th>\n",
       "    </tr>\n",
       "    <tr>\n",
       "      <th>marketId</th>\n",
       "      <th></th>\n",
       "      <th></th>\n",
       "      <th></th>\n",
       "    </tr>\n",
       "  </thead>\n",
       "  <tbody>\n",
       "    <tr>\n",
       "      <th>1.140978762</th>\n",
       "      <td>Moneyline</td>\n",
       "      <td>[{'selectionId': 727607, 'runnerName': 'Northe...</td>\n",
       "      <td>0.0</td>\n",
       "    </tr>\n",
       "    <tr>\n",
       "      <th>1.140978180</th>\n",
       "      <td>Moneyline</td>\n",
       "      <td>[{'selectionId': 728491, 'runnerName': 'Stony ...</td>\n",
       "      <td>0.0</td>\n",
       "    </tr>\n",
       "    <tr>\n",
       "      <th>1.140978472</th>\n",
       "      <td>Moneyline</td>\n",
       "      <td>[{'selectionId': 5145595, 'runnerName': 'Long ...</td>\n",
       "      <td>0.0</td>\n",
       "    </tr>\n",
       "    <tr>\n",
       "      <th>1.140977744</th>\n",
       "      <td>Moneyline</td>\n",
       "      <td>[{'selectionId': 352102, 'runnerName': 'Wake F...</td>\n",
       "      <td>0.0</td>\n",
       "    </tr>\n",
       "    <tr>\n",
       "      <th>1.140978326</th>\n",
       "      <td>Moneyline</td>\n",
       "      <td>[{'selectionId': 731888, 'runnerName': 'Hartfo...</td>\n",
       "      <td>0.0</td>\n",
       "    </tr>\n",
       "    <tr>\n",
       "      <th>1.140978908</th>\n",
       "      <td>Moneyline</td>\n",
       "      <td>[{'selectionId': 721825, 'runnerName': 'Alabam...</td>\n",
       "      <td>0.0</td>\n",
       "    </tr>\n",
       "    <tr>\n",
       "      <th>1.140979054</th>\n",
       "      <td>Moneyline</td>\n",
       "      <td>[{'selectionId': 4353352, 'runnerName': 'Alcor...</td>\n",
       "      <td>0.0</td>\n",
       "    </tr>\n",
       "    <tr>\n",
       "      <th>1.140978617</th>\n",
       "      <td>Moneyline</td>\n",
       "      <td>[{'selectionId': 5145582, 'runnerName': 'Sacra...</td>\n",
       "      <td>0.0</td>\n",
       "    </tr>\n",
       "  </tbody>\n",
       "</table>\n",
       "</div>"
      ],
      "text/plain": [
       "            marketName                                            runners  \\\n",
       "marketId                                                                    \n",
       "1.140978762  Moneyline  [{'selectionId': 727607, 'runnerName': 'Northe...   \n",
       "1.140978180  Moneyline  [{'selectionId': 728491, 'runnerName': 'Stony ...   \n",
       "1.140978472  Moneyline  [{'selectionId': 5145595, 'runnerName': 'Long ...   \n",
       "1.140977744  Moneyline  [{'selectionId': 352102, 'runnerName': 'Wake F...   \n",
       "1.140978326  Moneyline  [{'selectionId': 731888, 'runnerName': 'Hartfo...   \n",
       "1.140978908  Moneyline  [{'selectionId': 721825, 'runnerName': 'Alabam...   \n",
       "1.140979054  Moneyline  [{'selectionId': 4353352, 'runnerName': 'Alcor...   \n",
       "1.140978617  Moneyline  [{'selectionId': 5145582, 'runnerName': 'Sacra...   \n",
       "\n",
       "             totalMatched  \n",
       "marketId                   \n",
       "1.140978762           0.0  \n",
       "1.140978180           0.0  \n",
       "1.140978472           0.0  \n",
       "1.140977744           0.0  \n",
       "1.140978326           0.0  \n",
       "1.140978908           0.0  \n",
       "1.140979054           0.0  \n",
       "1.140978617           0.0  "
      ]
     },
     "execution_count": 45,
     "metadata": {},
     "output_type": "execute_result"
    }
   ],
   "source": [
    "from src.betfair.api import BetsAPI\n",
    "from betfairlightweight import APIClient\n",
    "uname = os.environ['betfair_username']\n",
    "pword = os.environ['betfair_password']\n",
    "key = os.environ['betfair_key']\n",
    "bf = APIClient(uname, pword, app_key=key,\n",
    "               certs='/Users/jonaspaulwestermann/Dev/marchmadness/certs',\n",
    "               locale='spain', lightweight=True)\n",
    "bets = BetsAPI(bf)\n",
    "bets.market_catalogue"
   ]
  },
  {
   "cell_type": "markdown",
   "metadata": {},
   "source": [
    "### Market Catalogue"
   ]
  },
  {
   "cell_type": "code",
   "execution_count": 37,
   "metadata": {},
   "outputs": [
    {
     "name": "stdout",
     "output_type": "stream",
     "text": [
      "(8, 3)\n"
     ]
    },
    {
     "data": {
      "text/html": [
       "<div>\n",
       "<style scoped>\n",
       "    .dataframe tbody tr th:only-of-type {\n",
       "        vertical-align: middle;\n",
       "    }\n",
       "\n",
       "    .dataframe tbody tr th {\n",
       "        vertical-align: top;\n",
       "    }\n",
       "\n",
       "    .dataframe thead th {\n",
       "        text-align: right;\n",
       "    }\n",
       "</style>\n",
       "<table border=\"1\" class=\"dataframe\">\n",
       "  <thead>\n",
       "    <tr style=\"text-align: right;\">\n",
       "      <th></th>\n",
       "      <th>marketName</th>\n",
       "      <th>runners</th>\n",
       "      <th>totalMatched</th>\n",
       "    </tr>\n",
       "    <tr>\n",
       "      <th>marketId</th>\n",
       "      <th></th>\n",
       "      <th></th>\n",
       "      <th></th>\n",
       "    </tr>\n",
       "  </thead>\n",
       "  <tbody>\n",
       "    <tr>\n",
       "      <th>1.140978617</th>\n",
       "      <td>Moneyline</td>\n",
       "      <td>[{'selectionId': 5145582, 'runnerName': 'Sacra...</td>\n",
       "      <td>0.0</td>\n",
       "    </tr>\n",
       "    <tr>\n",
       "      <th>1.140979054</th>\n",
       "      <td>Moneyline</td>\n",
       "      <td>[{'selectionId': 4353352, 'runnerName': 'Alcor...</td>\n",
       "      <td>0.0</td>\n",
       "    </tr>\n",
       "    <tr>\n",
       "      <th>1.140977744</th>\n",
       "      <td>Moneyline</td>\n",
       "      <td>[{'selectionId': 352102, 'runnerName': 'Wake F...</td>\n",
       "      <td>0.0</td>\n",
       "    </tr>\n",
       "  </tbody>\n",
       "</table>\n",
       "</div>"
      ],
      "text/plain": [
       "            marketName                                            runners  \\\n",
       "marketId                                                                    \n",
       "1.140978617  Moneyline  [{'selectionId': 5145582, 'runnerName': 'Sacra...   \n",
       "1.140979054  Moneyline  [{'selectionId': 4353352, 'runnerName': 'Alcor...   \n",
       "1.140977744  Moneyline  [{'selectionId': 352102, 'runnerName': 'Wake F...   \n",
       "\n",
       "             totalMatched  \n",
       "marketId                   \n",
       "1.140978617           0.0  \n",
       "1.140979054           0.0  \n",
       "1.140977744           0.0  "
      ]
     },
     "execution_count": 37,
     "metadata": {},
     "output_type": "execute_result"
    }
   ],
   "source": [
    "ncaa_filter = f.market_filter(competition_ids=[ncaa_competition['competition']['id']])\n",
    "max_results = int(ncaa_market_types.loc['MATCH_ODDS','marketCount'])\n",
    "ncaa_market_catalogue = bf.betting.list_market_catalogue(filter=ncaa_filter, max_results=max_results,\n",
    "                                                         market_projection=[\"RUNNER_METADATA\"])\n",
    "ncaa_market_catalogue = pd.DataFrame(ncaa_market_catalogue).set_index('marketId')\n",
    "print(ncaa_market_catalogue.shape)\n",
    "ncaa_market_catalogue.sample(3)"
   ]
  },
  {
   "cell_type": "markdown",
   "metadata": {},
   "source": [
    "### Market Book"
   ]
  },
  {
   "cell_type": "code",
   "execution_count": 31,
   "metadata": {},
   "outputs": [
    {
     "name": "stdout",
     "output_type": "stream",
     "text": [
      "(8, 15)\n"
     ]
    },
    {
     "data": {
      "text/html": [
       "<div>\n",
       "<style scoped>\n",
       "    .dataframe tbody tr th:only-of-type {\n",
       "        vertical-align: middle;\n",
       "    }\n",
       "\n",
       "    .dataframe tbody tr th {\n",
       "        vertical-align: top;\n",
       "    }\n",
       "\n",
       "    .dataframe thead th {\n",
       "        text-align: right;\n",
       "    }\n",
       "</style>\n",
       "<table border=\"1\" class=\"dataframe\">\n",
       "  <thead>\n",
       "    <tr style=\"text-align: right;\">\n",
       "      <th></th>\n",
       "      <th>betDelay</th>\n",
       "      <th>bspReconciled</th>\n",
       "      <th>complete</th>\n",
       "      <th>crossMatching</th>\n",
       "      <th>inplay</th>\n",
       "      <th>isMarketDataDelayed</th>\n",
       "      <th>numberOfActiveRunners</th>\n",
       "      <th>numberOfRunners</th>\n",
       "      <th>numberOfWinners</th>\n",
       "      <th>runners</th>\n",
       "      <th>runnersVoidable</th>\n",
       "      <th>status</th>\n",
       "      <th>totalAvailable</th>\n",
       "      <th>totalMatched</th>\n",
       "      <th>version</th>\n",
       "    </tr>\n",
       "    <tr>\n",
       "      <th>marketId</th>\n",
       "      <th></th>\n",
       "      <th></th>\n",
       "      <th></th>\n",
       "      <th></th>\n",
       "      <th></th>\n",
       "      <th></th>\n",
       "      <th></th>\n",
       "      <th></th>\n",
       "      <th></th>\n",
       "      <th></th>\n",
       "      <th></th>\n",
       "      <th></th>\n",
       "      <th></th>\n",
       "      <th></th>\n",
       "      <th></th>\n",
       "    </tr>\n",
       "  </thead>\n",
       "  <tbody>\n",
       "    <tr>\n",
       "      <th>1.140978617</th>\n",
       "      <td>0</td>\n",
       "      <td>False</td>\n",
       "      <td>True</td>\n",
       "      <td>False</td>\n",
       "      <td>False</td>\n",
       "      <td>True</td>\n",
       "      <td>2</td>\n",
       "      <td>2</td>\n",
       "      <td>1</td>\n",
       "      <td>[{'selectionId': 5145582, 'handicap': 0.0, 'st...</td>\n",
       "      <td>False</td>\n",
       "      <td>OPEN</td>\n",
       "      <td>420.66</td>\n",
       "      <td>0.0</td>\n",
       "      <td>2097439060</td>\n",
       "    </tr>\n",
       "    <tr>\n",
       "      <th>1.140977744</th>\n",
       "      <td>0</td>\n",
       "      <td>False</td>\n",
       "      <td>True</td>\n",
       "      <td>False</td>\n",
       "      <td>False</td>\n",
       "      <td>True</td>\n",
       "      <td>2</td>\n",
       "      <td>2</td>\n",
       "      <td>1</td>\n",
       "      <td>[{'selectionId': 352102, 'handicap': 0.0, 'sta...</td>\n",
       "      <td>False</td>\n",
       "      <td>OPEN</td>\n",
       "      <td>701.28</td>\n",
       "      <td>0.0</td>\n",
       "      <td>2097006047</td>\n",
       "    </tr>\n",
       "    <tr>\n",
       "      <th>1.140978762</th>\n",
       "      <td>5</td>\n",
       "      <td>False</td>\n",
       "      <td>True</td>\n",
       "      <td>False</td>\n",
       "      <td>True</td>\n",
       "      <td>True</td>\n",
       "      <td>2</td>\n",
       "      <td>2</td>\n",
       "      <td>1</td>\n",
       "      <td>[{'selectionId': 727607, 'handicap': 0.0, 'sta...</td>\n",
       "      <td>False</td>\n",
       "      <td>OPEN</td>\n",
       "      <td>4.99</td>\n",
       "      <td>0.0</td>\n",
       "      <td>2097397099</td>\n",
       "    </tr>\n",
       "  </tbody>\n",
       "</table>\n",
       "</div>"
      ],
      "text/plain": [
       "             betDelay  bspReconciled  complete  crossMatching  inplay  \\\n",
       "marketId                                                                \n",
       "1.140978617         0          False      True          False   False   \n",
       "1.140977744         0          False      True          False   False   \n",
       "1.140978762         5          False      True          False    True   \n",
       "\n",
       "             isMarketDataDelayed  numberOfActiveRunners  numberOfRunners  \\\n",
       "marketId                                                                   \n",
       "1.140978617                 True                      2                2   \n",
       "1.140977744                 True                      2                2   \n",
       "1.140978762                 True                      2                2   \n",
       "\n",
       "             numberOfWinners  \\\n",
       "marketId                       \n",
       "1.140978617                1   \n",
       "1.140977744                1   \n",
       "1.140978762                1   \n",
       "\n",
       "                                                       runners  \\\n",
       "marketId                                                         \n",
       "1.140978617  [{'selectionId': 5145582, 'handicap': 0.0, 'st...   \n",
       "1.140977744  [{'selectionId': 352102, 'handicap': 0.0, 'sta...   \n",
       "1.140978762  [{'selectionId': 727607, 'handicap': 0.0, 'sta...   \n",
       "\n",
       "             runnersVoidable status  totalAvailable  totalMatched     version  \n",
       "marketId                                                                       \n",
       "1.140978617            False   OPEN          420.66           0.0  2097439060  \n",
       "1.140977744            False   OPEN          701.28           0.0  2097006047  \n",
       "1.140978762            False   OPEN            4.99           0.0  2097397099  "
      ]
     },
     "execution_count": 31,
     "metadata": {},
     "output_type": "execute_result"
    }
   ],
   "source": [
    "ncaa_market_book = bf.betting.list_market_book(market_ids=ncaa_market_catalogue.index,\n",
    "                                               currency_code='EUR',\n",
    "                                               price_projection={\"priceData\":[\"EX_BEST_OFFERS\"]})\n",
    "ncaa_market_book = pd.DataFrame(ncaa_market_book).set_index('marketId')\n",
    "print(ncaa_market_book.shape)\n",
    "ncaa_market_book.sample(3)"
   ]
  },
  {
   "cell_type": "code",
   "execution_count": 32,
   "metadata": {},
   "outputs": [
    {
     "name": "stdout",
     "output_type": "stream",
     "text": [
      "(16, 4)\n"
     ]
    },
    {
     "data": {
      "text/html": [
       "<div>\n",
       "<style scoped>\n",
       "    .dataframe tbody tr th:only-of-type {\n",
       "        vertical-align: middle;\n",
       "    }\n",
       "\n",
       "    .dataframe tbody tr th {\n",
       "        vertical-align: top;\n",
       "    }\n",
       "\n",
       "    .dataframe thead th {\n",
       "        text-align: right;\n",
       "    }\n",
       "</style>\n",
       "<table border=\"1\" class=\"dataframe\">\n",
       "  <thead>\n",
       "    <tr style=\"text-align: right;\">\n",
       "      <th></th>\n",
       "      <th>handicap</th>\n",
       "      <th>runnerName</th>\n",
       "      <th>selectionId</th>\n",
       "      <th>sortPriority</th>\n",
       "    </tr>\n",
       "    <tr>\n",
       "      <th>runnerId</th>\n",
       "      <th></th>\n",
       "      <th></th>\n",
       "      <th></th>\n",
       "      <th></th>\n",
       "    </tr>\n",
       "  </thead>\n",
       "  <tbody>\n",
       "    <tr>\n",
       "      <th>721825</th>\n",
       "      <td>0</td>\n",
       "      <td>Alabama State</td>\n",
       "      <td>721825</td>\n",
       "      <td>1</td>\n",
       "    </tr>\n",
       "  </tbody>\n",
       "</table>\n",
       "</div>"
      ],
      "text/plain": [
       "         handicap     runnerName selectionId sortPriority\n",
       "runnerId                                                 \n",
       "721825          0  Alabama State      721825            1"
      ]
     },
     "execution_count": 32,
     "metadata": {},
     "output_type": "execute_result"
    }
   ],
   "source": [
    "ncaa_teams = pd.concat([pd.concat([pd.Series(r) for r in row], axis=1) \n",
    "                       for row in ncaa_market_catalogue.runners.values],\n",
    "                       axis=1).transpose()\n",
    "ncaa_teams['runnerId'] = ncaa_teams.metadata.apply(lambda d: d['runnerId'])\n",
    "ncaa_teams.drop('metadata', axis=1, inplace=True)\n",
    "ncaa_teams.set_index('runnerId', inplace=True)\n",
    "print(ncaa_teams.shape)\n",
    "ncaa_teams.sample()"
   ]
  },
  {
   "cell_type": "code",
   "execution_count": 34,
   "metadata": {},
   "outputs": [],
   "source": [
    "ncaa_market = pd.merge(ncaa_market_catalogue, ncaa_market_book,\n",
    "                       left_index=True, right_index=True,\n",
    "                       suffixes=['_catalogue','_book'])"
   ]
  },
  {
   "cell_type": "code",
   "execution_count": 36,
   "metadata": {},
   "outputs": [
    {
     "data": {
      "text/plain": [
       "[{'ex': {'availableToBack': [{'price': 3.6, 'size': 39.04}],\n",
       "   'availableToLay': [{'price': 4.6, 'size': 30.5},\n",
       "    {'price': 4.7, 'size': 30.0}],\n",
       "   'tradedVolume': []},\n",
       "  'handicap': 0.0,\n",
       "  'selectionId': 5145582,\n",
       "  'status': 'ACTIVE',\n",
       "  'totalMatched': 0.0},\n",
       " {'ex': {'availableToBack': [{'price': 1.28, 'size': 109.38},\n",
       "    {'price': 1.27, 'size': 110.24}],\n",
       "   'availableToLay': [{'price': 1.38, 'size': 101.5}],\n",
       "   'tradedVolume': []},\n",
       "  'handicap': 0.0,\n",
       "  'selectionId': 2909529,\n",
       "  'status': 'ACTIVE',\n",
       "  'totalMatched': 0.0}]"
      ]
     },
     "execution_count": 36,
     "metadata": {},
     "output_type": "execute_result"
    }
   ],
   "source": [
    "ncaa_market.sample().squeeze().runners_book"
   ]
  },
  {
   "cell_type": "code",
   "execution_count": null,
   "metadata": {
    "collapsed": true
   },
   "outputs": [],
   "source": []
  }
 ],
 "metadata": {
  "kernelspec": {
   "display_name": "Python 3",
   "language": "python3",
   "name": "python3"
  },
  "language_info": {
   "codemirror_mode": {
    "name": "ipython",
    "version": 3
   },
   "file_extension": ".py",
   "mimetype": "text/x-python",
   "name": "python",
   "nbconvert_exporter": "python",
   "pygments_lexer": "ipython3",
   "version": "3.6.2"
  }
 },
 "nbformat": 4,
 "nbformat_minor": 2
}
