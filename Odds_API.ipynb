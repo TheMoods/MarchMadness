{
 "cells": [
  {
   "cell_type": "markdown",
   "metadata": {},
   "source": [
    "## Betfair"
   ]
  },
  {
   "cell_type": "code",
   "execution_count": 303,
   "metadata": {},
   "outputs": [
    {
     "name": "stdout",
     "output_type": "stream",
     "text": [
      "The autoreload extension is already loaded. To reload it, use:\n",
      "  %reload_ext autoreload\n"
     ]
    }
   ],
   "source": [
    "%load_ext autoreload\n",
    "%autoreload 2\n",
    "import os\n",
    "import numpy as np\n",
    "import pandas as pd\n",
    "import datetime as dt"
   ]
  },
  {
   "cell_type": "code",
   "execution_count": 305,
   "metadata": {},
   "outputs": [
    {
     "name": "stdout",
     "output_type": "stream",
     "text": [
      "Updating data\n",
      "Updating data\n",
      "Updating data\n",
      "Updating data\n",
      "Updating data\n",
      "Updating data\n",
      "Updating data\n",
      "Updating data\n",
      "Updating data\n",
      "Updating data\n",
      "Updating data\n",
      "Updating data\n",
      "Updating data\n",
      "Updating data\n",
      "Updating data\n"
     ]
    },
    {
     "ename": "KeyboardInterrupt",
     "evalue": "",
     "output_type": "error",
     "traceback": [
      "\u001b[0;31m---------------------------------------------------------------------------\u001b[0m",
      "\u001b[0;31mKeyboardInterrupt\u001b[0m                         Traceback (most recent call last)",
      "\u001b[0;32m<ipython-input-305-a5891d4bfe78>\u001b[0m in \u001b[0;36m<module>\u001b[0;34m()\u001b[0m\n\u001b[1;32m      8\u001b[0m                locale='spain', lightweight=True)\n\u001b[1;32m      9\u001b[0m \u001b[0mbets\u001b[0m \u001b[0;34m=\u001b[0m \u001b[0mBetsAPI\u001b[0m\u001b[0;34m(\u001b[0m\u001b[0mbf\u001b[0m\u001b[0;34m,\u001b[0m \u001b[0mleague_name\u001b[0m\u001b[0;34m=\u001b[0m\u001b[0;34m'NCAAB'\u001b[0m\u001b[0;34m,\u001b[0m \u001b[0mbet_type\u001b[0m\u001b[0;34m=\u001b[0m\u001b[0;34m'MATCH_ODDS'\u001b[0m\u001b[0;34m,\u001b[0m \u001b[0mcurrency\u001b[0m\u001b[0;34m=\u001b[0m\u001b[0;34m'EUR'\u001b[0m\u001b[0;34m,\u001b[0m \u001b[0mallow_reload\u001b[0m\u001b[0;34m=\u001b[0m\u001b[0;32mFalse\u001b[0m\u001b[0;34m)\u001b[0m\u001b[0;34m\u001b[0m\u001b[0m\n\u001b[0;32m---> 10\u001b[0;31m \u001b[0mbets\u001b[0m\u001b[0;34m.\u001b[0m\u001b[0mlisten_data\u001b[0m\u001b[0;34m(\u001b[0m\u001b[0;34m)\u001b[0m\u001b[0;34m\u001b[0m\u001b[0m\n\u001b[0m",
      "\u001b[0;32m/Users/jonaspaulwestermann/Dev/marchmadness/src/bets/api.py\u001b[0m in \u001b[0;36mlisten_data\u001b[0;34m(self, tick)\u001b[0m\n\u001b[1;32m     71\u001b[0m             \u001b[0mprint\u001b[0m\u001b[0;34m(\u001b[0m\u001b[0;34m'Updating data'\u001b[0m\u001b[0;34m)\u001b[0m\u001b[0;34m\u001b[0m\u001b[0m\n\u001b[1;32m     72\u001b[0m             \u001b[0mself\u001b[0m\u001b[0;34m.\u001b[0m\u001b[0mupdate_data\u001b[0m\u001b[0;34m(\u001b[0m\u001b[0;34m)\u001b[0m\u001b[0;34m\u001b[0m\u001b[0m\n\u001b[0;32m---> 73\u001b[0;31m             \u001b[0mtime\u001b[0m\u001b[0;34m.\u001b[0m\u001b[0msleep\u001b[0m\u001b[0;34m(\u001b[0m\u001b[0mtick\u001b[0m\u001b[0;34m)\u001b[0m\u001b[0;34m\u001b[0m\u001b[0m\n\u001b[0m\u001b[1;32m     74\u001b[0m \u001b[0;34m\u001b[0m\u001b[0m\n\u001b[1;32m     75\u001b[0m     \u001b[0;32mdef\u001b[0m \u001b[0mbuild_secondary_tables\u001b[0m\u001b[0;34m(\u001b[0m\u001b[0mself\u001b[0m\u001b[0;34m)\u001b[0m\u001b[0;34m:\u001b[0m\u001b[0;34m\u001b[0m\u001b[0m\n",
      "\u001b[0;31mKeyboardInterrupt\u001b[0m: "
     ]
    }
   ],
   "source": [
    "from src.bets.api import BetsAPI\n",
    "from betfairlightweight import APIClient\n",
    "uname = os.environ['betfair_username']\n",
    "pword = os.environ['betfair_password']\n",
    "key = os.environ['betfair_key']\n",
    "bf = APIClient(uname, pword, app_key=key,\n",
    "               certs='/Users/jonaspaulwestermann/Dev/marchmadness/certs',\n",
    "               locale='spain', lightweight=True)\n",
    "bets = BetsAPI(bf, league_name='NCAAB', bet_type='MATCH_ODDS', currency='EUR', allow_reload=False)\n",
    "bets.listen_data()"
   ]
  }
 ],
 "metadata": {
  "kernelspec": {
   "display_name": "Python 3",
   "language": "python3",
   "name": "python3"
  },
  "language_info": {
   "codemirror_mode": {
    "name": "ipython",
    "version": 3
   },
   "file_extension": ".py",
   "mimetype": "text/x-python",
   "name": "python",
   "nbconvert_exporter": "python",
   "pygments_lexer": "ipython3",
   "version": "3.6.2"
  }
 },
 "nbformat": 4,
 "nbformat_minor": 2
}
