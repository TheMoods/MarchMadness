{
 "cells": [
  {
   "cell_type": "markdown",
   "metadata": {},
   "source": [
    "## Betfair"
   ]
  },
  {
   "cell_type": "code",
   "execution_count": 137,
   "metadata": {},
   "outputs": [
    {
     "data": {
      "text/plain": [
       "{'loginStatus': 'SUCCESS',\n",
       " 'sessionToken': 'YfpgGOhWycLTwrf/bMiyKl4zKCO9w4n8R3Lz+QPN/vw='}"
      ]
     },
     "execution_count": 137,
     "metadata": {},
     "output_type": "execute_result"
    }
   ],
   "source": [
    "import os\n",
    "import pandas as pd\n",
    "import datetime as dt\n",
    "from betfairlightweight import APIClient, filters as f\n",
    "uname = os.environ['betfair_username']\n",
    "pword = os.environ['betfair_password']\n",
    "key = os.environ['betfair_key']\n",
    "bf = APIClient(uname, pword, app_key=key,\n",
    "               certs='/Users/jonaspaulwestermann/Dev/marchmadness/certs',\n",
    "               locale='spain', lightweight=True)\n",
    "bf.login()"
   ]
  },
  {
   "cell_type": "markdown",
   "metadata": {},
   "source": [
    "### Competition"
   ]
  },
  {
   "cell_type": "code",
   "execution_count": 138,
   "metadata": {},
   "outputs": [
    {
     "data": {
      "text/plain": [
       "{'competition': {'id': '10861937', 'name': 'NCAAB'},\n",
       " 'competitionRegion': 'International',\n",
       " 'marketCount': 10}"
      ]
     },
     "execution_count": 138,
     "metadata": {},
     "output_type": "execute_result"
    }
   ],
   "source": [
    "ncaa_competition = next(e for e in bf.betting.list_competitions() if e['competition']['name'] == 'NCAAB')\n",
    "ncaa_competition"
   ]
  },
  {
   "cell_type": "markdown",
   "metadata": {},
   "source": [
    "### Events"
   ]
  },
  {
   "cell_type": "code",
   "execution_count": 143,
   "metadata": {},
   "outputs": [
    {
     "name": "stdout",
     "output_type": "stream",
     "text": [
      "(10, 4)\n"
     ]
    },
    {
     "data": {
      "text/html": [
       "<div>\n",
       "<style scoped>\n",
       "    .dataframe tbody tr th:only-of-type {\n",
       "        vertical-align: middle;\n",
       "    }\n",
       "\n",
       "    .dataframe tbody tr th {\n",
       "        vertical-align: top;\n",
       "    }\n",
       "\n",
       "    .dataframe thead th {\n",
       "        text-align: right;\n",
       "    }\n",
       "</style>\n",
       "<table border=\"1\" class=\"dataframe\">\n",
       "  <thead>\n",
       "    <tr style=\"text-align: right;\">\n",
       "      <th></th>\n",
       "      <th>name</th>\n",
       "      <th>openDate</th>\n",
       "      <th>timezone</th>\n",
       "      <th>time_to_open</th>\n",
       "    </tr>\n",
       "    <tr>\n",
       "      <th>id</th>\n",
       "      <th></th>\n",
       "      <th></th>\n",
       "      <th></th>\n",
       "      <th></th>\n",
       "    </tr>\n",
       "  </thead>\n",
       "  <tbody>\n",
       "    <tr>\n",
       "      <th>28620195</th>\n",
       "      <td>Georgia Tech @ Boston College</td>\n",
       "      <td>2018-03-06T17:00:00.000Z</td>\n",
       "      <td>GMT</td>\n",
       "      <td>11:51:35.059862</td>\n",
       "    </tr>\n",
       "    <tr>\n",
       "      <th>28620187</th>\n",
       "      <td>Pittsburgh @ Notre Dame</td>\n",
       "      <td>2018-03-06T19:30:00.000Z</td>\n",
       "      <td>GMT</td>\n",
       "      <td>14:21:35.059862</td>\n",
       "    </tr>\n",
       "    <tr>\n",
       "      <th>28620192</th>\n",
       "      <td>Northern Arizona @ No. Colorado</td>\n",
       "      <td>2018-03-06T22:30:00.000Z</td>\n",
       "      <td>GMT</td>\n",
       "      <td>17:21:35.059862</td>\n",
       "    </tr>\n",
       "  </tbody>\n",
       "</table>\n",
       "</div>"
      ],
      "text/plain": [
       "                                     name                  openDate timezone  \\\n",
       "id                                                                             \n",
       "28620195    Georgia Tech @ Boston College  2018-03-06T17:00:00.000Z      GMT   \n",
       "28620187          Pittsburgh @ Notre Dame  2018-03-06T19:30:00.000Z      GMT   \n",
       "28620192  Northern Arizona @ No. Colorado  2018-03-06T22:30:00.000Z      GMT   \n",
       "\n",
       "            time_to_open  \n",
       "id                        \n",
       "28620195 11:51:35.059862  \n",
       "28620187 14:21:35.059862  \n",
       "28620192 17:21:35.059862  "
      ]
     },
     "execution_count": 143,
     "metadata": {},
     "output_type": "execute_result"
    }
   ],
   "source": [
    "ncaa_filter = f.market_filter(competition_ids=[ncaa_competition['competition']['id']])\n",
    "ncaa_games = pd.DataFrame([g['event'] for g in bf.betting.list_events(filter=ncaa_filter)]).set_index('id')\n",
    "ncaa_games['time_to_open'] = (pd.to_datetime(ncaa_games['openDate']) - dt.datetime.now())\n",
    "print(ncaa_games.shape)\n",
    "ncaa_games.sort_values('time_to_open').head(3)"
   ]
  },
  {
   "cell_type": "markdown",
   "metadata": {},
   "source": [
    "### Market Types"
   ]
  },
  {
   "cell_type": "code",
   "execution_count": 144,
   "metadata": {},
   "outputs": [
    {
     "name": "stdout",
     "output_type": "stream",
     "text": [
      "(1, 1)\n"
     ]
    },
    {
     "data": {
      "text/html": [
       "<div>\n",
       "<style scoped>\n",
       "    .dataframe tbody tr th:only-of-type {\n",
       "        vertical-align: middle;\n",
       "    }\n",
       "\n",
       "    .dataframe tbody tr th {\n",
       "        vertical-align: top;\n",
       "    }\n",
       "\n",
       "    .dataframe thead th {\n",
       "        text-align: right;\n",
       "    }\n",
       "</style>\n",
       "<table border=\"1\" class=\"dataframe\">\n",
       "  <thead>\n",
       "    <tr style=\"text-align: right;\">\n",
       "      <th></th>\n",
       "      <th>marketCount</th>\n",
       "    </tr>\n",
       "    <tr>\n",
       "      <th>marketType</th>\n",
       "      <th></th>\n",
       "    </tr>\n",
       "  </thead>\n",
       "  <tbody>\n",
       "    <tr>\n",
       "      <th>MATCH_ODDS</th>\n",
       "      <td>10</td>\n",
       "    </tr>\n",
       "  </tbody>\n",
       "</table>\n",
       "</div>"
      ],
      "text/plain": [
       "            marketCount\n",
       "marketType             \n",
       "MATCH_ODDS           10"
      ]
     },
     "execution_count": 144,
     "metadata": {},
     "output_type": "execute_result"
    }
   ],
   "source": [
    "ncaa_filter = f.market_filter(competition_ids=[ncaa_competition['competition']['id']])\n",
    "ncaa_market_types = pd.DataFrame(bf.betting.list_market_types(filter=ncaa_filter)).set_index('marketType')\n",
    "print(ncaa_market_types.shape)\n",
    "ncaa_market_types"
   ]
  },
  {
   "cell_type": "markdown",
   "metadata": {},
   "source": [
    "### Market Catalogue"
   ]
  },
  {
   "cell_type": "code",
   "execution_count": 145,
   "metadata": {},
   "outputs": [
    {
     "name": "stdout",
     "output_type": "stream",
     "text": [
      "(10, 2)\n"
     ]
    },
    {
     "data": {
      "text/html": [
       "<div>\n",
       "<style scoped>\n",
       "    .dataframe tbody tr th:only-of-type {\n",
       "        vertical-align: middle;\n",
       "    }\n",
       "\n",
       "    .dataframe tbody tr th {\n",
       "        vertical-align: top;\n",
       "    }\n",
       "\n",
       "    .dataframe thead th {\n",
       "        text-align: right;\n",
       "    }\n",
       "</style>\n",
       "<table border=\"1\" class=\"dataframe\">\n",
       "  <thead>\n",
       "    <tr style=\"text-align: right;\">\n",
       "      <th></th>\n",
       "      <th>marketName</th>\n",
       "      <th>totalMatched</th>\n",
       "    </tr>\n",
       "    <tr>\n",
       "      <th>marketId</th>\n",
       "      <th></th>\n",
       "      <th></th>\n",
       "    </tr>\n",
       "  </thead>\n",
       "  <tbody>\n",
       "    <tr>\n",
       "      <th>1.140978035</th>\n",
       "      <td>Moneyline</td>\n",
       "      <td>0.0</td>\n",
       "    </tr>\n",
       "    <tr>\n",
       "      <th>1.140978326</th>\n",
       "      <td>Moneyline</td>\n",
       "      <td>0.0</td>\n",
       "    </tr>\n",
       "    <tr>\n",
       "      <th>1.140978762</th>\n",
       "      <td>Moneyline</td>\n",
       "      <td>0.0</td>\n",
       "    </tr>\n",
       "  </tbody>\n",
       "</table>\n",
       "</div>"
      ],
      "text/plain": [
       "            marketName  totalMatched\n",
       "marketId                            \n",
       "1.140978035  Moneyline           0.0\n",
       "1.140978326  Moneyline           0.0\n",
       "1.140978762  Moneyline           0.0"
      ]
     },
     "execution_count": 145,
     "metadata": {},
     "output_type": "execute_result"
    }
   ],
   "source": [
    "ncaa_filter = f.market_filter(competition_ids=[ncaa_competition['competition']['id']])\n",
    "max_results = int(ncaa_market_types.loc['MATCH_ODDS','marketCount'])\n",
    "ncaa_market_catalogue = bf.betting.list_market_catalogue(filter=ncaa_filter, max_results=max_results)\n",
    "ncaa_market_catalogue = pd.DataFrame(ncaa_market_catalogue).set_index('marketId')\n",
    "print(ncaa_market_catalogue.shape)\n",
    "ncaa_market_catalogue.sample(3)"
   ]
  },
  {
   "cell_type": "markdown",
   "metadata": {},
   "source": [
    "### Market Book"
   ]
  },
  {
   "cell_type": "code",
   "execution_count": 146,
   "metadata": {},
   "outputs": [
    {
     "name": "stdout",
     "output_type": "stream",
     "text": [
      "(10, 16)\n"
     ]
    },
    {
     "data": {
      "text/html": [
       "<div>\n",
       "<style scoped>\n",
       "    .dataframe tbody tr th:only-of-type {\n",
       "        vertical-align: middle;\n",
       "    }\n",
       "\n",
       "    .dataframe tbody tr th {\n",
       "        vertical-align: top;\n",
       "    }\n",
       "\n",
       "    .dataframe thead th {\n",
       "        text-align: right;\n",
       "    }\n",
       "</style>\n",
       "<table border=\"1\" class=\"dataframe\">\n",
       "  <thead>\n",
       "    <tr style=\"text-align: right;\">\n",
       "      <th></th>\n",
       "      <th>betDelay</th>\n",
       "      <th>bspReconciled</th>\n",
       "      <th>complete</th>\n",
       "      <th>crossMatching</th>\n",
       "      <th>inplay</th>\n",
       "      <th>isMarketDataDelayed</th>\n",
       "      <th>marketId</th>\n",
       "      <th>numberOfActiveRunners</th>\n",
       "      <th>numberOfRunners</th>\n",
       "      <th>numberOfWinners</th>\n",
       "      <th>runners</th>\n",
       "      <th>runnersVoidable</th>\n",
       "      <th>status</th>\n",
       "      <th>totalAvailable</th>\n",
       "      <th>totalMatched</th>\n",
       "      <th>version</th>\n",
       "    </tr>\n",
       "  </thead>\n",
       "  <tbody>\n",
       "    <tr>\n",
       "      <th>0</th>\n",
       "      <td>0</td>\n",
       "      <td>False</td>\n",
       "      <td>True</td>\n",
       "      <td>False</td>\n",
       "      <td>False</td>\n",
       "      <td>True</td>\n",
       "      <td>1.140977744</td>\n",
       "      <td>2</td>\n",
       "      <td>2</td>\n",
       "      <td>1</td>\n",
       "      <td>[{'selectionId': 352102, 'handicap': 0.0, 'sta...</td>\n",
       "      <td>False</td>\n",
       "      <td>OPEN</td>\n",
       "      <td>0.0</td>\n",
       "      <td>0.0</td>\n",
       "      <td>2095825034</td>\n",
       "    </tr>\n",
       "    <tr>\n",
       "      <th>5</th>\n",
       "      <td>0</td>\n",
       "      <td>False</td>\n",
       "      <td>True</td>\n",
       "      <td>False</td>\n",
       "      <td>False</td>\n",
       "      <td>True</td>\n",
       "      <td>1.140978472</td>\n",
       "      <td>2</td>\n",
       "      <td>2</td>\n",
       "      <td>1</td>\n",
       "      <td>[{'selectionId': 5145595, 'handicap': 0.0, 'st...</td>\n",
       "      <td>False</td>\n",
       "      <td>OPEN</td>\n",
       "      <td>0.0</td>\n",
       "      <td>0.0</td>\n",
       "      <td>2095829565</td>\n",
       "    </tr>\n",
       "    <tr>\n",
       "      <th>4</th>\n",
       "      <td>0</td>\n",
       "      <td>False</td>\n",
       "      <td>True</td>\n",
       "      <td>False</td>\n",
       "      <td>False</td>\n",
       "      <td>True</td>\n",
       "      <td>1.140978326</td>\n",
       "      <td>2</td>\n",
       "      <td>2</td>\n",
       "      <td>1</td>\n",
       "      <td>[{'selectionId': 731888, 'handicap': 0.0, 'sta...</td>\n",
       "      <td>False</td>\n",
       "      <td>OPEN</td>\n",
       "      <td>0.0</td>\n",
       "      <td>0.0</td>\n",
       "      <td>2095829069</td>\n",
       "    </tr>\n",
       "  </tbody>\n",
       "</table>\n",
       "</div>"
      ],
      "text/plain": [
       "   betDelay  bspReconciled  complete  crossMatching  inplay  \\\n",
       "0         0          False      True          False   False   \n",
       "5         0          False      True          False   False   \n",
       "4         0          False      True          False   False   \n",
       "\n",
       "   isMarketDataDelayed     marketId  numberOfActiveRunners  numberOfRunners  \\\n",
       "0                 True  1.140977744                      2                2   \n",
       "5                 True  1.140978472                      2                2   \n",
       "4                 True  1.140978326                      2                2   \n",
       "\n",
       "   numberOfWinners                                            runners  \\\n",
       "0                1  [{'selectionId': 352102, 'handicap': 0.0, 'sta...   \n",
       "5                1  [{'selectionId': 5145595, 'handicap': 0.0, 'st...   \n",
       "4                1  [{'selectionId': 731888, 'handicap': 0.0, 'sta...   \n",
       "\n",
       "   runnersVoidable status  totalAvailable  totalMatched     version  \n",
       "0            False   OPEN             0.0           0.0  2095825034  \n",
       "5            False   OPEN             0.0           0.0  2095829565  \n",
       "4            False   OPEN             0.0           0.0  2095829069  "
      ]
     },
     "execution_count": 146,
     "metadata": {},
     "output_type": "execute_result"
    }
   ],
   "source": [
    "ncaa_market_book = bf.betting.list_market_book(market_ids=ncaa_market_catalogue.index)\n",
    "ncaa_market_book = pd.DataFrame(ncaa_market_book)\n",
    "print(ncaa_market_book.shape)\n",
    "ncaa_market_id = ncaa_market_book.sample().marketId\n",
    "ncaa_market_book.sample(3)"
   ]
  },
  {
   "cell_type": "code",
   "execution_count": 156,
   "metadata": {},
   "outputs": [
    {
     "name": "stdout",
     "output_type": "stream",
     "text": [
      "(10, 2)\n"
     ]
    },
    {
     "data": {
      "text/html": [
       "<div>\n",
       "<style scoped>\n",
       "    .dataframe tbody tr th:only-of-type {\n",
       "        vertical-align: middle;\n",
       "    }\n",
       "\n",
       "    .dataframe tbody tr th {\n",
       "        vertical-align: top;\n",
       "    }\n",
       "\n",
       "    .dataframe thead th {\n",
       "        text-align: right;\n",
       "    }\n",
       "</style>\n",
       "<table border=\"1\" class=\"dataframe\">\n",
       "  <thead>\n",
       "    <tr style=\"text-align: right;\">\n",
       "      <th></th>\n",
       "      <th>marketId</th>\n",
       "      <th>profitAndLosses</th>\n",
       "    </tr>\n",
       "  </thead>\n",
       "  <tbody>\n",
       "    <tr>\n",
       "      <th>2</th>\n",
       "      <td>1.140978035</td>\n",
       "      <td>[{'selectionId': 284246, 'ifWin': 0.0}, {'sele...</td>\n",
       "    </tr>\n",
       "    <tr>\n",
       "      <th>6</th>\n",
       "      <td>1.140978617</td>\n",
       "      <td>[{'selectionId': 5145582, 'ifWin': 0.0}, {'sel...</td>\n",
       "    </tr>\n",
       "    <tr>\n",
       "      <th>4</th>\n",
       "      <td>1.140978326</td>\n",
       "      <td>[{'selectionId': 731888, 'ifWin': 0.0}, {'sele...</td>\n",
       "    </tr>\n",
       "  </tbody>\n",
       "</table>\n",
       "</div>"
      ],
      "text/plain": [
       "      marketId                                    profitAndLosses\n",
       "2  1.140978035  [{'selectionId': 284246, 'ifWin': 0.0}, {'sele...\n",
       "6  1.140978617  [{'selectionId': 5145582, 'ifWin': 0.0}, {'sel...\n",
       "4  1.140978326  [{'selectionId': 731888, 'ifWin': 0.0}, {'sele..."
      ]
     },
     "execution_count": 156,
     "metadata": {},
     "output_type": "execute_result"
    }
   ],
   "source": [
    "ncaa_market_profit_and_loss = bf.betting.list_market_profit_and_loss(market_ids=ncaa_market_catalogue.index,\n",
    "                                                                     include_settled_bets=True)\n",
    "ncaa_market_profit_and_loss = pd.DataFrame(ncaa_market_profit_and_loss)\n",
    "print(ncaa_market_profit_and_loss.shape)\n",
    "ncaa_market_id = ncaa_market_profit_and_loss.sample().marketId\n",
    "ncaa_market_profit_and_loss.sample(3)"
   ]
  },
  {
   "cell_type": "code",
   "execution_count": 160,
   "metadata": {},
   "outputs": [
    {
     "data": {
      "text/plain": [
       "[{'ifWin': 0.0, 'selectionId': 728491}, {'ifWin': 0.0, 'selectionId': 723288}]"
      ]
     },
     "execution_count": 160,
     "metadata": {},
     "output_type": "execute_result"
    }
   ],
   "source": [
    "ncaa_market_profit_and_loss.sample().squeeze().profitAndLosses"
   ]
  }
 ],
 "metadata": {
  "kernelspec": {
   "display_name": "Python 3",
   "language": "python3",
   "name": "python3"
  }
 },
 "nbformat": 4,
 "nbformat_minor": 2
}
