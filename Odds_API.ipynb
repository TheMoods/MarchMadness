{
 "cells": [
  {
   "cell_type": "markdown",
   "metadata": {},
   "source": [
    "## Betfair"
   ]
  },
  {
   "cell_type": "code",
   "execution_count": 198,
   "metadata": {},
   "outputs": [
    {
     "name": "stdout",
     "output_type": "stream",
     "text": [
      "The autoreload extension is already loaded. To reload it, use:\n",
      "  %reload_ext autoreload\n"
     ]
    }
   ],
   "source": [
    "%load_ext autoreload\n",
    "%autoreload 2\n",
    "import os\n",
    "import numpy as np\n",
    "import pandas as pd\n",
    "import datetime as dt"
   ]
  },
  {
   "cell_type": "code",
   "execution_count": 201,
   "metadata": {},
   "outputs": [
    {
     "name": "stdout",
     "output_type": "stream",
     "text": [
      "(20, 5)\n"
     ]
    },
    {
     "data": {
      "text/html": [
       "<div>\n",
       "<style scoped>\n",
       "    .dataframe tbody tr th:only-of-type {\n",
       "        vertical-align: middle;\n",
       "    }\n",
       "\n",
       "    .dataframe tbody tr th {\n",
       "        vertical-align: top;\n",
       "    }\n",
       "\n",
       "    .dataframe thead th {\n",
       "        text-align: right;\n",
       "    }\n",
       "</style>\n",
       "<table border=\"1\" class=\"dataframe\">\n",
       "  <thead>\n",
       "    <tr style=\"text-align: right;\">\n",
       "      <th></th>\n",
       "      <th>handicap</th>\n",
       "      <th>runnerName</th>\n",
       "      <th>selectionId</th>\n",
       "      <th>sortPriority</th>\n",
       "      <th>runnerId</th>\n",
       "    </tr>\n",
       "    <tr>\n",
       "      <th>index</th>\n",
       "      <th></th>\n",
       "      <th></th>\n",
       "      <th></th>\n",
       "      <th></th>\n",
       "      <th></th>\n",
       "    </tr>\n",
       "  </thead>\n",
       "  <tbody>\n",
       "    <tr>\n",
       "      <th>1.141150141</th>\n",
       "      <td>0</td>\n",
       "      <td>Kansas State</td>\n",
       "      <td>701622</td>\n",
       "      <td>1</td>\n",
       "      <td>701622</td>\n",
       "    </tr>\n",
       "    <tr>\n",
       "      <th>1.141150576</th>\n",
       "      <td>0</td>\n",
       "      <td>Rhode Island</td>\n",
       "      <td>721613</td>\n",
       "      <td>2</td>\n",
       "      <td>721613</td>\n",
       "    </tr>\n",
       "    <tr>\n",
       "      <th>1.141150431</th>\n",
       "      <td>0</td>\n",
       "      <td>Georgia</td>\n",
       "      <td>332210</td>\n",
       "      <td>1</td>\n",
       "      <td>332210</td>\n",
       "    </tr>\n",
       "  </tbody>\n",
       "</table>\n",
       "</div>"
      ],
      "text/plain": [
       "            handicap    runnerName selectionId sortPriority runnerId\n",
       "index                                                               \n",
       "1.141150141        0  Kansas State      701622            1   701622\n",
       "1.141150576        0  Rhode Island      721613            2   721613\n",
       "1.141150431        0       Georgia      332210            1   332210"
      ]
     },
     "execution_count": 201,
     "metadata": {},
     "output_type": "execute_result"
    }
   ],
   "source": [
    "from src.bets.api import BetsAPI\n",
    "from betfairlightweight import APIClient\n",
    "uname = os.environ['betfair_username']\n",
    "pword = os.environ['betfair_password']\n",
    "key = os.environ['betfair_key']\n",
    "bf = APIClient(uname, pword, app_key=key,\n",
    "               certs='/Users/jonaspaulwestermann/Dev/marchmadness/certs',\n",
    "               locale='spain', lightweight=True)\n",
    "bets = BetsAPI(bf, league_name='NCAAB', bet_type='MATCH_ODDS', currency='EUR', allow_reload=False)\n",
    "print(bets.runners.shape)\n",
    "bets.runners.sample(3)"
   ]
  },
  {
   "cell_type": "code",
   "execution_count": 220,
   "metadata": {},
   "outputs": [
    {
     "data": {
      "text/plain": [
       "[{'handicap': 0.0, 'selectionId': 12304470, 'status': 'ACTIVE'},\n",
       " {'handicap': 0.0, 'selectionId': 705253, 'status': 'ACTIVE'}]"
      ]
     },
     "execution_count": 220,
     "metadata": {},
     "output_type": "execute_result"
    }
   ],
   "source": [
    "bets.mkt_book.sample().squeeze().runners"
   ]
  }
 ],
 "metadata": {
  "kernelspec": {
   "display_name": "Python 3",
   "language": "python3",
   "name": "python3"
  },
  "language_info": {
   "codemirror_mode": {
    "name": "ipython",
    "version": 3
   },
   "file_extension": ".py",
   "mimetype": "text/x-python",
   "name": "python",
   "nbconvert_exporter": "python",
   "pygments_lexer": "ipython3",
   "version": "3.6.2"
  }
 },
 "nbformat": 4,
 "nbformat_minor": 2
}
