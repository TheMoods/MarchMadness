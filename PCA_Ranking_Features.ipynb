{
 "cells": [
  {
   "cell_type": "code",
   "execution_count": 1,
   "metadata": {
    "collapsed": true
   },
   "outputs": [],
   "source": [
    "%load_ext autoreload\n",
    "%autoreload 2"
   ]
  },
  {
   "cell_type": "code",
   "execution_count": 6,
   "metadata": {
    "collapsed": true
   },
   "outputs": [],
   "source": [
    "import numpy as np\n",
    "from src.features.rankings import RankingFeatures\n",
    "from src.utils import load_data_template"
   ]
  },
  {
   "cell_type": "code",
   "execution_count": 3,
   "metadata": {},
   "outputs": [
    {
     "name": "stdout",
     "output_type": "stream",
     "text": [
      "(77615, 87)\n"
     ]
    },
    {
     "data": {
      "text/html": [
       "<div>\n",
       "<style scoped>\n",
       "    .dataframe tbody tr th:only-of-type {\n",
       "        vertical-align: middle;\n",
       "    }\n",
       "\n",
       "    .dataframe tbody tr th {\n",
       "        vertical-align: top;\n",
       "    }\n",
       "\n",
       "    .dataframe thead th {\n",
       "        text-align: right;\n",
       "    }\n",
       "</style>\n",
       "<table border=\"1\" class=\"dataframe\">\n",
       "  <thead>\n",
       "    <tr style=\"text-align: right;\">\n",
       "      <th></th>\n",
       "      <th>Season</th>\n",
       "      <th>team_a</th>\n",
       "      <th>team_b</th>\n",
       "      <th>in_target</th>\n",
       "      <th>game_set</th>\n",
       "      <th>a_win</th>\n",
       "      <th>DayNum</th>\n",
       "      <th>PC1_team_a</th>\n",
       "      <th>PC2_team_a</th>\n",
       "      <th>PC3_team_a</th>\n",
       "      <th>...</th>\n",
       "      <th>PC11_team_b_lag-1</th>\n",
       "      <th>PC12_team_b_lag-1</th>\n",
       "      <th>PC13_team_b_lag-1</th>\n",
       "      <th>PC14_team_b_lag-1</th>\n",
       "      <th>PC15_team_b_lag-1</th>\n",
       "      <th>PC16_team_b_lag-1</th>\n",
       "      <th>PC17_team_b_lag-1</th>\n",
       "      <th>PC18_team_b_lag-1</th>\n",
       "      <th>PC19_team_b_lag-1</th>\n",
       "      <th>PC20_team_b_lag-1</th>\n",
       "    </tr>\n",
       "  </thead>\n",
       "  <tbody>\n",
       "    <tr>\n",
       "      <th>148691</th>\n",
       "      <td>2015</td>\n",
       "      <td>1276</td>\n",
       "      <td>1326</td>\n",
       "      <td>False</td>\n",
       "      <td>1</td>\n",
       "      <td>True</td>\n",
       "      <td>111</td>\n",
       "      <td>274.93248</td>\n",
       "      <td>-144.872737</td>\n",
       "      <td>-71.745162</td>\n",
       "      <td>...</td>\n",
       "      <td>-3.532979</td>\n",
       "      <td>-14.913722</td>\n",
       "      <td>4.378104</td>\n",
       "      <td>-18.264476</td>\n",
       "      <td>-1.145399</td>\n",
       "      <td>-21.530255</td>\n",
       "      <td>7.338276</td>\n",
       "      <td>-5.534678</td>\n",
       "      <td>21.234965</td>\n",
       "      <td>-11.276811</td>\n",
       "    </tr>\n",
       "  </tbody>\n",
       "</table>\n",
       "<p>1 rows × 87 columns</p>\n",
       "</div>"
      ],
      "text/plain": [
       "        Season team_a team_b  in_target  game_set a_win  DayNum  PC1_team_a  \\\n",
       "148691    2015   1276   1326      False         1  True     111   274.93248   \n",
       "\n",
       "        PC2_team_a  PC3_team_a        ...          PC11_team_b_lag-1  \\\n",
       "148691 -144.872737  -71.745162        ...                  -3.532979   \n",
       "\n",
       "        PC12_team_b_lag-1  PC13_team_b_lag-1  PC14_team_b_lag-1  \\\n",
       "148691         -14.913722           4.378104         -18.264476   \n",
       "\n",
       "        PC15_team_b_lag-1  PC16_team_b_lag-1  PC17_team_b_lag-1  \\\n",
       "148691          -1.145399         -21.530255           7.338276   \n",
       "\n",
       "        PC18_team_b_lag-1  PC19_team_b_lag-1  PC20_team_b_lag-1  \n",
       "148691          -5.534678          21.234965         -11.276811  \n",
       "\n",
       "[1 rows x 87 columns]"
      ]
     },
     "execution_count": 3,
     "metadata": {},
     "output_type": "execute_result"
    }
   ],
   "source": [
    "data = load_data_template(season=True)\n",
    "data.dropna(subset=['a_win'], inplace=True)\n",
    "rank_feat = RankingFeatures(default_lags=1)\n",
    "data = rank_feat.per_team_wrapper(data, rank_feat.pca_variables_rankings, per_game=False, per_day=True)\n",
    "data.dropna(inplace=True)\n",
    "print(data.shape)\n",
    "data.sample()"
   ]
  },
  {
   "cell_type": "code",
   "execution_count": 7,
   "metadata": {},
   "outputs": [
    {
     "name": "stdout",
     "output_type": "stream",
     "text": [
      "Metric Mean: 0.57 (0.00)\n"
     ]
    }
   ],
   "source": [
    "from xgboost import XGBClassifier\n",
    "from sklearn.model_selection import KFold\n",
    "from sklearn.metrics import log_loss\n",
    "\n",
    "\n",
    "X = data.drop(['Season', 'team_a', 'team_b', 'a_win', 'in_target', 'DayNum'], axis=1)\n",
    "y = data[['a_win']].astype(int)\n",
    "\n",
    "kf = KFold(n_splits=5, shuffle=True)\n",
    "metrics = []\n",
    "for tr_i, t_i in kf.split(X):\n",
    "    X_tr, y_tr = X.iloc[tr_i], y.iloc[tr_i]\n",
    "    X_t, y_t = X.iloc[t_i], y.iloc[t_i]\n",
    "    xgb = XGBClassifier()\n",
    "    xgb.fit(X_tr.values, y_tr.values.reshape(-1))\n",
    "    preds = xgb.predict_proba(X_t.values)\n",
    "    metric = log_loss(y_t.values, preds)\n",
    "    print(metric)\n",
    "    metrics.append(metric)\n",
    "    \n",
    "print('Metric Mean: {:.2f} ({:.2f})'.format(np.mean(metrics), np.std(metrics)))"
   ]
  },
  {
   "cell_type": "code",
   "execution_count": null,
   "metadata": {
    "collapsed": true
   },
   "outputs": [],
   "source": []
  }
 ],
 "metadata": {
  "kernelspec": {
   "display_name": "Python 3",
   "language": "python3",
   "name": "python3"
  },
  "language_info": {
   "codemirror_mode": {
    "name": "ipython",
    "version": 3
   },
   "file_extension": ".py",
   "mimetype": "text/x-python",
   "name": "python",
   "nbconvert_exporter": "python",
   "pygments_lexer": "ipython3",
   "version": "3.6.2"
  }
 },
 "nbformat": 4,
 "nbformat_minor": 2
}
