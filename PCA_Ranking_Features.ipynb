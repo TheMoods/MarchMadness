{
 "cells": [
  {
   "cell_type": "code",
   "execution_count": 333,
   "metadata": {},
   "outputs": [
    {
     "name": "stdout",
     "output_type": "stream",
     "text": [
      "The autoreload extension is already loaded. To reload it, use:\n",
      "  %reload_ext autoreload\n"
     ]
    }
   ],
   "source": [
    "%load_ext autoreload\n",
    "%autoreload 2"
   ]
  },
  {
   "cell_type": "code",
   "execution_count": 334,
   "metadata": {
    "collapsed": true
   },
   "outputs": [],
   "source": [
    "from src.features.rankings import RankingFeatures\n",
    "from src.utils import load_data_template"
   ]
  },
  {
   "cell_type": "code",
   "execution_count": 335,
   "metadata": {},
   "outputs": [
    {
     "name": "stdout",
     "output_type": "stream",
     "text": [
      "(981, 87)\n"
     ]
    },
    {
     "data": {
      "text/html": [
       "<div>\n",
       "<style scoped>\n",
       "    .dataframe tbody tr th:only-of-type {\n",
       "        vertical-align: middle;\n",
       "    }\n",
       "\n",
       "    .dataframe tbody tr th {\n",
       "        vertical-align: top;\n",
       "    }\n",
       "\n",
       "    .dataframe thead th {\n",
       "        text-align: right;\n",
       "    }\n",
       "</style>\n",
       "<table border=\"1\" class=\"dataframe\">\n",
       "  <thead>\n",
       "    <tr style=\"text-align: right;\">\n",
       "      <th></th>\n",
       "      <th>Season</th>\n",
       "      <th>team_a</th>\n",
       "      <th>team_b</th>\n",
       "      <th>in_target</th>\n",
       "      <th>game_set</th>\n",
       "      <th>a_win</th>\n",
       "      <th>DayNum</th>\n",
       "      <th>PC1_team_a</th>\n",
       "      <th>PC2_team_a</th>\n",
       "      <th>PC3_team_a</th>\n",
       "      <th>...</th>\n",
       "      <th>PC11_team_b_lag-1</th>\n",
       "      <th>PC12_team_b_lag-1</th>\n",
       "      <th>PC13_team_b_lag-1</th>\n",
       "      <th>PC14_team_b_lag-1</th>\n",
       "      <th>PC15_team_b_lag-1</th>\n",
       "      <th>PC16_team_b_lag-1</th>\n",
       "      <th>PC17_team_b_lag-1</th>\n",
       "      <th>PC18_team_b_lag-1</th>\n",
       "      <th>PC19_team_b_lag-1</th>\n",
       "      <th>PC20_team_b_lag-1</th>\n",
       "    </tr>\n",
       "  </thead>\n",
       "  <tbody>\n",
       "    <tr>\n",
       "      <th>10263</th>\n",
       "      <td>2003</td>\n",
       "      <td>1173</td>\n",
       "      <td>1409</td>\n",
       "      <td>False</td>\n",
       "      <td>0</td>\n",
       "      <td>False</td>\n",
       "      <td>136</td>\n",
       "      <td>-233.924592</td>\n",
       "      <td>-6.133105</td>\n",
       "      <td>-16.823198</td>\n",
       "      <td>...</td>\n",
       "      <td>-1.87504</td>\n",
       "      <td>-31.444577</td>\n",
       "      <td>30.043971</td>\n",
       "      <td>-29.867701</td>\n",
       "      <td>-26.371367</td>\n",
       "      <td>9.806716</td>\n",
       "      <td>10.088343</td>\n",
       "      <td>7.660619</td>\n",
       "      <td>-18.572966</td>\n",
       "      <td>-14.692247</td>\n",
       "    </tr>\n",
       "  </tbody>\n",
       "</table>\n",
       "<p>1 rows × 87 columns</p>\n",
       "</div>"
      ],
      "text/plain": [
       "       Season team_a team_b  in_target  game_set  a_win  DayNum  PC1_team_a  \\\n",
       "10263    2003   1173   1409      False         0  False     136 -233.924592   \n",
       "\n",
       "       PC2_team_a  PC3_team_a        ...          PC11_team_b_lag-1  \\\n",
       "10263   -6.133105  -16.823198        ...                   -1.87504   \n",
       "\n",
       "       PC12_team_b_lag-1  PC13_team_b_lag-1  PC14_team_b_lag-1  \\\n",
       "10263         -31.444577          30.043971         -29.867701   \n",
       "\n",
       "       PC15_team_b_lag-1  PC16_team_b_lag-1  PC17_team_b_lag-1  \\\n",
       "10263         -26.371367           9.806716          10.088343   \n",
       "\n",
       "       PC18_team_b_lag-1  PC19_team_b_lag-1  PC20_team_b_lag-1  \n",
       "10263           7.660619         -18.572966         -14.692247  \n",
       "\n",
       "[1 rows x 87 columns]"
      ]
     },
     "execution_count": 335,
     "metadata": {},
     "output_type": "execute_result"
    }
   ],
   "source": [
    "data = load_data_template(season=False)\n",
    "data.dropna(subset=['a_win'], inplace=True)\n",
    "rank_feat = RankingFeatures(default_lags=1)\n",
    "data = rank_feat.per_team_wrapper(data, rank_feat.pca_variables_rankings, per_game=False, per_day=True)\n",
    "data.dropna(inplace=True)\n",
    "print(data.shape)\n",
    "data.sample()"
   ]
  },
  {
   "cell_type": "code",
   "execution_count": 337,
   "metadata": {},
   "outputs": [
    {
     "name": "stdout",
     "output_type": "stream",
     "text": [
      "0.5690231582854265\n",
      "0.6568035867126962\n",
      "0.5254022798700524\n",
      "0.5944301750681991\n",
      "0.5863286301455631\n",
      "Metric Mean: 0.59 (0.04)\n"
     ]
    }
   ],
   "source": [
    "from xgboost import XGBClassifier\n",
    "from sklearn.model_selection import KFold\n",
    "from sklearn.metrics import log_loss\n",
    "\n",
    "\n",
    "X = data.drop(['Season', 'team_a', 'team_b', 'a_win', 'in_target', 'DayNum'], axis=1)\n",
    "y = data[['a_win']].astype(int)\n",
    "\n",
    "kf = KFold(n_splits=5, shuffle=True)\n",
    "metrics = []\n",
    "for tr_i, t_i in kf.split(X):\n",
    "    X_tr, y_tr = X.iloc[tr_i], y.iloc[tr_i]\n",
    "    X_t, y_t = X.iloc[t_i], y.iloc[t_i]\n",
    "    xgb = XGBClassifier()\n",
    "    xgb.fit(X_tr.values, y_tr.values.reshape(-1))\n",
    "    preds = xgb.predict_proba(X_t.values)\n",
    "    metric = log_loss(y_t.values, preds)\n",
    "    print(metric)\n",
    "    metrics.append(metric)\n",
    "    \n",
    "print('Metric Mean: {:.2f} ({:.2f})'.format(np.mean(metrics), np.std(metrics)))"
   ]
  },
  {
   "cell_type": "code",
   "execution_count": null,
   "metadata": {
    "collapsed": true
   },
   "outputs": [],
   "source": []
  }
 ],
 "metadata": {
  "kernelspec": {
   "display_name": "Python 3",
   "language": "python3",
   "name": "python3"
  }
 },
 "nbformat": 4,
 "nbformat_minor": 2
}
